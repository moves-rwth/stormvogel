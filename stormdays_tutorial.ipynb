{
  "cells": [
    {
      "cell_type": "markdown",
      "id": "0b26d2ff-3141-4ac5-b164-537c6f23af72",
      "metadata": {},
      "source": [
        "# Stormdays Tutorial"
      ]
    },
    {
      "cell_type": "code",
      "execution_count": 1,
      "id": "2fb9428e-c115-4cf0-a083-aa5b58896c53",
      "metadata": {},
      "outputs": [
        {
          "data": {
            "application/vnd.jupyter.widget-view+json": {
              "model_id": "630f91cee6e342b6adf5cf548b7dd091",
              "version_major": 2,
              "version_minor": 0
            },
            "text/plain": [
              "Output()"
            ]
          },
          "metadata": {},
          "output_type": "display_data"
        },
        {
          "data": {
            "text/html": [
              "<script>\n",
              "function return_id_result(url, id, data) {\n",
              "        fetch(url, {\n",
              "            method: 'POST',\n",
              "            body: JSON.stringify({\n",
              "                'id': id,\n",
              "                'data': data\n",
              "            })\n",
              "        })\n",
              "    }\n",
              "</script>"
            ],
            "text/plain": [
              "<IPython.core.display.HTML object>"
            ]
          },
          "metadata": {},
          "output_type": "display_data"
        },
        {
          "data": {
            "application/javascript": [
              "return_id_result('http://127.0.0.1:8891', 'YYmTHCrDFynoZULKBsWG', 'test message')"
            ],
            "text/plain": [
              "<IPython.core.display.Javascript object>"
            ]
          },
          "metadata": {},
          "output_type": "display_data"
        },
        {
          "data": {
            "application/vnd.jupyter.widget-view+json": {
              "model_id": "369c5783d5e24628bd711dbf20a9b646",
              "version_major": 2,
              "version_minor": 0
            },
            "text/plain": [
              "Output()"
            ]
          },
          "metadata": {},
          "output_type": "display_data"
        },
        {
          "data": {
            "text/html": [
              "\n",
              "<!DOCTYPE html>\n",
              "<html lang=\"en\">\n",
              "  <head>\n",
              "    <title>Network</title>\n",
              "    <script\n",
              "      type=\"text/javascript\"\n",
              "      src=\"https://unpkg.com/vis-network/standalone/umd/vis-network.min.js\"\n",
              "    ></script>\n",
              "    <style type=\"text/css\">\n",
              "      #modelNwrdAzeghp {\n",
              "        width: 800px;\n",
              "        height: 600px;\n",
              "        border: 1px solid lightgray;\n",
              "      }\n",
              "    </style>\n",
              "  </head>\n",
              "  <body>\n",
              "    <div id=\"modelNwrdAzeghp\"></div>\n",
              "    <script type=\"text/javascript\">\n",
              "        \n",
              "class NetworkWrapper_modelNwrdAzeghp{//js\n",
              "  constructor(nodes, edges, options, container) {\n",
              "    this.nodes = nodes;\n",
              "    this.edges = edges;\n",
              "    this.options = options;\n",
              "    this.container = container;\n",
              "    this.data = {\n",
              "      nodes: nodes,\n",
              "      edges: edges,\n",
              "    };\n",
              "    this.network = new vis.Network(container, this.data, options);\n",
              "    var this_ = this; // Events will not work if you use 'this' directly :))))) No idea why.\n",
              "\n",
              "    // Set user-triggered events.\n",
              "    this.network.on( 'click', function(properties) {\n",
              "      var nodeId = this_.network.getNodeAt({x:properties.event.srcEvent.offsetX, y:properties.event.srcEvent.offsetY});\n",
              "      this_.makeNeighborsVisible(nodeId);\n",
              "    });\n",
              "    this.network.on( 'doubleClick', function(properties) {\n",
              "        this_.network.setData(this_.data);\n",
              "    });\n",
              "  }\n",
              "\n",
              "  setNodeColor(id, color) {\n",
              "    var node = this.nodes.get(id);\n",
              "    node[\"x\"] = this.network.getPosition(id)[\"x\"];\n",
              "    node[\"y\"] = this.network.getPosition(id)[\"y\"];\n",
              "    node[\"color\"] = color;\n",
              "    this.nodes.update(node);\n",
              "  }\n",
              "\n",
              "  makeNeighborsVisible(homeId) {\n",
              "    if (homeId === undefined) {\n",
              "      return;\n",
              "    }\n",
              "    var homeNode = this.nodes.get(homeId);\n",
              "\n",
              "    // Make outgoing nodes visible\n",
              "    var nodeIds = this.network.getConnectedNodes(homeId, \"to\");\n",
              "    for (let i = 0; i < nodeIds.length; i++) {\n",
              "      var toNodeId = nodeIds[i];\n",
              "      var toNode = this.nodes.get(toNodeId);\n",
              "      if (toNode[\"hidden\"]) {\n",
              "        toNode[\"hidden\"] = false;\n",
              "        toNode[\"physics\"] = true;\n",
              "        toNode[\"x\"] = this.network.getPosition(homeId)[\"x\"];\n",
              "        toNode[\"y\"] = this.network.getPosition(homeId)[\"y\"];\n",
              "        this.nodes.update(toNode);\n",
              "      }\n",
              "    }\n",
              "    // Make edges visible, if both of the nodes are also visible\n",
              "    var edgeIds = this.network.getConnectedEdges(homeId);\n",
              "    for (let i = 0; i < edgeIds.length; i++) {\n",
              "      var edgeId = edgeIds[i];\n",
              "      var edge = this.edges.get(edgeId);\n",
              "      var fromNode = this.nodes.get(edge.from);\n",
              "      var toNode = this.nodes.get(edge.to);\n",
              "      if ((! fromNode[\"hidden\"]) && (! toNode[\"hidden\"])) {\n",
              "        edge[\"hidden\"] = false;\n",
              "        edge[\"physics\"] = true;\n",
              "        this.edges.update(edge);\n",
              "      }\n",
              "    }\n",
              "  }\n",
              "};\n",
              "\n",
              "    </script>\n",
              "    <script type=\"text/javascript\">\n",
              "        //js\n",
              "    var nodes_local = new vis.DataSet([{ id: 0, label: `init`, group: \"states\" },\n",
              "{ id: 1, label: `studied\n",
              "\u20ac\tr1: 0`, group: \"states\" },\n",
              "{ id: 2, label: `didn't study\n",
              "\u20ac\tr1: 15`, group: \"states\" },\n",
              "{ id: 3, label: `pass test\n",
              "\u20ac\tr1: 100`, group: \"states\" },\n",
              "{ id: 4, label: `fail test\n",
              "\u20ac\tr1: 0`, group: \"states\" },\n",
              "{ id: 5, label: `end\n",
              "\u20ac\tr1: 0`, group: \"states\" },\n",
              "{ id: 10000000000, label: `study\n",
              "\u20ac\tr1: 0`, group: \"actions\" },\n",
              "{ id: 10000000001, label: `don't study\n",
              "\u20ac\tr1: 0`, group: \"actions\" },\n",
              "]);\n",
              "    var edges_local = new vis.DataSet([{ from: 0, to: 10000000000 },\n",
              "{ from: 10000000000, to: 1, label: \"1\" },\n",
              "{ from: 0, to: 10000000001 },\n",
              "{ from: 10000000001, to: 2, label: \"1\" },\n",
              "{ from: 1, to: 3, label: \"9/10\" },\n",
              "{ from: 1, to: 4, label: \"1/10\" },\n",
              "{ from: 2, to: 3, label: \"2/5\" },\n",
              "{ from: 2, to: 4, label: \"3/5\" },\n",
              "{ from: 3, to: 5, label: \"1\" },\n",
              "{ from: 4, to: 5, label: \"1\" },\n",
              "{ from: 5, to: 5, label: \"1\" },\n",
              "]);\n",
              "    var options_local = {\n",
              "  \"__fake_macros\": {\n",
              "    \"__group_macro\": {\n",
              "      \"borderWidth\": 1,\n",
              "      \"color\": {\n",
              "        \"background\": \"white\",\n",
              "        \"border\": \"black\",\n",
              "        \"highlight\": {\n",
              "          \"background\": \"white\",\n",
              "          \"border\": \"red\"\n",
              "        }\n",
              "      },\n",
              "      \"shape\": \"ellipse\",\n",
              "      \"mass\": 1,\n",
              "      \"font\": {\n",
              "        \"color\": \"black\",\n",
              "        \"size\": 14\n",
              "      }\n",
              "    }\n",
              "  },\n",
              "  \"edit_groups\": {\n",
              "    \"groups\": [\n",
              "      \"states\",\n",
              "      \"actions\"\n",
              "    ]\n",
              "  },\n",
              "  \"groups\": {\n",
              "    \"actions\": {\n",
              "      \"borderWidth\": 1,\n",
              "      \"color\": {\n",
              "        \"background\": \"lightblue\",\n",
              "        \"border\": \"black\",\n",
              "        \"highlight\": {\n",
              "          \"background\": \"white\",\n",
              "          \"border\": \"red\"\n",
              "        }\n",
              "      },\n",
              "      \"shape\": \"box\",\n",
              "      \"mass\": 1,\n",
              "      \"font\": {\n",
              "        \"color\": \"black\",\n",
              "        \"size\": 14\n",
              "      }\n",
              "    },\n",
              "    \"scheduled_actions\": {\n",
              "      \"shape\": \"box\",\n",
              "      \"color\": {\n",
              "        \"background\": \"pink\",\n",
              "        \"border\": \"red\"\n",
              "      }\n",
              "    },\n",
              "    \"states\": {\n",
              "      \"borderWidth\": 1,\n",
              "      \"color\": {\n",
              "        \"background\": \"white\",\n",
              "        \"border\": \"black\",\n",
              "        \"highlight\": {\n",
              "          \"background\": \"white\",\n",
              "          \"border\": \"red\"\n",
              "        }\n",
              "      },\n",
              "      \"shape\": \"ellipse\",\n",
              "      \"mass\": 1,\n",
              "      \"font\": {\n",
              "        \"color\": \"black\",\n",
              "        \"size\": 14\n",
              "      }\n",
              "    }\n",
              "  },\n",
              "  \"reload_button\": false,\n",
              "  \"edges\": {\n",
              "    \"arrows\": \"to\",\n",
              "    \"font\": {\n",
              "      \"color\": \"black\",\n",
              "      \"size\": 14,\n",
              "      \"strokeColor\": \"white\",\n",
              "      \"strokeWidth\": 2\n",
              "    },\n",
              "    \"color\": {\n",
              "      \"color\": \"black\"\n",
              "    },\n",
              "    \"width\": 1\n",
              "  },\n",
              "  \"numbers\": {\n",
              "    \"fractions\": true,\n",
              "    \"digits\": 5\n",
              "  },\n",
              "  \"state_properties\": {\n",
              "    \"show_results\": true,\n",
              "    \"result_symbol\": \"\\u2606\",\n",
              "    \"show_rewards\": true,\n",
              "    \"reward_symbol\": \"\\u20ac\",\n",
              "    \"show_zero_rewards\": true,\n",
              "    \"show_observations\": true,\n",
              "    \"observation_symbol\": \"\\u0298\"\n",
              "  },\n",
              "  \"layout\": {\n",
              "    \"randomSeed\": 5\n",
              "  },\n",
              "  \"misc\": {\n",
              "    \"enable_physics\": true,\n",
              "    \"width\": 800,\n",
              "    \"height\": 600,\n",
              "    \"explore\": false\n",
              "  },\n",
              "  \"saving\": {\n",
              "    \"relative_path\": true,\n",
              "    \"filename\": \"layouts/NAME.json\",\n",
              "    \"save_button\": false,\n",
              "    \"load_button\": false\n",
              "  },\n",
              "  \"positions\": {},\n",
              "  \"physics\": true,\n",
              "  \"autoResize\": true\n",
              "};\n",
              "    var container_local = document.getElementById(\"modelNwrdAzeghp\");\n",
              "    var nw_modelNwrdAzeghp = new NetworkWrapper_modelNwrdAzeghp(nodes_local, edges_local, options_local, container_local)\n",
              "    \n",
              "    </script>\n",
              "  </body>\n",
              "</html>\n"
            ],
            "text/plain": [
              "<IPython.core.display.HTML object>"
            ]
          },
          "metadata": {},
          "output_type": "display_data"
        }
      ],
      "source": [
        "from stormvogel import *\n",
        "\n",
        "init = \"init\"\n",
        "\n",
        "def available_actions(s: str):\n",
        "    if s == \"init\": # If we are in the initial state, we have a choice.\n",
        "        return [pgc.Action([\"study\"]), pgc.Action([\"don't study\"])]\n",
        "    else: # Otherwise, we don't have any choice, we are just a Markov chain. \n",
        "        return [pgc.Action([])]\n",
        "\n",
        "def delta(s: str, a: pgc.Action):\n",
        "    if \"study\" in a.labels:\n",
        "        return [(1, \"studied\")]\n",
        "    elif \"don't study\" in a.labels:\n",
        "        return [(1, \"didn't study\")]\n",
        "    elif s == \"studied\":\n",
        "        return [(9/10, \"pass test\"), (1/10, \"fail test\")]\n",
        "    elif s == \"didn't study\":\n",
        "        return [(2/5, \"pass test\"), (3/5, \"fail test\")]\n",
        "    else:\n",
        "        return [(1, \"end\")]\n",
        "\n",
        "def labels(s):\n",
        "    return [s]\n",
        "\n",
        "# For rewards, you have to provide a list. This enables multiple reward models if you use a non-singleton list.\n",
        "def rewards(s: str, a: pgc.Action):\n",
        "    if s == \"pass test\":\n",
        "        return {\"r1\":100}\n",
        "    if s == \"didn't study\":\n",
        "        return {\"r1\":15}\n",
        "    else:\n",
        "        return {\"r1\":0}\n",
        "\n",
        "pgc_study = pgc.build_pgc(\n",
        "    delta=delta,\n",
        "    initial_state_pgc=init,\n",
        "    available_actions=available_actions,\n",
        "    labels=labels,\n",
        "    modeltype=ModelType.MDP,\n",
        "    rewards=rewards\n",
        ")\n",
        "vis = show(pgc_study)"
      ]
    },
    {
      "cell_type": "code",
      "execution_count": 5,
      "id": "d7d572e1-c86f-4501-912d-b360af862f44",
      "metadata": {},
      "outputs": [],
      "source": [
        "from stormvogel.model_checking import model_checking"
      ]
    },
    {
      "cell_type": "code",
      "execution_count": 6,
      "id": "6695d840-829d-41cb-a1fb-4ff5b00606d7",
      "metadata": {},
      "outputs": [],
      "source": [
        "result = model_checking(pgc_study, \"Rmax=? [F \\\"end\\\"]\", scheduler=True)"
      ]
    },
    {
      "cell_type": "code",
      "execution_count": 7,
      "id": "d6f8df42-b2e6-4118-8ff7-64752a19b1b7",
      "metadata": {},
      "outputs": [
        {
          "data": {
            "application/vnd.jupyter.widget-view+json": {
              "model_id": "5d1577f0aac2412fabf080e0bf865a52",
              "version_major": 2,
              "version_minor": 0
            },
            "text/plain": [
              "Output()"
            ]
          },
          "metadata": {},
          "output_type": "display_data"
        },
        {
          "data": {
            "application/vnd.jupyter.widget-view+json": {
              "model_id": "d5b5070bbffe4d90afa18c4e3a1779fa",
              "version_major": 2,
              "version_minor": 0
            },
            "text/plain": [
              "Output()"
            ]
          },
          "metadata": {},
          "output_type": "display_data"
        },
        {
          "data": {
            "text/html": [
              "\n",
              "<!DOCTYPE html>\n",
              "<html lang=\"en\">\n",
              "  <head>\n",
              "    <title>Network</title>\n",
              "    <script\n",
              "      type=\"text/javascript\"\n",
              "      src=\"https://unpkg.com/vis-network/standalone/umd/vis-network.min.js\"\n",
              "    ></script>\n",
              "    <style type=\"text/css\">\n",
              "      #modelRrstuufmxh {\n",
              "        width: 800px;\n",
              "        height: 600px;\n",
              "        border: 1px solid lightgray;\n",
              "      }\n",
              "    </style>\n",
              "  </head>\n",
              "  <body>\n",
              "    <div id=\"modelRrstuufmxh\"></div>\n",
              "    <script type=\"text/javascript\">\n",
              "        \n",
              "class NetworkWrapper_modelRrstuufmxh{//js\n",
              "  constructor(nodes, edges, options, container) {\n",
              "    this.nodes = nodes;\n",
              "    this.edges = edges;\n",
              "    this.options = options;\n",
              "    this.container = container;\n",
              "    this.data = {\n",
              "      nodes: nodes,\n",
              "      edges: edges,\n",
              "    };\n",
              "    this.network = new vis.Network(container, this.data, options);\n",
              "    var this_ = this; // Events will not work if you use 'this' directly :))))) No idea why.\n",
              "\n",
              "    // Set user-triggered events.\n",
              "    this.network.on( 'click', function(properties) {\n",
              "      var nodeId = this_.network.getNodeAt({x:properties.event.srcEvent.offsetX, y:properties.event.srcEvent.offsetY});\n",
              "      this_.makeNeighborsVisible(nodeId);\n",
              "    });\n",
              "    this.network.on( 'doubleClick', function(properties) {\n",
              "        this_.network.setData(this_.data);\n",
              "    });\n",
              "  }\n",
              "\n",
              "  setNodeColor(id, color) {\n",
              "    var node = this.nodes.get(id);\n",
              "    node[\"x\"] = this.network.getPosition(id)[\"x\"];\n",
              "    node[\"y\"] = this.network.getPosition(id)[\"y\"];\n",
              "    node[\"color\"] = color;\n",
              "    this.nodes.update(node);\n",
              "  }\n",
              "\n",
              "  makeNeighborsVisible(homeId) {\n",
              "    if (homeId === undefined) {\n",
              "      return;\n",
              "    }\n",
              "    var homeNode = this.nodes.get(homeId);\n",
              "\n",
              "    // Make outgoing nodes visible\n",
              "    var nodeIds = this.network.getConnectedNodes(homeId, \"to\");\n",
              "    for (let i = 0; i < nodeIds.length; i++) {\n",
              "      var toNodeId = nodeIds[i];\n",
              "      var toNode = this.nodes.get(toNodeId);\n",
              "      if (toNode[\"hidden\"]) {\n",
              "        toNode[\"hidden\"] = false;\n",
              "        toNode[\"physics\"] = true;\n",
              "        toNode[\"x\"] = this.network.getPosition(homeId)[\"x\"];\n",
              "        toNode[\"y\"] = this.network.getPosition(homeId)[\"y\"];\n",
              "        this.nodes.update(toNode);\n",
              "      }\n",
              "    }\n",
              "    // Make edges visible, if both of the nodes are also visible\n",
              "    var edgeIds = this.network.getConnectedEdges(homeId);\n",
              "    for (let i = 0; i < edgeIds.length; i++) {\n",
              "      var edgeId = edgeIds[i];\n",
              "      var edge = this.edges.get(edgeId);\n",
              "      var fromNode = this.nodes.get(edge.from);\n",
              "      var toNode = this.nodes.get(edge.to);\n",
              "      if ((! fromNode[\"hidden\"]) && (! toNode[\"hidden\"])) {\n",
              "        edge[\"hidden\"] = false;\n",
              "        edge[\"physics\"] = true;\n",
              "        this.edges.update(edge);\n",
              "      }\n",
              "    }\n",
              "  }\n",
              "};\n",
              "\n",
              "    </script>\n",
              "    <script type=\"text/javascript\">\n",
              "        //js\n",
              "    var nodes_local = new vis.DataSet([{ id: 0, label: `init\n",
              "\u2606 90`, group: \"states\" },\n",
              "{ id: 1, label: `studied\n",
              "\u20ac\tr1: 0\n",
              "\u2606 90`, group: \"states\" },\n",
              "{ id: 2, label: `didn't study\n",
              "\u20ac\tr1: 15\n",
              "\u2606 55`, group: \"states\" },\n",
              "{ id: 3, label: `pass test\n",
              "\u20ac\tr1: 100\n",
              "\u2606 100`, group: \"states\" },\n",
              "{ id: 4, label: `fail test\n",
              "\u20ac\tr1: 0\n",
              "\u2606 0`, group: \"states\" },\n",
              "{ id: 5, label: `end\n",
              "\u20ac\tr1: 0\n",
              "\u2606 0`, group: \"states\" },\n",
              "{ id: 10000000000, label: `study\n",
              "\u20ac\tr1: 0`, group: \"scheduled_actions\" },\n",
              "{ id: 10000000001, label: `don't study\n",
              "\u20ac\tr1: 0`, group: \"actions\" },\n",
              "]);\n",
              "    var edges_local = new vis.DataSet([{ from: 0, to: 10000000000, color: \"red\" },\n",
              "{ from: 10000000000, to: 1, label: \"1\", color: \"red\" },\n",
              "{ from: 0, to: 10000000001 },\n",
              "{ from: 10000000001, to: 2, label: \"1\" },\n",
              "{ from: 1, to: 3, label: \"9/10\" },\n",
              "{ from: 1, to: 4, label: \"1/10\" },\n",
              "{ from: 2, to: 3, label: \"2/5\" },\n",
              "{ from: 2, to: 4, label: \"3/5\" },\n",
              "{ from: 3, to: 5, label: \"1\" },\n",
              "{ from: 4, to: 5, label: \"1\" },\n",
              "{ from: 5, to: 5, label: \"1\" },\n",
              "]);\n",
              "    var options_local = {\n",
              "  \"__fake_macros\": {\n",
              "    \"__group_macro\": {\n",
              "      \"borderWidth\": 1,\n",
              "      \"color\": {\n",
              "        \"background\": \"white\",\n",
              "        \"border\": \"black\",\n",
              "        \"highlight\": {\n",
              "          \"background\": \"white\",\n",
              "          \"border\": \"red\"\n",
              "        }\n",
              "      },\n",
              "      \"shape\": \"ellipse\",\n",
              "      \"mass\": 1,\n",
              "      \"font\": {\n",
              "        \"color\": \"black\",\n",
              "        \"size\": 14\n",
              "      }\n",
              "    }\n",
              "  },\n",
              "  \"edit_groups\": {\n",
              "    \"groups\": [\n",
              "      \"states\",\n",
              "      \"actions\",\n",
              "      \"scheduled_actions\"\n",
              "    ]\n",
              "  },\n",
              "  \"groups\": {\n",
              "    \"actions\": {\n",
              "      \"borderWidth\": 1,\n",
              "      \"color\": {\n",
              "        \"background\": \"lightblue\",\n",
              "        \"border\": \"black\",\n",
              "        \"highlight\": {\n",
              "          \"background\": \"white\",\n",
              "          \"border\": \"red\"\n",
              "        }\n",
              "      },\n",
              "      \"shape\": \"box\",\n",
              "      \"mass\": 1,\n",
              "      \"font\": {\n",
              "        \"color\": \"black\",\n",
              "        \"size\": 14\n",
              "      }\n",
              "    },\n",
              "    \"scheduled_actions\": {\n",
              "      \"borderWidth\": 1,\n",
              "      \"color\": {\n",
              "        \"background\": \"pink\",\n",
              "        \"border\": \"red\",\n",
              "        \"highlight\": {\n",
              "          \"background\": \"white\",\n",
              "          \"border\": \"red\"\n",
              "        }\n",
              "      },\n",
              "      \"shape\": \"box\",\n",
              "      \"mass\": 1,\n",
              "      \"font\": {\n",
              "        \"color\": \"black\",\n",
              "        \"size\": 14\n",
              "      }\n",
              "    },\n",
              "    \"states\": {\n",
              "      \"borderWidth\": 1,\n",
              "      \"color\": {\n",
              "        \"background\": \"white\",\n",
              "        \"border\": \"black\",\n",
              "        \"highlight\": {\n",
              "          \"background\": \"white\",\n",
              "          \"border\": \"red\"\n",
              "        }\n",
              "      },\n",
              "      \"shape\": \"ellipse\",\n",
              "      \"mass\": 1,\n",
              "      \"font\": {\n",
              "        \"color\": \"black\",\n",
              "        \"size\": 14\n",
              "      }\n",
              "    }\n",
              "  },\n",
              "  \"reload_button\": false,\n",
              "  \"edges\": {\n",
              "    \"arrows\": \"to\",\n",
              "    \"font\": {\n",
              "      \"color\": \"black\",\n",
              "      \"size\": 14,\n",
              "      \"strokeColor\": \"white\",\n",
              "      \"strokeWidth\": 2\n",
              "    },\n",
              "    \"color\": {\n",
              "      \"color\": \"black\"\n",
              "    },\n",
              "    \"width\": 1\n",
              "  },\n",
              "  \"numbers\": {\n",
              "    \"fractions\": true,\n",
              "    \"digits\": 5\n",
              "  },\n",
              "  \"state_properties\": {\n",
              "    \"show_results\": true,\n",
              "    \"result_symbol\": \"\\u2606\",\n",
              "    \"show_rewards\": true,\n",
              "    \"reward_symbol\": \"\\u20ac\",\n",
              "    \"show_zero_rewards\": true,\n",
              "    \"show_observations\": true,\n",
              "    \"observation_symbol\": \"\\u0298\"\n",
              "  },\n",
              "  \"layout\": {\n",
              "    \"randomSeed\": 5\n",
              "  },\n",
              "  \"misc\": {\n",
              "    \"enable_physics\": true,\n",
              "    \"width\": 800,\n",
              "    \"height\": 600,\n",
              "    \"explore\": false\n",
              "  },\n",
              "  \"saving\": {\n",
              "    \"relative_path\": true,\n",
              "    \"filename\": \"layouts/NAME.json\",\n",
              "    \"save_button\": false,\n",
              "    \"load_button\": false\n",
              "  },\n",
              "  \"positions\": {},\n",
              "  \"physics\": true,\n",
              "  \"autoResize\": true\n",
              "};\n",
              "    var container_local = document.getElementById(\"modelRrstuufmxh\");\n",
              "    var nw_modelRrstuufmxh = new NetworkWrapper_modelRrstuufmxh(nodes_local, edges_local, options_local, container_local)\n",
              "    \n",
              "    </script>\n",
              "  </body>\n",
              "</html>\n"
            ],
            "text/plain": [
              "<IPython.core.display.HTML object>"
            ]
          },
          "metadata": {},
          "output_type": "display_data"
        }
      ],
      "source": [
        "vis = show(pgc_study, result=result)"
      ]
    },
    {
      "cell_type": "code",
      "execution_count": 10,
      "id": "d98faeac-1317-48eb-9819-472b553de3d1",
      "metadata": {},
      "outputs": [
        {
          "data": {
            "application/javascript": [
              "nw_modelRrstuufmxh.setNodeColor(0, \"purple\");"
            ],
            "text/plain": [
              "<IPython.core.display.Javascript object>"
            ]
          },
          "metadata": {},
          "output_type": "display_data"
        },
        {
          "data": {
            "application/javascript": [
              "nw_modelRrstuufmxh.setNodeColor(0, null);"
            ],
            "text/plain": [
              "<IPython.core.display.Javascript object>"
            ]
          },
          "metadata": {},
          "output_type": "display_data"
        },
        {
          "data": {
            "application/javascript": [
              "nw_modelRrstuufmxh.setNodeColor(10000000000, \"purple\");"
            ],
            "text/plain": [
              "<IPython.core.display.Javascript object>"
            ]
          },
          "metadata": {},
          "output_type": "display_data"
        },
        {
          "data": {
            "application/javascript": [
              "nw_modelRrstuufmxh.setNodeColor(10000000000, null);"
            ],
            "text/plain": [
              "<IPython.core.display.Javascript object>"
            ]
          },
          "metadata": {},
          "output_type": "display_data"
        },
        {
          "data": {
            "application/javascript": [
              "nw_modelRrstuufmxh.setNodeColor(1, \"purple\");"
            ],
            "text/plain": [
              "<IPython.core.display.Javascript object>"
            ]
          },
          "metadata": {},
          "output_type": "display_data"
        },
        {
          "data": {
            "application/javascript": [
              "nw_modelRrstuufmxh.setNodeColor(1, null);"
            ],
            "text/plain": [
              "<IPython.core.display.Javascript object>"
            ]
          },
          "metadata": {},
          "output_type": "display_data"
        },
        {
          "data": {
            "application/javascript": [
              "nw_modelRrstuufmxh.setNodeColor(3, \"purple\");"
            ],
            "text/plain": [
              "<IPython.core.display.Javascript object>"
            ]
          },
          "metadata": {},
          "output_type": "display_data"
        },
        {
          "data": {
            "application/javascript": [
              "nw_modelRrstuufmxh.setNodeColor(3, null);"
            ],
            "text/plain": [
              "<IPython.core.display.Javascript object>"
            ]
          },
          "metadata": {},
          "output_type": "display_data"
        },
        {
          "data": {
            "application/javascript": [
              "nw_modelRrstuufmxh.setNodeColor(5, \"purple\");"
            ],
            "text/plain": [
              "<IPython.core.display.Javascript object>"
            ]
          },
          "metadata": {},
          "output_type": "display_data"
        },
        {
          "data": {
            "application/javascript": [
              "nw_modelRrstuufmxh.setNodeColor(5, null);"
            ],
            "text/plain": [
              "<IPython.core.display.Javascript object>"
            ]
          },
          "metadata": {},
          "output_type": "display_data"
        }
      ],
      "source": [
        "path = simulate_path(pgc_study, scheduler=result.scheduler, steps=100)\n",
        "vis.highlight_path(path, \"purple\")"
      ]
    },
    {
      "cell_type": "code",
      "execution_count": null,
      "id": "46af3348-37fb-4af2-a593-d5acc96a659e",
      "metadata": {},
      "outputs": [],
      "source": []
    }
  ],
  "metadata": {
    "kernelspec": {
      "display_name": "Python 3 (ipykernel)",
      "language": "python",
      "name": "python3"
    },
    "language_info": {
      "codemirror_mode": {
        "name": "ipython",
        "version": 3
      },
      "file_extension": ".py",
      "mimetype": "text/x-python",
      "name": "python",
      "nbconvert_exporter": "python",
      "pygments_lexer": "ipython3",
      "version": "3.12.7"
    }
  },
  "nbformat": 4,
  "nbformat_minor": 5
}
