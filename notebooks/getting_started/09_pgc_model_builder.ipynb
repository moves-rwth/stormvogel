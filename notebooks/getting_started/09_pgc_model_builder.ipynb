{
  "cells": [
    {
      "cell_type": "markdown",
      "id": "6ba470eb-80d5-416b-9b09-7ffe806f588a",
      "metadata": {},
      "source": [
        "# The pgc model builer"
      ]
    },
    {
      "cell_type": "code",
      "execution_count": 1,
      "id": "729b4d08-5d13-4126-a0cb-078cb3ae8054",
      "metadata": {},
      "outputs": [],
      "source": [
        "from stormvogel import model, pgc\n",
        "from stormvogel.show import show"
      ]
    },
    {
      "cell_type": "markdown",
      "id": "f1ada096-828f-4e74-8d1a-96fb2fb37915",
      "metadata": {},
      "source": [
        "We can also build a model using the pgc (python guarded command) model builder. Here, we use guards to specify the state we will end up in for each case. This is similar to the structure in prism files."
      ]
    },
    {
      "cell_type": "code",
      "execution_count": 2,
      "id": "cb8aec2d-1b23-4928-a07a-40942b3a439a",
      "metadata": {},
      "outputs": [],
      "source": [
        "import math\n",
        "\n",
        "#changing this constant changes the size of the model\n",
        "N = 2\n",
        "\n",
        "#we can use simpler versions of the Action and State class, included specifically for this method of model building\n",
        "initial_state = pgc.State(x=math.floor(N / 2))\n",
        "left = pgc.Action([\"left\"])\n",
        "right = pgc.Action([\"right\"])\n",
        "\n",
        "#this available actions function will specify what actions are available in each state\n",
        "def available_actions(s: pgc.State):\n",
        "    if s.x == N:\n",
        "        return [right]\n",
        "    elif s.x == 0:\n",
        "        return [left]\n",
        "    else :\n",
        "        return [left,right]\n",
        "\n",
        "#finally we make the delta function, which says to which states we can transition depending on in which state we are and which action we choose.\n",
        "p = 0.5\n",
        "def delta(s: pgc.State, action: pgc.Action):\n",
        "    if action == left:\n",
        "        return (\n",
        "            [\n",
        "                (p, pgc.State(x=s.x + 1)),\n",
        "                (1 - p, pgc.State(x=s.x)),\n",
        "            ]\n",
        "            if s.x < N\n",
        "            else []\n",
        "        )\n",
        "    elif action == right:\n",
        "        return (\n",
        "            [\n",
        "                (p, pgc.State(x=s.x - 1)),\n",
        "                (1 - p, pgc.State(x=s.x)),\n",
        "            ]\n",
        "            if s.x > 0\n",
        "            else []\n",
        "        )"
      ]
    },
    {
      "cell_type": "markdown",
      "id": "9b7c4637-a48e-4841-bbf4-e2da20e37aee",
      "metadata": {},
      "source": [
        "we can also optionally provide functions that assign rewards and labels"
      ]
    },
    {
      "cell_type": "code",
      "execution_count": 3,
      "id": "8531a632-23ae-4451-b5cc-ede2d16ec9ee",
      "metadata": {},
      "outputs": [],
      "source": [
        "def rewards(s: pgc.State, a: pgc.Action):\n",
        "    return [1, 2]\n",
        "\n",
        "def labels(s: pgc.State):\n",
        "    return [str(s.x)]"
      ]
    },
    {
      "cell_type": "markdown",
      "id": "bd5ccbfd-003b-417e-b669-233797084c80",
      "metadata": {},
      "source": [
        "We then combine all of the above to call the build_pgc function that will build our model using the functions"
      ]
    },
    {
      "cell_type": "code",
      "execution_count": 4,
      "id": "7a920d7d-1430-43b5-b56e-3e74a7749ffe",
      "metadata": {},
      "outputs": [
        {
          "data": {
            "text/html": [
              "\n",
              "          <iframe\n",
              "                id=\"modelEmAjzDTwPE\"\n",
              "                width=\"820\"\n",
              "                height=\"620\"\n",
              "                frameborder=\"0\"\n",
              "                srcdoc=\"\n",
              "&lt;!DOCTYPE html&gt;\n",
              "&lt;html lang=&quot;en&quot;&gt;\n",
              "  &lt;head&gt;\n",
              "    &lt;title&gt;Network&lt;/title&gt;\n",
              "    &lt;script\n",
              "      type=&quot;text/javascript&quot;\n",
              "      src=&quot;https://unpkg.com/vis-network/standalone/umd/vis-network.min.js&quot;\n",
              "    &gt;&lt;/script&gt;\n",
              "    &lt;style type=&quot;text/css&quot;&gt;\n",
              "      #mynetwork {\n",
              "        \n",
              "        width: 800px;\n",
              "        height: 600px;\n",
              "        border: 1px solid lightgray;\n",
              "        \n",
              "      }\n",
              "    &lt;/style&gt;\n",
              "  &lt;/head&gt;\n",
              "  &lt;body&gt;\n",
              "    &lt;div id=&quot;mynetwork&quot;&gt;&lt;/div&gt;\n",
              "    &lt;script type=&quot;text/javascript&quot;&gt;\n",
              "        \n",
              "        var nodes = new vis.DataSet([{ id: 0, label: `init,1`, group: &quot;states&quot; },\n",
              "{ id: 1, label: `2`, group: &quot;states&quot; },\n",
              "{ id: 2, label: `0`, group: &quot;states&quot; },\n",
              "{ id: 10000000000, label: `left\n",
              "\u20ac\trewardmodel: 0: 1\trewardmodel: 1: 2`, group: &quot;actions&quot; },\n",
              "{ id: 10000000001, label: `right\n",
              "\u20ac\trewardmodel: 0: 1\trewardmodel: 1: 2`, group: &quot;actions&quot; },\n",
              "{ id: 10000000002, label: `right\n",
              "\u20ac\trewardmodel: 0: 1\trewardmodel: 1: 2`, group: &quot;actions&quot; },\n",
              "{ id: 10000000003, label: `left\n",
              "\u20ac\trewardmodel: 0: 1\trewardmodel: 1: 2`, group: &quot;actions&quot; },\n",
              "]);\n",
              "        var edges = new vis.DataSet([{ from: 0, to: 10000000000 },\n",
              "{ from: 10000000000, to: 1, label: &quot;1/2&quot; },\n",
              "{ from: 10000000000, to: 0, label: &quot;1/2&quot; },\n",
              "{ from: 0, to: 10000000001 },\n",
              "{ from: 10000000001, to: 2, label: &quot;1/2&quot; },\n",
              "{ from: 10000000001, to: 0, label: &quot;1/2&quot; },\n",
              "{ from: 1, to: 10000000002 },\n",
              "{ from: 10000000002, to: 0, label: &quot;1/2&quot; },\n",
              "{ from: 10000000002, to: 1, label: &quot;1/2&quot; },\n",
              "{ from: 2, to: 10000000003 },\n",
              "{ from: 10000000003, to: 0, label: &quot;1/2&quot; },\n",
              "{ from: 10000000003, to: 2, label: &quot;1/2&quot; },\n",
              "]);\n",
              "        var options = {\n",
              "  &quot;__fake_macros&quot;: {\n",
              "    &quot;__group_macro&quot;: {\n",
              "      &quot;borderWidth&quot;: 1,\n",
              "      &quot;color&quot;: {\n",
              "        &quot;background&quot;: &quot;white&quot;,\n",
              "        &quot;border&quot;: &quot;black&quot;,\n",
              "        &quot;highlight&quot;: {\n",
              "          &quot;background&quot;: &quot;white&quot;,\n",
              "          &quot;border&quot;: &quot;red&quot;\n",
              "        }\n",
              "      },\n",
              "      &quot;shape&quot;: &quot;ellipse&quot;,\n",
              "      &quot;mass&quot;: 1,\n",
              "      &quot;font&quot;: {\n",
              "        &quot;color&quot;: &quot;black&quot;,\n",
              "        &quot;size&quot;: 14\n",
              "      }\n",
              "    }\n",
              "  },\n",
              "  &quot;edit_groups&quot;: {\n",
              "    &quot;groups&quot;: [\n",
              "      &quot;states&quot;,\n",
              "      &quot;actions&quot;\n",
              "    ]\n",
              "  },\n",
              "  &quot;groups&quot;: {\n",
              "    &quot;actions&quot;: {\n",
              "      &quot;borderWidth&quot;: 1,\n",
              "      &quot;color&quot;: {\n",
              "        &quot;background&quot;: &quot;lightblue&quot;,\n",
              "        &quot;border&quot;: &quot;black&quot;,\n",
              "        &quot;highlight&quot;: {\n",
              "          &quot;background&quot;: &quot;white&quot;,\n",
              "          &quot;border&quot;: &quot;red&quot;\n",
              "        }\n",
              "      },\n",
              "      &quot;shape&quot;: &quot;box&quot;,\n",
              "      &quot;mass&quot;: 1,\n",
              "      &quot;font&quot;: {\n",
              "        &quot;color&quot;: &quot;black&quot;,\n",
              "        &quot;size&quot;: 14\n",
              "      }\n",
              "    },\n",
              "    &quot;states&quot;: {\n",
              "      &quot;borderWidth&quot;: 1,\n",
              "      &quot;color&quot;: {\n",
              "        &quot;background&quot;: &quot;white&quot;,\n",
              "        &quot;border&quot;: &quot;black&quot;,\n",
              "        &quot;highlight&quot;: {\n",
              "          &quot;background&quot;: &quot;white&quot;,\n",
              "          &quot;border&quot;: &quot;red&quot;\n",
              "        }\n",
              "      },\n",
              "      &quot;shape&quot;: &quot;ellipse&quot;,\n",
              "      &quot;mass&quot;: 1,\n",
              "      &quot;font&quot;: {\n",
              "        &quot;color&quot;: &quot;black&quot;,\n",
              "        &quot;size&quot;: 14\n",
              "      }\n",
              "    }\n",
              "  },\n",
              "  &quot;reload_button&quot;: false,\n",
              "  &quot;edges&quot;: {\n",
              "    &quot;arrows&quot;: &quot;to&quot;,\n",
              "    &quot;font&quot;: {\n",
              "      &quot;color&quot;: &quot;black&quot;,\n",
              "      &quot;size&quot;: 14\n",
              "    },\n",
              "    &quot;color&quot;: {\n",
              "      &quot;color&quot;: &quot;black&quot;\n",
              "    }\n",
              "  },\n",
              "  &quot;numbers&quot;: {\n",
              "    &quot;fractions&quot;: true,\n",
              "    &quot;digits&quot;: 5\n",
              "  },\n",
              "  &quot;state_properties&quot;: {\n",
              "    &quot;show_results&quot;: true,\n",
              "    &quot;result_symbol&quot;: &quot;\\u2606&quot;,\n",
              "    &quot;show_rewards&quot;: true,\n",
              "    &quot;reward_symbol&quot;: &quot;\\u20ac&quot;,\n",
              "    &quot;show_zero_rewards&quot;: true,\n",
              "    &quot;show_observations&quot;: true,\n",
              "    &quot;observation_symbol&quot;: &quot;\\u0298&quot;\n",
              "  },\n",
              "  &quot;layout&quot;: {\n",
              "    &quot;randomSeed&quot;: 5\n",
              "  },\n",
              "  &quot;misc&quot;: {\n",
              "    &quot;enable_physics&quot;: true,\n",
              "    &quot;width&quot;: 800,\n",
              "    &quot;height&quot;: 600,\n",
              "    &quot;explore&quot;: false\n",
              "  },\n",
              "  &quot;saving&quot;: {\n",
              "    &quot;relative_path&quot;: true,\n",
              "    &quot;filename&quot;: &quot;layouts/NAME.json&quot;,\n",
              "    &quot;save_button&quot;: false,\n",
              "    &quot;load_button&quot;: false\n",
              "  },\n",
              "  &quot;positions&quot;: {},\n",
              "  &quot;width&quot;: 800,\n",
              "  &quot;height&quot;: 600,\n",
              "  &quot;physics&quot;: true,\n",
              "  &quot;autoResize&quot;: true\n",
              "};\n",
              "        //js\n",
              "var container = document.getElementById(&quot;mynetwork&quot;);\n",
              "var data = {\n",
              "    nodes: nodes,\n",
              "    edges: edges,\n",
              "};\n",
              "var network = new vis.Network(container, data, options);\n",
              "function makeAllNodesInvisible() {\n",
              "    ids = nodes.getIds();\n",
              "    for (let i = 0; i &lt; ids.length; i++) {\n",
              "        var nodeId = ids[i];\n",
              "        var node = nodes.get(nodeId);\n",
              "        node[&quot;hidden&quot;] = true;\n",
              "        node[&quot;physics&quot;] = false;\n",
              "        nodes.update(node);\n",
              "    }\n",
              "};\n",
              "function makeNeighborsVisible(homeId) {\n",
              "    homeNode = nodes.get(homeId);\n",
              "\n",
              "    // Make outgoing nodes visible\n",
              "    var nodeIds = network.getConnectedNodes(homeId, &quot;to&quot;);\n",
              "    for (let i = 0; i &lt; nodeIds.length; i++) {\n",
              "      var toNodeId = nodeIds[i];\n",
              "      var toNode = nodes.get(toNodeId);\n",
              "      if (toNode[&quot;hidden&quot;]) {\n",
              "        toNode[&quot;hidden&quot;] = false;\n",
              "        toNode[&quot;physics&quot;] = true;\n",
              "        toNode[&quot;x&quot;] = network.getPosition(homeId)[&quot;x&quot;];\n",
              "        toNode[&quot;y&quot;] = network.getPosition(homeId)[&quot;y&quot;];\n",
              "        nodes.update(toNode);\n",
              "      }\n",
              "    }\n",
              "    // Make edges visible, if both of the nodes are also visible\n",
              "    var edgeIds = network.getConnectedEdges(homeId);\n",
              "    for (let i = 0; i &lt; edgeIds.length; i++) {\n",
              "        var edgeId = edgeIds[i];\n",
              "        var edge = edges.get(edgeId);\n",
              "        var fromNode = nodes.get(edge.from);\n",
              "        var toNode = nodes.get(edge.to);\n",
              "        if ((! fromNode[&quot;hidden&quot;]) &amp;&amp; (! toNode[&quot;hidden&quot;])) {\n",
              "          edge[&quot;hidden&quot;] = false;\n",
              "          edge[&quot;physics&quot;] = true;\n",
              "          edges.update(edge);\n",
              "        }\n",
              "    }\n",
              "};\n",
              "network.on( &#x27;click&#x27;, function(properties) {\n",
              "    var nodeId = network.getNodeAt({x:properties.event.srcEvent.offsetX, y:properties.event.srcEvent.offsetY});\n",
              "    makeNeighborsVisible(nodeId);\n",
              "});\n",
              "network.on( &#x27;doubleClick&#x27;, function(properties) {\n",
              "    network.setData(data);\n",
              "});\n",
              "\n",
              "    &lt;/script&gt;\n",
              "  &lt;/body&gt;\n",
              "&lt;/html&gt;\n",
              "\"\n",
              "                border:none !important;\n",
              "                allowfullscreen webkitallowfullscreen mozallowfullscreen\n",
              "          ></iframe>"
            ],
            "text/plain": [
              "<IPython.core.display.HTML object>"
            ]
          },
          "metadata": {},
          "output_type": "display_data"
        },
        {
          "data": {
            "text/plain": [
              "<stormvogel.visualization.Visualization at 0x7eddfe165370>"
            ]
          },
          "execution_count": 4,
          "metadata": {},
          "output_type": "execute_result"
        }
      ],
      "source": [
        "pgc_model = pgc.build_pgc(\n",
        "    delta=delta,\n",
        "    available_actions=available_actions,\n",
        "    initial_state_pgc=initial_state,\n",
        "    labels=labels,\n",
        "    rewards=rewards,\n",
        ")\n",
        "\n",
        "show(pgc_model)"
      ]
    },
    {
      "cell_type": "markdown",
      "id": "65fa94ec-4102-46e8-b98b-68931802514d",
      "metadata": {},
      "source": [
        "We don't have to use the provided State class, in fact we can use any object we like! Here is an example where we use integers instead of states objects."
      ]
    },
    {
      "cell_type": "code",
      "execution_count": 5,
      "id": "be844a3f-bbc8-4c8d-a351-7627f7dd33b9",
      "metadata": {},
      "outputs": [
        {
          "data": {
            "application/vnd.jupyter.widget-view+json": {
              "model_id": "215d2f99bec74b57867223d343719088",
              "version_major": 2,
              "version_minor": 0
            },
            "text/plain": [
              "Output()"
            ]
          },
          "metadata": {},
          "output_type": "display_data"
        },
        {
          "data": {
            "application/vnd.jupyter.widget-view+json": {
              "model_id": "b363f34d5eae4639bad82e50375e2fb9",
              "version_major": 2,
              "version_minor": 0
            },
            "text/plain": [
              "Output()"
            ]
          },
          "metadata": {},
          "output_type": "display_data"
        },
        {
          "data": {
            "application/vnd.jupyter.widget-view+json": {
              "model_id": "cf33b0c7f1ba4601a10b822ba3260e99",
              "version_major": 2,
              "version_minor": 0
            },
            "text/plain": [
              "HBox(children=(Output(), Output()))"
            ]
          },
          "metadata": {},
          "output_type": "display_data"
        },
        {
          "data": {
            "text/plain": [
              "<stormvogel.visualization.Visualization at 0x7f8b75734d70>"
            ]
          },
          "execution_count": 5,
          "metadata": {},
          "output_type": "execute_result"
        }
      ],
      "source": [
        "def delta(state):\n",
        "    return [\n",
        "        (0.5, (state + 1) % 5),\n",
        "        (0.5, (state - 1) % 5),\n",
        "    ]\n",
        "    \n",
        "def rewards(state):\n",
        "    return [state]\n",
        "\n",
        "pgc_model = pgc.build_pgc(delta, initial_state_pgc=0, rewards=rewards, modeltype=model.ModelType.DTMC)\n",
        "show(pgc_model)"
      ]
    },
    {
      "cell_type": "code",
      "execution_count": null,
      "id": "949fbcc2-42a5-471a-98fd-42a05e5225f1",
      "metadata": {},
      "outputs": [],
      "source": []
    },
    {
      "cell_type": "code",
      "execution_count": null,
      "id": "6ca74030-0b38-423c-8171-99d714edbc02",
      "metadata": {},
      "outputs": [],
      "source": []
    },
    {
      "cell_type": "code",
      "execution_count": null,
      "id": "097ed75a-a102-4909-a1e4-5071fd91f038",
      "metadata": {},
      "outputs": [],
      "source": []
    }
  ],
  "metadata": {
    "kernelspec": {
      "display_name": "Python 3 (ipykernel)",
      "language": "python",
      "name": "python3"
    },
    "language_info": {
      "codemirror_mode": {
        "name": "ipython",
        "version": 3
      },
      "file_extension": ".py",
      "mimetype": "text/x-python",
      "name": "python",
      "nbconvert_exporter": "python",
      "pygments_lexer": "ipython3",
      "version": "3.12.3"
    }
  },
  "nbformat": 4,
  "nbformat_minor": 5
}
