{
  "cells": [
    {
      "cell_type": "code",
      "execution_count": 1,
      "id": "1f824dd0-04bf-4412-98f1-479ec254db52",
      "metadata": {},
      "outputs": [],
      "source": [
        "import logging\n",
        "import ipywidgets as widgets\n",
        "import IPython.display as ipd\n",
        "\n",
        "#logging.basicConfig(level=logging.INFO)\n",
        "\n",
        "# debug_output = widgets.Output()\n",
        "# ipd.display(debug_output)"
      ]
    },
    {
      "cell_type": "code",
      "execution_count": 3,
      "id": "0df1511e-565d-45d0-93a8-adafbfaaaefa",
      "metadata": {
        "scrolled": true
      },
      "outputs": [
        {
          "data": {
            "application/vnd.jupyter.widget-view+json": {
              "model_id": "73a6ead5ffb3470f900be0a4fe7d7d29",
              "version_major": 2,
              "version_minor": 0
            },
            "text/plain": [
              "Output()"
            ]
          },
          "metadata": {},
          "output_type": "display_data"
        },
        {
          "data": {
            "text/html": [
              "<script>fetch('http://127.0.0.1:8080/VsyqCqzlCF/MESSAGE/' + 'test message')</script>"
            ],
            "text/plain": [
              "<IPython.core.display.HTML object>"
            ]
          },
          "metadata": {},
          "output_type": "display_data"
        },
        {
          "data": {
            "application/vnd.jupyter.widget-view+json": {
              "model_id": "ad560149ba9a41428c63028e61ff96ef",
              "version_major": 2,
              "version_minor": 0
            },
            "text/plain": [
              "HBox(children=(Output(), Output()))"
            ]
          },
          "metadata": {},
          "output_type": "display_data"
        }
      ],
      "source": [
        "import stormvogel.model\n",
        "from stormvogel.layout import Layout, DEFAULT\n",
        "from stormvogel.result import Result\n",
        "from IPython.display import clear_output\n",
        "from stormvogel.show import show\n",
        "import stormvogel\n",
        "\n",
        "#stormvogel.communication_server.enable_server = False\n",
        "\n",
        "mdp = stormvogel.model.new_mdp(\"Monty Hall\")\n",
        "\n",
        "init = mdp.get_initial_state()\n",
        "study = mdp.new_action_with_labels(\"study\", frozenset([\"study\"]))\n",
        "not_study = mdp.new_action_with_labels(\"dont study\", frozenset([\"don't study\"]))\n",
        "\n",
        "studied = mdp.new_state(\"studied\")\n",
        "not_studied = mdp.new_state(\"didnt study\")\n",
        "pass_test = mdp.new_state(\"pass test\")\n",
        "fail_test = mdp.new_state(\"fail test\")\n",
        "end = mdp.new_state(\"end\")\n",
        "\n",
        "# From the initial state, you can choose to study, or not to study.\n",
        "init.set_transitions([\n",
        "    (study, studied),\n",
        "    (not_study, not_studied)\n",
        "])\n",
        "\n",
        "# If you studied, then there is a 90% chance that you pass the test.\n",
        "studied.set_transitions([\n",
        "    (9/10, pass_test),\n",
        "    (1/10, fail_test)\n",
        "])\n",
        "\n",
        "# If you did not study, then there is only a 40% chance that you pass the test.\n",
        "not_studied.set_transitions([\n",
        "    (4/10, pass_test),\n",
        "    (6/10, fail_test)\n",
        "])\n",
        "\n",
        "# After the test you are done\n",
        "pass_test.set_transitions([(1, end)])\n",
        "fail_test.set_transitions([(1, end)])\n",
        "\n",
        "# Add reward for passing the test and reward for not studying\n",
        "reward_model = mdp.add_rewards(\"R\")\n",
        "reward_model.set(pass_test, 100)\n",
        "reward_model.set(fail_test, 0)\n",
        "reward_model.set(not_studied, 15)\n",
        "\n",
        "vis = show(mdp, name=\"study\", show_editor=True, separate_labels=[\"init\"], )#debug_output=debug_output)"
      ]
    },
    {
      "cell_type": "code",
      "execution_count": 3,
      "id": "d7d29efc-f585-4141-b3f3-def1f55f7a19",
      "metadata": {},
      "outputs": [
        {
          "data": {
            "application/vnd.jupyter.widget-view+json": {
              "model_id": "f0ddc28f4c3d45229812366e97b89f7b",
              "version_major": 2,
              "version_minor": 0
            },
            "text/plain": [
              "Output()"
            ]
          },
          "metadata": {},
          "output_type": "display_data"
        }
      ],
      "source": [
        "import IPython.display as ipd\n",
        "ipd.display(debug_output)"
      ]
    },
    {
      "cell_type": "code",
      "execution_count": null,
      "id": "7ff0099d-9ff8-4d11-b2b1-4d1a1c35fe6a",
      "metadata": {},
      "outputs": [],
      "source": []
    }
  ],
  "metadata": {
    "kernelspec": {
      "display_name": "Python (stormvogel)",
      "language": "python",
      "name": "stormvogel-env"
    },
    "language_info": {
      "codemirror_mode": {
        "name": "ipython",
        "version": 3
      },
      "file_extension": ".py",
      "mimetype": "text/x-python",
      "name": "python",
      "nbconvert_exporter": "python",
      "pygments_lexer": "ipython3",
      "version": "3.11.2"
    }
  },
  "nbformat": 4,
  "nbformat_minor": 5
}
