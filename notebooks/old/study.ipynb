{
  "cells": [
    {
      "cell_type": "code",
      "execution_count": 1,
      "id": "1f824dd0-04bf-4412-98f1-479ec254db52",
      "metadata": {},
      "outputs": [],
      "source": [
        "import logging\n",
        "import ipywidgets as widgets\n",
        "import IPython.display as ipd\n",
        "\n",
        "# logging.basicConfig(level=logging.INFO)\n",
        "\n",
        "# debug_output = widgets.Output()\n",
        "# ipd.display(debug_output)"
      ]
    },
    {
      "cell_type": "code",
      "execution_count": 2,
      "id": "0df1511e-565d-45d0-93a8-adafbfaaaefa",
      "metadata": {
        "scrolled": true
      },
      "outputs": [
        {
          "ename": "AttributeError",
          "evalue": "'Model' object has no attribute 'new_action_with_labels'",
          "output_type": "error",
          "traceback": [
            "\u001b[0;31m---------------------------------------------------------------------------\u001b[0m",
            "\u001b[0;31mAttributeError\u001b[0m                            Traceback (most recent call last)",
            "Cell \u001b[0;32mIn[2], line 13\u001b[0m\n\u001b[1;32m     10\u001b[0m mdp \u001b[38;5;241m=\u001b[39m stormvogel\u001b[38;5;241m.\u001b[39mmodel\u001b[38;5;241m.\u001b[39mnew_mdp(\u001b[38;5;124m\"\u001b[39m\u001b[38;5;124mMonty Hall\u001b[39m\u001b[38;5;124m\"\u001b[39m)\n\u001b[1;32m     12\u001b[0m init \u001b[38;5;241m=\u001b[39m mdp\u001b[38;5;241m.\u001b[39mget_initial_state()\n\u001b[0;32m---> 13\u001b[0m study \u001b[38;5;241m=\u001b[39m \u001b[43mmdp\u001b[49m\u001b[38;5;241;43m.\u001b[39;49m\u001b[43mnew_action_with_labels\u001b[49m(\u001b[38;5;124m\"\u001b[39m\u001b[38;5;124mstudy\u001b[39m\u001b[38;5;124m\"\u001b[39m, \u001b[38;5;28mfrozenset\u001b[39m([\u001b[38;5;124m\"\u001b[39m\u001b[38;5;124mstudy\u001b[39m\u001b[38;5;124m\"\u001b[39m]))\n\u001b[1;32m     14\u001b[0m not_study \u001b[38;5;241m=\u001b[39m mdp\u001b[38;5;241m.\u001b[39mnew_action_with_labels(\u001b[38;5;124m\"\u001b[39m\u001b[38;5;124mdont study\u001b[39m\u001b[38;5;124m\"\u001b[39m, \u001b[38;5;28mfrozenset\u001b[39m([\u001b[38;5;124m\"\u001b[39m\u001b[38;5;124mdon\u001b[39m\u001b[38;5;124m'\u001b[39m\u001b[38;5;124mt study\u001b[39m\u001b[38;5;124m\"\u001b[39m]))\n\u001b[1;32m     16\u001b[0m studied \u001b[38;5;241m=\u001b[39m mdp\u001b[38;5;241m.\u001b[39mnew_state(\u001b[38;5;124m\"\u001b[39m\u001b[38;5;124mstudied\u001b[39m\u001b[38;5;124m\"\u001b[39m)\n",
            "\u001b[0;31mAttributeError\u001b[0m: 'Model' object has no attribute 'new_action_with_labels'"
          ]
        }
      ],
      "source": [
        "import stormvogel.model\n",
        "from stormvogel.layout import Layout, DEFAULT\n",
        "from stormvogel.result import Result\n",
        "from IPython.display import clear_output\n",
        "from stormvogel.show import show\n",
        "import stormvogel\n",
        "\n",
        "#stormvogel.communication_server.enable_server = False\n",
        "\n",
        "mdp = stormvogel.model.new_mdp(\"Monty Hall\")\n",
        "\n",
        "init = mdp.get_initial_state()\n",
        "study = mdp.new_action_with_labels(\"study\", frozenset([\"study\"]))\n",
        "not_study = mdp.new_action_with_labels(\"dont study\", frozenset([\"don't study\"]))\n",
        "\n",
        "studied = mdp.new_state(\"studied\")\n",
        "not_studied = mdp.new_state(\"didnt study\")\n",
        "pass_test = mdp.new_state(\"pass test\")\n",
        "fail_test = mdp.new_state(\"fail test\")\n",
        "end = mdp.new_state(\"end\")\n",
        "\n",
        "# From the initial state, you can choose to study, or not to study.\n",
        "init.set_transitions([\n",
        "    (study, studied),\n",
        "    (not_study, not_studied)\n",
        "])\n",
        "\n",
        "# If you studied, then there is a 90% chance that you pass the test.\n",
        "studied.set_transitions([\n",
        "    (9/10, pass_test),\n",
        "    (1/10, fail_test)\n",
        "])\n",
        "\n",
        "# If you did not study, then there is only a 40% chance that you pass the test.\n",
        "not_studied.set_transitions([\n",
        "    (4/10, pass_test),\n",
        "    (6/10, fail_test)\n",
        "])\n",
        "\n",
        "# After the test you are done\n",
        "pass_test.set_transitions([(1, end)])\n",
        "fail_test.set_transitions([(1, end)])\n",
        "\n",
        "# Add reward for passing the test and reward for not studying\n",
        "reward_model = mdp.add_rewards(\"R\")\n",
        "reward_model.set(pass_test, 100)\n",
        "reward_model.set(fail_test, 0)\n",
        "reward_model.set(not_studied, 15)\n",
        "\n",
        "vis = show(mdp, name=\"study\", show_editor=True, separate_labels=[\"init\"])"
      ]
    },
    {
      "cell_type": "code",
      "execution_count": null,
      "id": "51f97717-43ad-4c33-baec-bc4ac6ca6f50",
      "metadata": {},
      "outputs": [],
      "source": []
    }
  ],
  "metadata": {
    "kernelspec": {
      "display_name": "Python 3 (ipykernel)",
      "language": "python",
      "name": "python3"
    },
    "language_info": {
      "codemirror_mode": {
        "name": "ipython",
        "version": 3
      },
      "file_extension": ".py",
      "mimetype": "text/x-python",
      "name": "python",
      "nbconvert_exporter": "python",
      "pygments_lexer": "ipython3",
      "version": "3.12.3"
    }
  },
  "nbformat": 4,
  "nbformat_minor": 5
}
