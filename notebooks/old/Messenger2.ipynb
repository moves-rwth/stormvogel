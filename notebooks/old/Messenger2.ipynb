{
  "cells": [
    {
      "cell_type": "code",
      "execution_count": 1,
      "id": "b2018019-5a23-4b2c-8ddd-d833b6762824",
      "metadata": {},
      "outputs": [
        {
          "name": "stdout",
          "output_type": "stream",
          "text": [
            "Server started http://localhost:8080\n"
          ]
        },
        {
          "data": {
            "application/vnd.jupyter.widget-view+json": {
              "model_id": "699190d3f991484aabaac9cf9f1ef313",
              "version_major": 2,
              "version_minor": 0
            },
            "text/plain": [
              "HBox(children=(Output(), Output()))"
            ]
          },
          "metadata": {},
          "output_type": "display_data"
        },
        {
          "name": "stdout",
          "output_type": "stream",
          "text": [
            "[object Object]\n"
          ]
        },
        {
          "name": "stderr",
          "output_type": "stream",
          "text": [
            "127.0.0.1 - - [01/Sep/2024 13:15:23] \"GET /[object%20Object] HTTP/1.1\" 200 -\n"
          ]
        },
        {
          "name": "stdout",
          "output_type": "stream",
          "text": [
            "{\"__fake_macros\":{\"__group_macro\":{\"borderWidth\":1,\"color\":{\"background\":\"white\",\"border\":\"black\",\"highlight\":{\"background\":\"white\",\"border\":\"red\"}},\"shape\":\"ellipse\",\"mass\":1,\"font\":{\"color\":\"black\",\"size\":14}}},\"groups\":{\"states\":{\"borderWidth\":1,\"color\":{\"background\":\"white\",\"border\":\"black\",\"highlight\":{\"background\":\"white\",\"border\":\"red\"}},\"shape\":\"ellipse\",\"mass\":1,\"font\":{\"color\":\"black\",\"size\":14}},\"actions\":{\"borderWidth\":1,\"color\":{\"background\":\"lightblue\",\"border\":\"black\",\"highlight\":{\"background\":\"white\",\"border\":\"red\"}},\"shape\":\"box\",\"mass\":1,\"font\":{\"color\":\"black\",\"size\":14}},\"scheduled_actions\":{\"borderWidth\":1,\"color\":{\"background\":\"pink\",\"border\":\"black\",\"highlight\":{\"background\":\"white\",\"border\":\"red\"}},\"shape\":\"box\",\"mass\":1,\"font\":{\"color\":\"black\",\"size\":14},\"schedColor\":false},\"init\":{\"borderWidth\":1,\"color\":{\"background\":\"white\",\"border\":\"black\",\"highlight\":{\"background\":\"white\",\"border\":\"red\"}},\"shape\":\"ellipse\",\"mass\":1,\"font\":{\"color\":\"black\",\"size\":14}}},\"reload_button\":false,\"edges\":{\"arrows\":\"to\",\"font\":{\"color\":\"black\",\"size\":14},\"color\":{\"color\":\"black\"}},\"numbers\":{\"fractions\":true,\"digits\":5},\"results_and_rewards\":{\"show_results\":true,\"resultSymbol\":\"\u2606\",\"show_rewards\":true},\"layout\":{\"randomSeed\":5},\"misc\":{\"enable_physics\":true,\"width\":800,\"height\":600},\"saving\":{\"relative_path\":true,\"filename\":\"layouts/NAME.json\",\"save_button\":false},\"physics\":{}}\n"
          ]
        },
        {
          "name": "stderr",
          "output_type": "stream",
          "text": [
            "127.0.0.1 - - [01/Sep/2024 13:17:04] \"GET /%7B%22__fake_macros%22:%7B%22__group_macro%22:%7B%22borderWidth%22:1,%22color%22:%7B%22background%22:%22white%22,%22border%22:%22black%22,%22highlight%22:%7B%22background%22:%22white%22,%22border%22:%22red%22%7D%7D,%22shape%22:%22ellipse%22,%22mass%22:1,%22font%22:%7B%22color%22:%22black%22,%22size%22:14%7D%7D%7D,%22groups%22:%7B%22states%22:%7B%22borderWidth%22:1,%22color%22:%7B%22background%22:%22white%22,%22border%22:%22black%22,%22highlight%22:%7B%22background%22:%22white%22,%22border%22:%22red%22%7D%7D,%22shape%22:%22ellipse%22,%22mass%22:1,%22font%22:%7B%22color%22:%22black%22,%22size%22:14%7D%7D,%22actions%22:%7B%22borderWidth%22:1,%22color%22:%7B%22background%22:%22lightblue%22,%22border%22:%22black%22,%22highlight%22:%7B%22background%22:%22white%22,%22border%22:%22red%22%7D%7D,%22shape%22:%22box%22,%22mass%22:1,%22font%22:%7B%22color%22:%22black%22,%22size%22:14%7D%7D,%22scheduled_actions%22:%7B%22borderWidth%22:1,%22color%22:%7B%22background%22:%22pink%22,%22border%22:%22black%22,%22highlight%22:%7B%22background%22:%22white%22,%22border%22:%22red%22%7D%7D,%22shape%22:%22box%22,%22mass%22:1,%22font%22:%7B%22color%22:%22black%22,%22size%22:14%7D,%22schedColor%22:false%7D,%22init%22:%7B%22borderWidth%22:1,%22color%22:%7B%22background%22:%22white%22,%22border%22:%22black%22,%22highlight%22:%7B%22background%22:%22white%22,%22border%22:%22red%22%7D%7D,%22shape%22:%22ellipse%22,%22mass%22:1,%22font%22:%7B%22color%22:%22black%22,%22size%22:14%7D%7D%7D,%22reload_button%22:false,%22edges%22:%7B%22arrows%22:%22to%22,%22font%22:%7B%22color%22:%22black%22,%22size%22:14%7D,%22color%22:%7B%22color%22:%22black%22%7D%7D,%22numbers%22:%7B%22fractions%22:true,%22digits%22:5%7D,%22results_and_rewards%22:%7B%22show_results%22:true,%22resultSymbol%22:%22%E2%98%86%22,%22show_rewards%22:true%7D,%22layout%22:%7B%22randomSeed%22:5%7D,%22misc%22:%7B%22enable_physics%22:true,%22width%22:800,%22height%22:600%7D,%22saving%22:%7B%22relative_path%22:true,%22filename%22:%22layouts/NAME.json%22,%22save_button%22:false%7D,%22physics%22:%7B%7D%7D HTTP/1.1\" 200 -\n"
          ]
        }
      ],
      "source": [
        "import stormvogel.local_server\n",
        "import stormvogel.model\n",
        "from stormvogel.show import show\n",
        "\n",
        "m = stormvogel.local_server.JSMessenger()\n",
        "mdp = stormvogel.model.new_mdp(\"Test\")\n",
        "vis = show(mdp, name=\"study\", show_editor=True, separate_labels=[\"init\"])"
      ]
    },
    {
      "cell_type": "code",
      "execution_count": 5,
      "id": "d060dd93-5b02-4c2c-92c4-eadae5ee7d76",
      "metadata": {},
      "outputs": [
        {
          "data": {
            "text/html": [
              "<script>fetch('http://127.0.0.1:8080/' + \n",
              "JSON.stringify(document.getElementById('study').contentWindow.options)\n",
              ")</script>"
            ],
            "text/plain": [
              "<IPython.core.display.HTML object>"
            ]
          },
          "metadata": {},
          "output_type": "display_data"
        },
        {
          "data": {
            "text/plain": [
              "'{\"__fake_macros\":{\"__group_macro\":{\"borderWidth\":1,\"color\":{\"background\":\"white\",\"border\":\"black\",\"highlight\":{\"background\":\"white\",\"border\":\"red\"}},\"shape\":\"ellipse\",\"mass\":1,\"font\":{\"color\":\"black\",\"size\":14}}},\"groups\":{\"states\":{\"borderWidth\":1,\"color\":{\"background\":\"white\",\"border\":\"black\",\"highlight\":{\"background\":\"white\",\"border\":\"red\"}},\"shape\":\"ellipse\",\"mass\":1,\"font\":{\"color\":\"black\",\"size\":14}},\"actions\":{\"borderWidth\":1,\"color\":{\"background\":\"lightblue\",\"border\":\"black\",\"highlight\":{\"background\":\"white\",\"border\":\"red\"}},\"shape\":\"box\",\"mass\":1,\"font\":{\"color\":\"black\",\"size\":14}},\"scheduled_actions\":{\"borderWidth\":1,\"color\":{\"background\":\"pink\",\"border\":\"black\",\"highlight\":{\"background\":\"white\",\"border\":\"red\"}},\"shape\":\"box\",\"mass\":1,\"font\":{\"color\":\"black\",\"size\":14},\"schedColor\":false},\"init\":{\"borderWidth\":1,\"color\":{\"background\":\"white\",\"border\":\"black\",\"highlight\":{\"background\":\"white\",\"border\":\"red\"}},\"shape\":\"ellipse\",\"mass\":1,\"font\":{\"color\":\"black\",\"size\":14}}},\"reload_button\":false,\"edges\":{\"arrows\":\"to\",\"font\":{\"color\":\"black\",\"size\":14},\"color\":{\"color\":\"black\"}},\"numbers\":{\"fractions\":true,\"digits\":5},\"results_and_rewards\":{\"show_results\":true,\"resultSymbol\":\"\u2606\",\"show_rewards\":true},\"layout\":{\"randomSeed\":5},\"misc\":{\"enable_physics\":true,\"width\":800,\"height\":600},\"saving\":{\"relative_path\":true,\"filename\":\"layouts/NAME.json\",\"save_button\":false},\"physics\":{}}'"
            ]
          },
          "execution_count": 5,
          "metadata": {},
          "output_type": "execute_result"
        }
      ],
      "source": [
        "m.request(\"\"\"\n",
        "JSON.stringify(document.getElementById('study').contentWindow.options)\n",
        "\"\"\")"
      ]
    },
    {
      "cell_type": "code",
      "execution_count": null,
      "id": "70c36681-bb5a-47cf-8b8a-9e1682af1f67",
      "metadata": {},
      "outputs": [],
      "source": []
    }
  ],
  "metadata": {
    "kernelspec": {
      "display_name": "Python 3 (ipykernel)",
      "language": "python",
      "name": "python3"
    },
    "language_info": {
      "codemirror_mode": {
        "name": "ipython",
        "version": 3
      },
      "file_extension": ".py",
      "mimetype": "text/x-python",
      "name": "python",
      "nbconvert_exporter": "python",
      "pygments_lexer": "ipython3",
      "version": "3.12.3"
    }
  },
  "nbformat": 4,
  "nbformat_minor": 5
}
