{
  "cells": [
    {
      "cell_type": "code",
      "execution_count": 1,
      "id": "c0fbc1f0-ae01-4d9d-be26-50b86704e986",
      "metadata": {},
      "outputs": [],
      "source": [
        "def add(a, b):\n",
        "   res = a + b\n",
        "   return res"
      ]
    },
    {
      "cell_type": "code",
      "execution_count": 2,
      "id": "35f9e65b-befa-4a93-9749-97b073bee13a",
      "metadata": {},
      "outputs": [
        {
          "data": {
            "application/vnd.jupyter.widget-view+json": {
              "model_id": "1c7b97e617454b4e8306274758837a9d",
              "version_major": 2,
              "version_minor": 0
            },
            "text/plain": [
              "Output()"
            ]
          },
          "metadata": {},
          "output_type": "display_data"
        },
        {
          "data": {
            "text/html": [
              "<script>\n",
              "function return_id_result(url, id, data) {\n",
              "        fetch(url, {\n",
              "            method: 'POST',\n",
              "            body: JSON.stringify({\n",
              "                'id': id,\n",
              "                'data': data\n",
              "            })\n",
              "        })\n",
              "    }\n",
              "</script>"
            ],
            "text/plain": [
              "<IPython.core.display.HTML object>"
            ]
          },
          "metadata": {},
          "output_type": "display_data"
        },
        {
          "data": {
            "application/javascript": [
              "return_id_result('http://127.0.0.1:8890', 'MiBeqKeyhIJrNlzbhjmA', 'test message')"
            ],
            "text/plain": [
              "<IPython.core.display.Javascript object>"
            ]
          },
          "metadata": {},
          "output_type": "display_data"
        },
        {
          "data": {
            "application/vnd.jupyter.widget-view+json": {
              "model_id": "fdfde290f4fa455792f2c99a9c74b08c",
              "version_major": 2,
              "version_minor": 0
            },
            "text/plain": [
              "Output()"
            ]
          },
          "metadata": {},
          "output_type": "display_data"
        }
      ],
      "source": [
        "from stormvogel.visjs import Network\n",
        "\n",
        "nt = Network(name=\"neem\")\n",
        "nt.enable_exploration_mode(0)\n",
        "nt.add_node(id=0)\n",
        "nt.add_node(id=1, label=\"lol\\n hi\")\n",
        "nt.add_node(id=2, label=\"lol\")\n",
        "nt.add_node(id=3, label=\"hi\")\n",
        "nt.add_node(id=5, label=\"do' not\")\n",
        "nt.add_edge(0, 1, label=\"hi\")\n",
        "nt.add_edge(0, 2)\n",
        "nt.set_options('{nodes: {color: {background: \"red\"}}}')\n",
        "nt.show()\n",
        "\n"
      ]
    },
    {
      "cell_type": "code",
      "execution_count": 3,
      "id": "6375aab2-107c-4b1c-9566-4a4007414d5c",
      "metadata": {},
      "outputs": [
        {
          "name": "stdout",
          "output_type": "stream",
          "text": [
            "\n",
            "<!DOCTYPE html>\n",
            "<html lang=\"en\">\n",
            "  <head>\n",
            "    <title>Network</title>\n",
            "    <script\n",
            "      type=\"text/javascript\"\n",
            "      src=\"https://unpkg.com/vis-network/standalone/umd/vis-network.min.js\"\n",
            "    ></script>\n",
            "    <style type=\"text/css\">\n",
            "      #mynetwork {\n",
            "        \n",
            "        width: 800px;\n",
            "        height: 600px;\n",
            "        border: 1px solid lightgray;\n",
            "        \n",
            "      }\n",
            "    </style>\n",
            "  </head>\n",
            "  <body>\n",
            "    <div id=\"mynetwork\"></div>\n",
            "    <script type=\"text/javascript\">\n",
            "        \n",
            "        var nodes = new vis.DataSet([{ id: 0 },\n",
            "{ id: 1, label: `lol\n",
            " hi`, hidden: true, physics: false },\n",
            "{ id: 2, label: `lol`, hidden: true, physics: false },\n",
            "{ id: 3, label: `hi`, hidden: true, physics: false },\n",
            "{ id: 5, label: `do' not`, hidden: true, physics: false },\n",
            "]);\n",
            "        var edges = new vis.DataSet([{ from: 0, to: 1, label: \"hi\", hidden: true, physics: false },\n",
            "{ from: 0, to: 2, hidden: true, physics: false },\n",
            "]);\n",
            "        var options = {nodes: {color: {background: \"red\"}}};\n",
            "        //js\n",
            "var container = document.getElementById(\"mynetwork\");\n",
            "var data = {\n",
            "    nodes: nodes,\n",
            "    edges: edges,\n",
            "};\n",
            "var network = new vis.Network(container, data, options);\n",
            "function makeAllNodesInvisible() {\n",
            "    ids = nodes.getIds();\n",
            "    for (let i = 0; i < ids.length; i++) {\n",
            "        var nodeId = ids[i];\n",
            "        var node = nodes.get(nodeId);\n",
            "        node[\"hidden\"] = true;\n",
            "        node[\"physics\"] = false;\n",
            "        nodes.update(node);\n",
            "    }\n",
            "};\n",
            "function makeNeighborsVisible(homeId) {\n",
            "    homeNode = nodes.get(homeId);\n",
            "\n",
            "    // Make outgoing nodes visible\n",
            "    var nodeIds = network.getConnectedNodes(homeId, \"to\");\n",
            "    for (let i = 0; i < nodeIds.length; i++) {\n",
            "      var toNodeId = nodeIds[i];\n",
            "      var toNode = nodes.get(toNodeId);\n",
            "      if (toNode[\"hidden\"]) {\n",
            "        toNode[\"hidden\"] = false;\n",
            "        toNode[\"physics\"] = true;\n",
            "        toNode[\"x\"] = network.getPosition(homeId)[\"x\"];\n",
            "        toNode[\"y\"] = network.getPosition(homeId)[\"y\"];\n",
            "        nodes.update(toNode);\n",
            "      }\n",
            "    }\n",
            "    // Make edges visible, if both of the nodes are also visible\n",
            "    var edgeIds = network.getConnectedEdges(homeId);\n",
            "    for (let i = 0; i < edgeIds.length; i++) {\n",
            "        var edgeId = edgeIds[i];\n",
            "        var edge = edges.get(edgeId);\n",
            "        var fromNode = nodes.get(edge.from);\n",
            "        var toNode = nodes.get(edge.to);\n",
            "        if ((! fromNode[\"hidden\"]) && (! toNode[\"hidden\"])) {\n",
            "          edge[\"hidden\"] = false;\n",
            "          edge[\"physics\"] = true;\n",
            "          edges.update(edge);\n",
            "        }\n",
            "    }\n",
            "};\n",
            "network.on( 'click', function(properties) {\n",
            "    var nodeId = network.getNodeAt({x:properties.event.srcEvent.offsetX, y:properties.event.srcEvent.offsetY});\n",
            "    makeNeighborsVisible(nodeId);\n",
            "});\n",
            "network.on( 'doubleClick', function(properties) {\n",
            "    network.setData(data);\n",
            "});\n",
            "function setNodeColor(id, color) {\n",
            "  var node = nodes.get(id);\n",
            "  node[\"color\"] = color\n",
            "  nodes.update(node);\n",
            "}\n",
            "\n",
            "    </script>\n",
            "  </body>\n",
            "</html>\n",
            "\n"
          ]
        },
        {
          "ename": "AttributeError",
          "evalue": "'Network' object has no attribute 'update_exploration_mode'",
          "output_type": "error",
          "traceback": [
            "\u001b[0;31m---------------------------------------------------------------------------\u001b[0m",
            "\u001b[0;31mAttributeError\u001b[0m                            Traceback (most recent call last)",
            "Cell \u001b[0;32mIn[3], line 2\u001b[0m\n\u001b[1;32m      1\u001b[0m \u001b[38;5;28mprint\u001b[39m(nt\u001b[38;5;241m.\u001b[39mgenerate_html())\n\u001b[0;32m----> 2\u001b[0m \u001b[43mnt\u001b[49m\u001b[38;5;241;43m.\u001b[39;49m\u001b[43mupdate_exploration_mode\u001b[49m(\u001b[38;5;241m0\u001b[39m)\n",
            "\u001b[0;31mAttributeError\u001b[0m: 'Network' object has no attribute 'update_exploration_mode'"
          ]
        }
      ],
      "source": [
        "print(nt.generate_html())\n",
        "nt.update_exploration_mode(0)"
      ]
    },
    {
      "cell_type": "code",
      "execution_count": null,
      "id": "8e80054e-dd5e-4a0f-b0f8-4faf34786a9c",
      "metadata": {},
      "outputs": [],
      "source": []
    }
  ],
  "metadata": {
    "kernelspec": {
      "display_name": "Python 3 (ipykernel)",
      "language": "python",
      "name": "python3"
    },
    "language_info": {
      "codemirror_mode": {
        "name": "ipython",
        "version": 3
      },
      "file_extension": ".py",
      "mimetype": "text/x-python",
      "name": "python",
      "nbconvert_exporter": "python",
      "pygments_lexer": "ipython3",
      "version": "3.12.3"
    }
  },
  "nbformat": 4,
  "nbformat_minor": 5
}
