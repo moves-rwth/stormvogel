{
  "cells": [
    {
      "cell_type": "code",
      "execution_count": 1,
      "id": "ba0b609c-3e27-4b26-8bad-9c9f799aa57b",
      "metadata": {},
      "outputs": [
        {
          "name": "stdout",
          "output_type": "stream",
          "text": [
            "Server started http://localhost:8080\n",
            "10\n"
          ]
        },
        {
          "name": "stderr",
          "output_type": "stream",
          "text": [
            "127.0.0.1 - - [01/Sep/2024 13:07:19] \"GET /10 HTTP/1.1\" 200 -\n",
            "127.0.0.1 - - [01/Sep/2024 13:07:20] \"GET /test HTTP/1.1\" 200 -\n"
          ]
        },
        {
          "name": "stdout",
          "output_type": "stream",
          "text": [
            "test\n",
            "11\n"
          ]
        },
        {
          "name": "stderr",
          "output_type": "stream",
          "text": [
            "127.0.0.1 - - [01/Sep/2024 13:07:25] \"GET /11 HTTP/1.1\" 200 -\n"
          ]
        },
        {
          "name": "stdout",
          "output_type": "stream",
          "text": [
            "14\n"
          ]
        },
        {
          "name": "stderr",
          "output_type": "stream",
          "text": [
            "127.0.0.1 - - [01/Sep/2024 13:07:29] \"GET /14 HTTP/1.1\" 200 -\n"
          ]
        },
        {
          "name": "stdout",
          "output_type": "stream",
          "text": [
            "18\n"
          ]
        },
        {
          "name": "stderr",
          "output_type": "stream",
          "text": [
            "127.0.0.1 - - [01/Sep/2024 13:07:33] \"GET /18 HTTP/1.1\" 200 -\n"
          ]
        },
        {
          "name": "stdout",
          "output_type": "stream",
          "text": [
            "303030\n"
          ]
        },
        {
          "name": "stderr",
          "output_type": "stream",
          "text": [
            "127.0.0.1 - - [01/Sep/2024 13:08:46] \"GET /303030 HTTP/1.1\" 200 -\n"
          ]
        }
      ],
      "source": [
        "import stormvogel.local_server\n",
        "\n",
        "\n",
        "m = stormvogel.local_server.JSMessenger()"
      ]
    },
    {
      "cell_type": "code",
      "execution_count": 8,
      "id": "df45110f-0a29-4d70-9239-a95b40aa0ef5",
      "metadata": {},
      "outputs": [
        {
          "data": {
            "text/html": [
              "<script>fetch('http://127.0.0.1:8080/' + \n",
              "String(303030)\n",
              ")</script>"
            ],
            "text/plain": [
              "<IPython.core.display.HTML object>"
            ]
          },
          "metadata": {},
          "output_type": "display_data"
        },
        {
          "data": {
            "text/plain": [
              "'303030'"
            ]
          },
          "execution_count": 8,
          "metadata": {},
          "output_type": "execute_result"
        }
      ],
      "source": [
        "m.request(\"\"\"\n",
        "\n",
        "\"\"\")\n"
      ]
    },
    {
      "cell_type": "code",
      "execution_count": 3,
      "id": "4fc4e391-5058-4e33-bd7a-93434ca7de3c",
      "metadata": {},
      "outputs": [
        {
          "data": {
            "text/html": [
              "<script>fetch('http://127.0.0.1:8080/' + 'test')</script>"
            ],
            "text/plain": [
              "<IPython.core.display.HTML object>"
            ]
          },
          "metadata": {},
          "output_type": "display_data"
        }
      ],
      "source": [
        "import IPython.display as ipd\n",
        "ipd.display(ipd.HTML(f\"<script>fetch('http://127.0.0.1:8080/' + 'test')</script>\"))"
      ]
    },
    {
      "cell_type": "code",
      "execution_count": 4,
      "id": "41df9d3f-1d9a-4fb2-8323-a9e6046c83e0",
      "metadata": {},
      "outputs": [
        {
          "name": "stdout",
          "output_type": "stream",
          "text": [
            "10\n",
            "False\n"
          ]
        }
      ],
      "source": [
        "from stormvogel.local_server import result, received_result\n",
        "\n",
        "print(result)\n",
        "print(received_result)"
      ]
    },
    {
      "cell_type": "code",
      "execution_count": null,
      "id": "b9fab04c-754c-4435-880a-65f043f39002",
      "metadata": {},
      "outputs": [],
      "source": []
    }
  ],
  "metadata": {
    "kernelspec": {
      "display_name": "Python 3 (ipykernel)",
      "language": "python",
      "name": "python3"
    },
    "language_info": {
      "codemirror_mode": {
        "name": "ipython",
        "version": 3
      },
      "file_extension": ".py",
      "mimetype": "text/x-python",
      "name": "python",
      "nbconvert_exporter": "python",
      "pygments_lexer": "ipython3",
      "version": "3.12.3"
    }
  },
  "nbformat": 4,
  "nbformat_minor": 5
}
