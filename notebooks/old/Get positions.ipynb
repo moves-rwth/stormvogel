{
  "cells": [
    {
      "cell_type": "code",
      "execution_count": 5,
      "id": "fd9a1008-b1cc-4a8a-b5d0-0fe2ed0fb7ea",
      "metadata": {},
      "outputs": [],
      "source": [
        "import stormvogel.visjs\n",
        "import logging\n",
        "\n",
        "logging.basicConfig(level=logging.INFO)"
      ]
    },
    {
      "cell_type": "code",
      "execution_count": 6,
      "id": "bba9a434-bef6-4fde-bf66-3ca44d0fd7ae",
      "metadata": {},
      "outputs": [],
      "source": [
        "nt = stormvogel.visjs.Network()\n",
        "nt.add_node(0)"
      ]
    },
    {
      "cell_type": "code",
      "execution_count": 7,
      "id": "ab4042e4-d932-4a2b-8005-322d3df09da1",
      "metadata": {
        "scrolled": true
      },
      "outputs": [
        {
          "data": {
            "application/vnd.jupyter.widget-view+json": {
              "model_id": "0965b5d8e7c94b789cd8933ee0cf5550",
              "version_major": 2,
              "version_minor": 0
            },
            "text/plain": [
              "Output(outputs=({'output_type': 'display_data', 'data': {'text/plain': '<IPython.core.display.HTML object>', '\u2026"
            ]
          },
          "metadata": {},
          "output_type": "display_data"
        }
      ],
      "source": [
        "nt.show()"
      ]
    },
    {
      "cell_type": "code",
      "execution_count": 9,
      "id": "2301dc59-a495-4869-bc89-3d1e81a04d89",
      "metadata": {},
      "outputs": [
        {
          "name": "stderr",
          "output_type": "stream",
          "text": [
            "DEBUG:root:full html: <script>fetch('http://127.0.0.1:8080/pFYGsOTplz/MESSAGE/' + JSON.stringify(document.getElementById('None').contentWindow.network.getPositions()))</script>\n"
          ]
        },
        {
          "data": {
            "text/html": [
              "<script>fetch('http://127.0.0.1:8080/pFYGsOTplz/MESSAGE/' + JSON.stringify(document.getElementById('None').contentWindow.network.getPositions()))</script>"
            ],
            "text/plain": [
              "<IPython.core.display.HTML object>"
            ]
          },
          "metadata": {},
          "output_type": "display_data"
        },
        {
          "name": "stderr",
          "output_type": "stream",
          "text": [
            "INFO:root:Request sent for: pFYGsOTplz\n",
            "DEBUG:root:Waiting for request result: pFYGsOTplz\n",
            "DEBUG:root:Waiting for request result: pFYGsOTplz\n",
            "INFO:root:Succesfully received result of request: pFYGsOTplz\n"
          ]
        },
        {
          "data": {
            "text/plain": [
              "{0: {'x': -14, 'y': 5}}"
            ]
          },
          "execution_count": 9,
          "metadata": {},
          "output_type": "execute_result"
        }
      ],
      "source": [
        "nt.get_positions()"
      ]
    },
    {
      "cell_type": "code",
      "execution_count": null,
      "id": "e25ddfef-6362-4fe9-bb47-0e8608c6a818",
      "metadata": {},
      "outputs": [],
      "source": []
    }
  ],
  "metadata": {
    "kernelspec": {
      "display_name": "Python 3 (ipykernel)",
      "language": "python",
      "name": "python3"
    },
    "language_info": {
      "codemirror_mode": {
        "name": "ipython",
        "version": 3
      },
      "file_extension": ".py",
      "mimetype": "text/x-python",
      "name": "python",
      "nbconvert_exporter": "python",
      "pygments_lexer": "ipython3",
      "version": "3.12.3"
    }
  },
  "nbformat": 4,
  "nbformat_minor": 5
}
