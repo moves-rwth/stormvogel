{
  "cells": [
    {
      "cell_type": "code",
      "execution_count": 1,
      "id": "2e8e7157-9530-4e38-9f7d-5425f58aab28",
      "metadata": {},
      "outputs": [
        {
          "name": "stdout",
          "output_type": "stream",
          "text": [
            "Server started http://localhost:8080\n"
          ]
        },
        {
          "name": "stderr",
          "output_type": "stream",
          "text": [
            "127.0.0.1 - - [01/Sep/2024 11:55:53] \"GET /%7B%22some%22:%22info%22%7D HTTP/1.1\" 200 -\n"
          ]
        },
        {
          "name": "stdout",
          "output_type": "stream",
          "text": [
            "{\"some\":\"info\"}\n"
          ]
        },
        {
          "name": "stderr",
          "output_type": "stream",
          "text": [
            "127.0.0.1 - - [01/Sep/2024 11:56:01] \"GET /%7B%22some%22:%22info%22%7D HTTP/1.1\" 200 -\n"
          ]
        },
        {
          "name": "stdout",
          "output_type": "stream",
          "text": [
            "{\"some\":\"info\"}\n"
          ]
        },
        {
          "name": "stderr",
          "output_type": "stream",
          "text": [
            "127.0.0.1 - - [01/Sep/2024 11:56:09] \"GET /%7B%22some%22:%22info%22%7D HTTP/1.1\" 200 -\n"
          ]
        },
        {
          "name": "stdout",
          "output_type": "stream",
          "text": [
            "{\"some\":\"info\"}\n"
          ]
        }
      ],
      "source": [
        "# Python 3 server example\n",
        "from http.server import BaseHTTPRequestHandler, HTTPServer\n",
        "import time\n",
        "import threading\n",
        "import html\n",
        "import urllib\n",
        "\n",
        "hostName = \"localhost\"\n",
        "serverPort = 8080\n",
        "\n",
        "class MyServer(BaseHTTPRequestHandler):\n",
        "    def do_GET(self):\n",
        "        self.send_response(200)\n",
        "        self.send_header(\"Content-type\", \"text/html\")\n",
        "        self.end_headers()\n",
        "        self.wfile.write(bytes(\"<html><head><title>https://pythonbasics.org</title></head>\", \"utf-8\"))\n",
        "        self.wfile.write(bytes(\"<p>Request: %s</p>\" % self.path, \"utf-8\"))\n",
        "        self.wfile.write(bytes(\"<body>\", \"utf-8\"))\n",
        "        self.wfile.write(bytes(\"<p>This is an example web server.</p>\", \"utf-8\"))\n",
        "        self.wfile.write(bytes(\"</body></html>\", \"utf-8\"))\n",
        "        print(urllib.parse.unquote(self.path[1:]))\n",
        "\n",
        "webServer = HTTPServer((hostName, serverPort), MyServer)\n",
        "\n",
        "def run_server():\n",
        "    print(\"Server started http://%s:%s\" % (hostName, serverPort))\n",
        "    try:\n",
        "        webServer.serve_forever()\n",
        "    except KeyboardInterrupt:\n",
        "        pass\n",
        "    webServer.server_close()\n",
        "    print(\"Server stopped.\")\n",
        "\n",
        "thr = threading.Thread(target=run_server)\n",
        "thr.start()\n",
        "#run_server()\n"
      ]
    },
    {
      "cell_type": "code",
      "execution_count": 3,
      "id": "cac77fb5-aaff-4d3d-8a61-e5b7bb9542d7",
      "metadata": {},
      "outputs": [
        {
          "data": {
            "text/html": [
              "<script>fetch(\"http://127.0.0.1:8080/message-for-you\")</script>"
            ],
            "text/plain": [
              "<IPython.core.display.HTML object>"
            ]
          },
          "metadata": {},
          "output_type": "display_data"
        }
      ],
      "source": [
        "import IPython.display as ipd\n",
        "import threading\n",
        "from time import sleep\n",
        "import logging\n",
        "import ipywidgets as widgets\n",
        "\n",
        "ipd.display(ipd.HTML(\"\"\"<script>fetch(\"http://127.0.0.1:8080/message-for-you\")</script>\"\"\"))"
      ]
    },
    {
      "cell_type": "code",
      "execution_count": 4,
      "id": "692affa3-8978-4a8c-be6f-930e0cdc505a",
      "metadata": {},
      "outputs": [
        {
          "data": {
            "text/html": [
              "<script>\n",
              "fetch('http://127.0.0.1:8080/{\"some\":\"info\"}')\n",
              "</script>"
            ],
            "text/plain": [
              "<IPython.core.display.HTML object>"
            ]
          },
          "metadata": {},
          "output_type": "display_data"
        }
      ],
      "source": [
        "import IPython.display as ipd\n",
        "import threading\n",
        "from time import sleep\n",
        "import logging\n",
        "import ipywidgets as widgets\n",
        "\n",
        "ipd.display(ipd.HTML(\"\"\"<script>\n",
        "fetch('http://127.0.0.1:8080/{\"some\":\"info\"}')\n",
        "</script>\"\"\"))"
      ]
    },
    {
      "cell_type": "code",
      "execution_count": null,
      "id": "1b011fce-9417-4ae8-9bc9-30395af10452",
      "metadata": {},
      "outputs": [],
      "source": []
    },
    {
      "cell_type": "code",
      "execution_count": null,
      "id": "89bafac5-c93c-4f48-9c4a-adbd9778ae42",
      "metadata": {},
      "outputs": [],
      "source": []
    }
  ],
  "metadata": {
    "kernelspec": {
      "display_name": "Python (stormvogel)",
      "language": "python",
      "name": "stormvogel-env"
    },
    "language_info": {
      "codemirror_mode": {
        "name": "ipython",
        "version": 3
      },
      "file_extension": ".py",
      "mimetype": "text/x-python",
      "name": "python",
      "nbconvert_exporter": "python",
      "pygments_lexer": "ipython3",
      "version": "3.11.2"
    }
  },
  "nbformat": 4,
  "nbformat_minor": 5
}
