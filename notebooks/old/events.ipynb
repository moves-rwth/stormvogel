{
  "cells": [
    {
      "cell_type": "code",
      "execution_count": 1,
      "id": "7046b18c-5601-49a2-856e-2bfb8a0cb11a",
      "metadata": {},
      "outputs": [
        {
          "data": {
            "application/vnd.jupyter.widget-view+json": {
              "model_id": "c55059feae1941e483ba242a6cc1ee9e",
              "version_major": 2,
              "version_minor": 0
            },
            "text/plain": [
              "Output()"
            ]
          },
          "metadata": {},
          "output_type": "display_data"
        },
        {
          "data": {
            "text/html": [
              "<script>\n",
              "function return_id_result(url, id, data) {\n",
              "        fetch(url, {\n",
              "            method: 'POST',\n",
              "            body: JSON.stringify({\n",
              "                'id': id,\n",
              "                'data': data\n",
              "            })\n",
              "        })\n",
              "    }\n",
              "</script>"
            ],
            "text/plain": [
              "<IPython.core.display.HTML object>"
            ]
          },
          "metadata": {},
          "output_type": "display_data"
        },
        {
          "data": {
            "application/javascript": [
              "return_id_result('http://127.0.0.1:8889', 'trHoqZlkYgyrWYaxMsdO', 'test message')"
            ],
            "text/plain": [
              "<IPython.core.display.Javascript object>"
            ]
          },
          "metadata": {},
          "output_type": "display_data"
        },
        {
          "name": "stdout",
          "output_type": "stream",
          "text": [
            "return_id_result('http://127.0.0.1:8889', 'trHoqZlkYgyrWYaxMsdO', 'test message')\n"
          ]
        },
        {
          "data": {
            "text/plain": [
              "<stormvogel.communication_server.CommunicationServer at 0x787c29700470>"
            ]
          },
          "execution_count": 1,
          "metadata": {},
          "output_type": "execute_result"
        },
        {
          "name": "stdout",
          "output_type": "stream",
          "text": [
            "f says hi thereffffff\n"
          ]
        }
      ],
      "source": [
        "import stormvogel.communication_server\n",
        "\n",
        "def f(d):\n",
        "    print(\"f says\", d)\n",
        "stormvogel.communication_server.initialize_server()\n",
        "\n"
      ]
    },
    {
      "cell_type": "code",
      "execution_count": 2,
      "id": "18bc1ed3-bf1c-44b8-ae21-c32658854a3a",
      "metadata": {},
      "outputs": [
        {
          "data": {
            "application/javascript": [
              "var inter = \"hi\" + \" thereffffff\"; return_id_result('http://127.0.0.1:8889', 'HYaBLLYAPOogEUVNTflR', inter)"
            ],
            "text/plain": [
              "<IPython.core.display.Javascript object>"
            ]
          },
          "metadata": {},
          "output_type": "display_data"
        },
        {
          "name": "stdout",
          "output_type": "stream",
          "text": [
            "var inter = \"hi\" + \" thereffffff\"; return_id_result('http://127.0.0.1:8889', 'HYaBLLYAPOogEUVNTflR', inter)\n"
          ]
        },
        {
          "data": {
            "text/plain": [
              "'HYaBLLYAPOogEUVNTflR'"
            ]
          },
          "execution_count": 2,
          "metadata": {},
          "output_type": "execute_result"
        }
      ],
      "source": [
        "stormvogel.communication_server.server.add_event(\"\"\"var inter = \"hi\" + \" thereffffff\"; FUNCTION(inter)\"\"\", f)"
      ]
    },
    {
      "cell_type": "code",
      "execution_count": 4,
      "id": "e59ba2f7-740c-4fc1-800e-b126feca870c",
      "metadata": {},
      "outputs": [
        {
          "data": {
            "application/javascript": [
              "return_id_result('http://127.0.0.1:8889', 'YJjuIQtxAqCOJQZJJjHo', 'ABC')"
            ],
            "text/plain": [
              "<IPython.core.display.Javascript object>"
            ]
          },
          "metadata": {},
          "output_type": "display_data"
        },
        {
          "name": "stdout",
          "output_type": "stream",
          "text": [
            "return_id_result('http://127.0.0.1:8889', 'YJjuIQtxAqCOJQZJJjHo', 'ABC')\n"
          ]
        },
        {
          "data": {
            "text/plain": [
              "'ABC'"
            ]
          },
          "execution_count": 4,
          "metadata": {},
          "output_type": "execute_result"
        }
      ],
      "source": [
        "stormvogel.communication_server.server.result(\"RETURN('ABC')\")"
      ]
    }
  ],
  "metadata": {
    "kernelspec": {
      "display_name": "Python 3 (ipykernel)",
      "language": "python",
      "name": "python3"
    },
    "language_info": {
      "codemirror_mode": {
        "name": "ipython",
        "version": 3
      },
      "file_extension": ".py",
      "mimetype": "text/x-python",
      "name": "python",
      "nbconvert_exporter": "python",
      "pygments_lexer": "ipython3",
      "version": "3.12.3"
    }
  },
  "nbformat": 4,
  "nbformat_minor": 5
}
