{
  "cells": [
    {
      "cell_type": "code",
      "execution_count": 1,
      "id": "ae7d7157-5c7c-40c3-8efb-1bd7a08d423b",
      "metadata": {},
      "outputs": [],
      "source": [
        "from stormvogel.dict_editor import DictEditor\n",
        "import IPython.display as ipd\n",
        "import ipywidgets as widgets\n",
        "\n",
        "debug_output = widgets.Output()\n",
        "\n",
        "class S:\n",
        "    x = 0\n",
        "    out = widgets.Output()\n",
        "\n",
        "    def on_update(self):\n",
        "        self.x = self.x + 1\n",
        "        print(\"hi\")\n",
        "        with self.out:\n",
        "            ipd.clear_output()\n",
        "            print(s.x)\n",
        "\n",
        "def on_update():\n",
        "    ipd.Javascript(\"alert('hi');\")\n",
        "\n",
        "values = {\"sec1\": {\"option\": True},\n",
        "            \"sec2\": {\"option\": True}}\n",
        "schema = {\"sec1\":{\"__collapse\": True,\n",
        "    \"option\":        \n",
        "              {\"__description\": \"set option hihi\",\n",
        "               \"__widget\": \"Checkbox\"}\n",
        "                },\n",
        "          \"sec2\":{\"option\":\n",
        "              {\"__description\": \"set option hihi\",\n",
        "               \"__widget\": \"Checkbox\"}}\n",
        "         }\n",
        "s = S()\n",
        "\n",
        "de = DictEditor(schema, values, s.on_update, debug_output=debug_output)"
      ]
    },
    {
      "cell_type": "code",
      "execution_count": 2,
      "id": "09838448-be50-4a77-9f9b-1dbc3fdebf86",
      "metadata": {},
      "outputs": [
        {
          "data": {
            "application/vnd.jupyter.widget-view+json": {
              "model_id": "3c6280ceefef42b4bc0fea2cc7f06590",
              "version_major": 2,
              "version_minor": 0
            },
            "text/plain": [
              "Output(outputs=({'output_type': 'display_data', 'data': {'text/plain': 'Output()', 'application/vnd.jupyter.wi\u2026"
            ]
          },
          "metadata": {},
          "output_type": "display_data"
        }
      ],
      "source": [
        "de.show()"
      ]
    },
    {
      "cell_type": "code",
      "execution_count": 3,
      "id": "23e89927-da3d-4af2-a4e0-3fdb1c56b105",
      "metadata": {},
      "outputs": [
        {
          "name": "stdout",
          "output_type": "stream",
          "text": [
            "{'sec1': {'option': True}, 'sec2': {'option': True}}\n"
          ]
        }
      ],
      "source": [
        "print(values)"
      ]
    },
    {
      "cell_type": "code",
      "execution_count": 4,
      "id": "4e478b76-96d0-450d-8c55-4143389e898e",
      "metadata": {},
      "outputs": [
        {
          "data": {
            "text/plain": [
              "{'sec1': {'option': True}, 'sec2': {'option': True}}"
            ]
          },
          "metadata": {},
          "output_type": "display_data"
        }
      ],
      "source": [
        "ipd.display(values)"
      ]
    },
    {
      "cell_type": "code",
      "execution_count": 5,
      "id": "a77f7992-b7e1-4ab9-8bdb-606e70dfe136",
      "metadata": {},
      "outputs": [
        {
          "data": {
            "application/vnd.jupyter.widget-view+json": {
              "model_id": "1954f63937ca402282ca2aff6a918654",
              "version_major": 2,
              "version_minor": 0
            },
            "text/plain": [
              "Output(outputs=({'name': 'stdout', 'text': '2\\n', 'output_type': 'stream'},))"
            ]
          },
          "execution_count": 5,
          "metadata": {},
          "output_type": "execute_result"
        }
      ],
      "source": [
        "s.out"
      ]
    },
    {
      "cell_type": "code",
      "execution_count": 6,
      "id": "df425034-8f67-4402-b6b2-c4673f9cb514",
      "metadata": {},
      "outputs": [
        {
          "data": {
            "application/vnd.jupyter.widget-view+json": {
              "model_id": "0db037de0d7848deb3475e9fe02d3de7",
              "version_major": 2,
              "version_minor": 0
            },
            "text/plain": [
              "Output()"
            ]
          },
          "execution_count": 6,
          "metadata": {},
          "output_type": "execute_result"
        }
      ],
      "source": [
        "debug_output"
      ]
    }
  ],
  "metadata": {
    "kernelspec": {
      "display_name": "Python 3 (ipykernel)",
      "language": "python",
      "name": "python3"
    },
    "language_info": {
      "codemirror_mode": {
        "name": "ipython",
        "version": 3
      },
      "file_extension": ".py",
      "mimetype": "text/x-python",
      "name": "python",
      "nbconvert_exporter": "python",
      "pygments_lexer": "ipython3",
      "version": "3.12.3"
    }
  },
  "nbformat": 4,
  "nbformat_minor": 5
}
