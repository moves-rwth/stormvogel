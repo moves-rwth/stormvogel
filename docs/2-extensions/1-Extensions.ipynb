{
  "cells": [
    {
      "cell_type": "markdown",
      "id": "fbee15cd-28fc-42ce-901b-6a36107a8ac2",
      "metadata": {},
      "source": [
        "# Extensions\n",
        "In the Introduction chapter, we documented the core functionalities of stormvogel. In this chapter, we document additional tools that are not part of the core functionality but still useful and interesting.\n",
        "\n",
        "* Visualizing the value iteration and DTMC evolution algorithms\n",
        "* MDP and POMDP mazes\n",
        "* Integration with gymnasion"
      ]
    },
    {
      "cell_type": "code",
      "execution_count": null,
      "id": "96bd51fc-1c12-4a57-9f48-0080a373c2e3",
      "metadata": {},
      "outputs": [],
      "source": []
    }
  ],
  "metadata": {
    "kernelspec": {
      "display_name": "Python 3 (ipykernel)",
      "language": "python",
      "name": "python3"
    },
    "language_info": {
      "codemirror_mode": {
        "name": "ipython",
        "version": 3
      },
      "file_extension": ".py",
      "mimetype": "text/x-python",
      "name": "python",
      "nbconvert_exporter": "python",
      "pygments_lexer": "ipython3",
      "version": "3.12.3"
    }
  },
  "nbformat": 4,
  "nbformat_minor": 5
}
