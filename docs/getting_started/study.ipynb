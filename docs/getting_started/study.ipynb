{
  "cells": [
    {
      "cell_type": "markdown",
      "id": "31fda09b",
      "metadata": {},
      "source": [
        "# The studying dilemma"
      ]
    },
    {
      "cell_type": "code",
      "execution_count": 1,
      "id": "e924f3a4",
      "metadata": {
        "execution": {
          "iopub.execute_input": "2024-07-09T08:20:26.825515Z",
          "iopub.status.busy": "2024-07-09T08:20:26.824866Z",
          "iopub.status.idle": "2024-07-09T08:20:26.945374Z",
          "shell.execute_reply": "2024-07-09T08:20:26.945100Z"
        }
      },
      "outputs": [],
      "source": [
        "import stormvogel.model\n",
        "import stormvogel.visualization\n",
        "from stormvogel.visualization import show, Layout"
      ]
    },
    {
      "cell_type": "markdown",
      "id": "0b09222b",
      "metadata": {},
      "source": [
        "Let's create an MDP and add all states:"
      ]
    },
    {
      "cell_type": "code",
      "execution_count": 2,
      "id": "1f2120a8",
      "metadata": {
        "execution": {
          "iopub.execute_input": "2024-07-09T08:20:26.946953Z",
          "iopub.status.busy": "2024-07-09T08:20:26.946840Z",
          "iopub.status.idle": "2024-07-09T08:20:26.949021Z",
          "shell.execute_reply": "2024-07-09T08:20:26.948798Z"
        }
      },
      "outputs": [],
      "source": [
        "mdp = stormvogel.model.new_mdp(\"Monty Hall\")\n",
        "\n",
        "init = mdp.get_initial_state()\n",
        "study = mdp.action(\"study\")\n",
        "not_study = mdp.action(\"don't study\")\n",
        "\n",
        "studied = mdp.new_state(\"studied\")\n",
        "not_studied = mdp.new_state(\"didn't study\")\n",
        "pass_test = mdp.new_state(\"pass test\")\n",
        "fail_test = mdp.new_state(\"fail test\")\n",
        "end = mdp.new_state(\"end\")"
      ]
    },
    {
      "cell_type": "code",
      "execution_count": 3,
      "id": "1143b6c0",
      "metadata": {
        "execution": {
          "iopub.execute_input": "2024-07-09T08:20:26.950304Z",
          "iopub.status.busy": "2024-07-09T08:20:26.950231Z",
          "iopub.status.idle": "2024-07-09T08:20:26.951762Z",
          "shell.execute_reply": "2024-07-09T08:20:26.951567Z"
        }
      },
      "outputs": [],
      "source": [
        "init.set_transitions([\n",
        "    (study, studied),\n",
        "    (not_study, not_studied)\n",
        "])"
      ]
    },
    {
      "cell_type": "markdown",
      "id": "1db64312",
      "metadata": {},
      "source": [
        "If you studied, then there is a 90% chance that you pass the test."
      ]
    },
    {
      "cell_type": "code",
      "execution_count": 4,
      "id": "64bfb789",
      "metadata": {
        "execution": {
          "iopub.execute_input": "2024-07-09T08:20:26.952971Z",
          "iopub.status.busy": "2024-07-09T08:20:26.952897Z",
          "iopub.status.idle": "2024-07-09T08:20:26.954414Z",
          "shell.execute_reply": "2024-07-09T08:20:26.954198Z"
        }
      },
      "outputs": [],
      "source": [
        "studied.set_transitions([\n",
        "    (9/10, pass_test),\n",
        "    (1/10, fail_test)\n",
        "])"
      ]
    },
    {
      "cell_type": "markdown",
      "id": "600839f5",
      "metadata": {},
      "source": [
        "If you did not study, then there is only a 40% chance that you pass the test."
      ]
    },
    {
      "cell_type": "code",
      "execution_count": 5,
      "id": "89d1d749",
      "metadata": {
        "execution": {
          "iopub.execute_input": "2024-07-09T08:20:26.955656Z",
          "iopub.status.busy": "2024-07-09T08:20:26.955580Z",
          "iopub.status.idle": "2024-07-09T08:20:26.957175Z",
          "shell.execute_reply": "2024-07-09T08:20:26.956924Z"
        }
      },
      "outputs": [],
      "source": [
        "not_studied.set_transitions([\n",
        "    (4/10, pass_test),\n",
        "    (6/10, fail_test)\n",
        "])"
      ]
    },
    {
      "cell_type": "markdown",
      "id": "b0c4965f",
      "metadata": {},
      "source": [
        "After the test, you are done"
      ]
    },
    {
      "cell_type": "code",
      "execution_count": 6,
      "id": "2f8fb42e",
      "metadata": {
        "execution": {
          "iopub.execute_input": "2024-07-09T08:20:26.958462Z",
          "iopub.status.busy": "2024-07-09T08:20:26.958374Z",
          "iopub.status.idle": "2024-07-09T08:20:26.959893Z",
          "shell.execute_reply": "2024-07-09T08:20:26.959669Z"
        }
      },
      "outputs": [],
      "source": [
        "pass_test.set_transitions([(1, end)])\n",
        "fail_test.set_transitions([(1, end)])"
      ]
    },
    {
      "cell_type": "markdown",
      "id": "14d7ab92",
      "metadata": {},
      "source": [
        "We'll add some rewards for passing the test (nice!) and for not studying (had some free time)"
      ]
    },
    {
      "cell_type": "code",
      "execution_count": 7,
      "id": "bfcbb7fa",
      "metadata": {
        "execution": {
          "iopub.execute_input": "2024-07-09T08:20:26.961112Z",
          "iopub.status.busy": "2024-07-09T08:20:26.961038Z",
          "iopub.status.idle": "2024-07-09T08:20:26.962602Z",
          "shell.execute_reply": "2024-07-09T08:20:26.962405Z"
        }
      },
      "outputs": [],
      "source": [
        "reward_model = mdp.add_rewards(\"R\")\n",
        "reward_model.set(pass_test, 100)\n",
        "reward_model.set(fail_test, 0)\n",
        "reward_model.set(not_studied, 15)"
      ]
    },
    {
      "cell_type": "markdown",
      "id": "797e09bb",
      "metadata": {},
      "source": [
        "We'll decorate our model with a nice layout."
      ]
    },
    {
      "cell_type": "code",
      "execution_count": 8,
      "id": "0df1511e-565d-45d0-93a8-adafbfaaaefa",
      "metadata": {
        "execution": {
          "iopub.execute_input": "2024-07-09T08:20:26.963792Z",
          "iopub.status.busy": "2024-07-09T08:20:26.963716Z",
          "iopub.status.idle": "2024-07-09T08:20:26.980875Z",
          "shell.execute_reply": "2024-07-09T08:20:26.980676Z"
        }
      },
      "outputs": [
        {
          "data": {
            "text/html": [
              "\n",
              "        <iframe\n",
              "            style=\"width: 100%; height: calc(600px + 50px);\"\n",
              "            frameborder=\"0\"\n",
              "            srcdoc=\"&lt;html&gt;\n",
              "    &lt;head&gt;\n",
              "        &lt;meta charset=&quot;utf-8&quot;&gt;\n",
              "        \n",
              "            &lt;script&gt;function neighbourhoodHighlight(params) {\n",
              "  // console.log(&quot;in nieghbourhoodhighlight&quot;);\n",
              "  allNodes = nodes.get({ returnType: &quot;Object&quot; });\n",
              "  // originalNodes = JSON.parse(JSON.stringify(allNodes));\n",
              "  // if something is selected:\n",
              "  if (params.nodes.length &gt; 0) {\n",
              "    highlightActive = true;\n",
              "    var i, j;\n",
              "    var selectedNode = params.nodes[0];\n",
              "    var degrees = 2;\n",
              "\n",
              "    // mark all nodes as hard to read.\n",
              "    for (let nodeId in allNodes) {\n",
              "      // nodeColors[nodeId] = allNodes[nodeId].color;\n",
              "      allNodes[nodeId].color = &quot;rgba(200,200,200,0.5)&quot;;\n",
              "      if (allNodes[nodeId].hiddenLabel === undefined) {\n",
              "        allNodes[nodeId].hiddenLabel = allNodes[nodeId].label;\n",
              "        allNodes[nodeId].label = undefined;\n",
              "      }\n",
              "    }\n",
              "    var connectedNodes = network.getConnectedNodes(selectedNode);\n",
              "    var allConnectedNodes = [];\n",
              "\n",
              "    // get the second degree nodes\n",
              "    for (i = 1; i &lt; degrees; i++) {\n",
              "      for (j = 0; j &lt; connectedNodes.length; j++) {\n",
              "        allConnectedNodes = allConnectedNodes.concat(\n",
              "          network.getConnectedNodes(connectedNodes[j])\n",
              "        );\n",
              "      }\n",
              "    }\n",
              "\n",
              "    // all second degree nodes get a different color and their label back\n",
              "    for (i = 0; i &lt; allConnectedNodes.length; i++) {\n",
              "      // allNodes[allConnectedNodes[i]].color = &quot;pink&quot;;\n",
              "      allNodes[allConnectedNodes[i]].color = &quot;rgba(150,150,150,0.75)&quot;;\n",
              "      if (allNodes[allConnectedNodes[i]].hiddenLabel !== undefined) {\n",
              "        allNodes[allConnectedNodes[i]].label =\n",
              "          allNodes[allConnectedNodes[i]].hiddenLabel;\n",
              "        allNodes[allConnectedNodes[i]].hiddenLabel = undefined;\n",
              "      }\n",
              "    }\n",
              "\n",
              "    // all first degree nodes get their own color and their label back\n",
              "    for (i = 0; i &lt; connectedNodes.length; i++) {\n",
              "      // allNodes[connectedNodes[i]].color = undefined;\n",
              "      allNodes[connectedNodes[i]].color = nodeColors[connectedNodes[i]];\n",
              "      if (allNodes[connectedNodes[i]].hiddenLabel !== undefined) {\n",
              "        allNodes[connectedNodes[i]].label =\n",
              "          allNodes[connectedNodes[i]].hiddenLabel;\n",
              "        allNodes[connectedNodes[i]].hiddenLabel = undefined;\n",
              "      }\n",
              "    }\n",
              "\n",
              "    // the main node gets its own color and its label back.\n",
              "    // allNodes[selectedNode].color = undefined;\n",
              "    allNodes[selectedNode].color = nodeColors[selectedNode];\n",
              "    if (allNodes[selectedNode].hiddenLabel !== undefined) {\n",
              "      allNodes[selectedNode].label = allNodes[selectedNode].hiddenLabel;\n",
              "      allNodes[selectedNode].hiddenLabel = undefined;\n",
              "    }\n",
              "  } else if (highlightActive === true) {\n",
              "    // console.log(&quot;highlightActive was true&quot;);\n",
              "    // reset all nodes\n",
              "    for (let nodeId in allNodes) {\n",
              "      // allNodes[nodeId].color = &quot;purple&quot;;\n",
              "      allNodes[nodeId].color = nodeColors[nodeId];\n",
              "      // delete allNodes[nodeId].color;\n",
              "      if (allNodes[nodeId].hiddenLabel !== undefined) {\n",
              "        allNodes[nodeId].label = allNodes[nodeId].hiddenLabel;\n",
              "        allNodes[nodeId].hiddenLabel = undefined;\n",
              "      }\n",
              "    }\n",
              "    highlightActive = false;\n",
              "  }\n",
              "\n",
              "  // transform the object into an array\n",
              "  var updateArray = [];\n",
              "  if (params.nodes.length &gt; 0) {\n",
              "    for (let nodeId in allNodes) {\n",
              "      if (allNodes.hasOwnProperty(nodeId)) {\n",
              "        // console.log(allNodes[nodeId]);\n",
              "        updateArray.push(allNodes[nodeId]);\n",
              "      }\n",
              "    }\n",
              "    nodes.update(updateArray);\n",
              "  } else {\n",
              "    // console.log(&quot;Nothing was selected&quot;);\n",
              "    for (let nodeId in allNodes) {\n",
              "      if (allNodes.hasOwnProperty(nodeId)) {\n",
              "        // console.log(allNodes[nodeId]);\n",
              "        // allNodes[nodeId].color = {};\n",
              "        updateArray.push(allNodes[nodeId]);\n",
              "      }\n",
              "    }\n",
              "    nodes.update(updateArray);\n",
              "  }\n",
              "}\n",
              "\n",
              "function filterHighlight(params) {\n",
              "  allNodes = nodes.get({ returnType: &quot;Object&quot; });\n",
              "  // if something is selected:\n",
              "  if (params.nodes.length &gt; 0) {\n",
              "    filterActive = true;\n",
              "    let selectedNodes = params.nodes;\n",
              "\n",
              "    // hiding all nodes and saving the label\n",
              "    for (let nodeId in allNodes) {\n",
              "      allNodes[nodeId].hidden = true;\n",
              "      if (allNodes[nodeId].savedLabel === undefined) {\n",
              "        allNodes[nodeId].savedLabel = allNodes[nodeId].label;\n",
              "        allNodes[nodeId].label = undefined;\n",
              "      }\n",
              "    }\n",
              "\n",
              "    for (let i=0; i &lt; selectedNodes.length; i++) {\n",
              "      allNodes[selectedNodes[i]].hidden = false;\n",
              "      if (allNodes[selectedNodes[i]].savedLabel !== undefined) {\n",
              "        allNodes[selectedNodes[i]].label = allNodes[selectedNodes[i]].savedLabel;\n",
              "        allNodes[selectedNodes[i]].savedLabel = undefined;\n",
              "      }\n",
              "    }\n",
              "\n",
              "  } else if (filterActive === true) {\n",
              "    // reset all nodes\n",
              "    for (let nodeId in allNodes) {\n",
              "      allNodes[nodeId].hidden = false;\n",
              "      if (allNodes[nodeId].savedLabel !== undefined) {\n",
              "        allNodes[nodeId].label = allNodes[nodeId].savedLabel;\n",
              "        allNodes[nodeId].savedLabel = undefined;\n",
              "      }\n",
              "    }\n",
              "    filterActive = false;\n",
              "  }\n",
              "\n",
              "  // transform the object into an array\n",
              "  var updateArray = [];\n",
              "  if (params.nodes.length &gt; 0) {\n",
              "    for (let nodeId in allNodes) {\n",
              "      if (allNodes.hasOwnProperty(nodeId)) {\n",
              "        updateArray.push(allNodes[nodeId]);\n",
              "      }\n",
              "    }\n",
              "    nodes.update(updateArray);\n",
              "  } else {\n",
              "    for (let nodeId in allNodes) {\n",
              "      if (allNodes.hasOwnProperty(nodeId)) {\n",
              "        updateArray.push(allNodes[nodeId]);\n",
              "      }\n",
              "    }\n",
              "    nodes.update(updateArray);\n",
              "  }\n",
              "}\n",
              "\n",
              "function selectNode(nodes) {\n",
              "  network.selectNodes(nodes);\n",
              "  neighbourhoodHighlight({ nodes: nodes });\n",
              "  return nodes;\n",
              "}\n",
              "\n",
              "function selectNodes(nodes) {\n",
              "  network.selectNodes(nodes);\n",
              "  filterHighlight({nodes: nodes});\n",
              "  return nodes;\n",
              "}\n",
              "\n",
              "function highlightFilter(filter) {\n",
              "  let selectedNodes = []\n",
              "  let selectedProp = filter[&#x27;property&#x27;]\n",
              "  if (filter[&#x27;item&#x27;] === &#x27;node&#x27;) {\n",
              "    let allNodes = nodes.get({ returnType: &quot;Object&quot; });\n",
              "    for (let nodeId in allNodes) {\n",
              "      if (allNodes[nodeId][selectedProp] &amp;&amp; filter[&#x27;value&#x27;].includes((allNodes[nodeId][selectedProp]).toString())) {\n",
              "        selectedNodes.push(nodeId)\n",
              "      }\n",
              "    }\n",
              "  }\n",
              "  else if (filter[&#x27;item&#x27;] === &#x27;edge&#x27;){\n",
              "    let allEdges = edges.get({returnType: &#x27;object&#x27;});\n",
              "    // check if the selected property exists for selected edge and select the nodes connected to the edge\n",
              "    for (let edge in allEdges) {\n",
              "      if (allEdges[edge][selectedProp] &amp;&amp; filter[&#x27;value&#x27;].includes((allEdges[edge][selectedProp]).toString())) {\n",
              "        selectedNodes.push(allEdges[edge][&#x27;from&#x27;])\n",
              "        selectedNodes.push(allEdges[edge][&#x27;to&#x27;])\n",
              "      }\n",
              "    }\n",
              "  }\n",
              "  selectNodes(selectedNodes)\n",
              "}&lt;/script&gt;\n",
              "            &lt;link rel=&quot;stylesheet&quot; href=&quot;https://cdnjs.cloudflare.com/ajax/libs/vis-network/9.1.2/dist/dist/vis-network.min.css&quot; integrity=&quot;sha512-WgxfT5LWjfszlPHXRmBWHkV2eceiWTOBvrKCNbdgDYTHrT2AeLCGbF4sZlZw3UMN3WtL0tGUoIAKsu8mllg/XA==&quot; crossorigin=&quot;anonymous&quot; referrerpolicy=&quot;no-referrer&quot; /&gt;\n",
              "            &lt;script src=&quot;https://cdnjs.cloudflare.com/ajax/libs/vis-network/9.1.2/dist/vis-network.min.js&quot; integrity=&quot;sha512-LnvoEWDFrqGHlHmDD2101OrLcbsfkrzoSpvtSQtxK3RMnRV0eOkhhBN2dXHKRrUU8p2DGRTk35n4O8nWSVe1mQ==&quot; crossorigin=&quot;anonymous&quot; referrerpolicy=&quot;no-referrer&quot;&gt;&lt;/script&gt;\n",
              "            \n",
              "            \n",
              "            \n",
              "            \n",
              "            \n",
              "            \n",
              "\n",
              "        \n",
              "&lt;center&gt;\n",
              "&lt;h1&gt;&lt;/h1&gt;\n",
              "&lt;/center&gt;\n",
              "\n",
              "&lt;!-- &lt;link rel=&quot;stylesheet&quot; href=&quot;../node_modules/vis/dist/vis.min.css&quot; type=&quot;text/css&quot; /&gt;\n",
              "&lt;script type=&quot;text/javascript&quot; src=&quot;../node_modules/vis/dist/vis.js&quot;&gt; &lt;/script&gt;--&gt;\n",
              "        &lt;link\n",
              "          href=&quot;https://cdn.jsdelivr.net/npm/bootstrap@5.0.0-beta3/dist/css/bootstrap.min.css&quot;\n",
              "          rel=&quot;stylesheet&quot;\n",
              "          integrity=&quot;sha384-eOJMYsd53ii+scO/bJGFsiCZc+5NDVN2yr8+0RDqr0Ql0h+rP48ckxlpbzKgwra6&quot;\n",
              "          crossorigin=&quot;anonymous&quot;\n",
              "        /&gt;\n",
              "        &lt;script\n",
              "          src=&quot;https://cdn.jsdelivr.net/npm/bootstrap@5.0.0-beta3/dist/js/bootstrap.bundle.min.js&quot;\n",
              "          integrity=&quot;sha384-JEW9xMcG8R+pH31jmWH6WWP0WintQrMb4s7ZOdauHnUtxwoG2vI5DkLtS3qm9Ekf&quot;\n",
              "          crossorigin=&quot;anonymous&quot;\n",
              "        &gt;&lt;/script&gt;\n",
              "\n",
              "\n",
              "        &lt;center&gt;\n",
              "          &lt;h1&gt;&lt;/h1&gt;\n",
              "        &lt;/center&gt;\n",
              "        &lt;style type=&quot;text/css&quot;&gt;\n",
              "\n",
              "             #mynetwork {\n",
              "                 width: 100%;\n",
              "                 height: 600px;\n",
              "                 background-color: #ffffff;\n",
              "                 border: 1px solid lightgray;\n",
              "                 position: relative;\n",
              "                 float: left;\n",
              "             }\n",
              "\n",
              "             \n",
              "\n",
              "             \n",
              "\n",
              "             \n",
              "        &lt;/style&gt;\n",
              "    &lt;/head&gt;\n",
              "\n",
              "\n",
              "    &lt;body&gt;\n",
              "        &lt;div class=&quot;card&quot; style=&quot;width: 100%&quot;&gt;\n",
              "            \n",
              "            \n",
              "            &lt;div id=&quot;mynetwork&quot; class=&quot;card-body&quot;&gt;&lt;/div&gt;\n",
              "        &lt;/div&gt;\n",
              "\n",
              "        \n",
              "        \n",
              "\n",
              "        &lt;script type=&quot;text/javascript&quot;&gt;\n",
              "\n",
              "              // initialize global variables.\n",
              "              var edges;\n",
              "              var nodes;\n",
              "              var allNodes;\n",
              "              var allEdges;\n",
              "              var nodeColors;\n",
              "              var originalNodes;\n",
              "              var network;\n",
              "              var container;\n",
              "              var options, data;\n",
              "              var filter = {\n",
              "                  item : &#x27;&#x27;,\n",
              "                  property : &#x27;&#x27;,\n",
              "                  value : []\n",
              "              };\n",
              "\n",
              "              \n",
              "\n",
              "              \n",
              "\n",
              "              // This method is responsible for drawing the graph, returns the drawn network\n",
              "              function drawGraph() {\n",
              "                  var container = document.getElementById(&#x27;mynetwork&#x27;);\n",
              "\n",
              "                  \n",
              "\n",
              "                  // parsing and collecting nodes and edges from the python\n",
              "                  nodes = new vis.DataSet([{&quot;borderWidth&quot;: 3, &quot;color&quot;: null, &quot;id&quot;: 0, &quot;label&quot;: &quot;init&quot;, &quot;shape&quot;: &quot;circle&quot;}, {&quot;borderWidth&quot;: 1, &quot;color&quot;: &quot;#f8e45c&quot;, &quot;id&quot;: 1, &quot;label&quot;: &quot;studied&quot;, &quot;shape&quot;: &quot;star&quot;}, {&quot;borderWidth&quot;: 1, &quot;color&quot;: &quot;#f8e45c&quot;, &quot;id&quot;: 2, &quot;label&quot;: &quot;didn\\u0027t study\\nR: 15&quot;, &quot;shape&quot;: &quot;star&quot;}, {&quot;borderWidth&quot;: 1, &quot;color&quot;: &quot;#f8e45c&quot;, &quot;id&quot;: 3, &quot;label&quot;: &quot;pass test\\nR: 100&quot;, &quot;shape&quot;: &quot;star&quot;}, {&quot;borderWidth&quot;: 1, &quot;color&quot;: &quot;#f8e45c&quot;, &quot;id&quot;: 4, &quot;label&quot;: &quot;fail test\\nR: 0&quot;, &quot;shape&quot;: &quot;star&quot;}, {&quot;borderWidth&quot;: 1, &quot;color&quot;: &quot;#f8e45c&quot;, &quot;id&quot;: 5, &quot;label&quot;: &quot;end&quot;, &quot;shape&quot;: &quot;star&quot;}, {&quot;borderWidth&quot;: 1, &quot;color&quot;: null, &quot;id&quot;: 10000000000, &quot;label&quot;: &quot;study&quot;, &quot;shape&quot;: &quot;box&quot;}, {&quot;borderWidth&quot;: 1, &quot;color&quot;: null, &quot;id&quot;: 10000000001, &quot;label&quot;: &quot;don\\u0027t study&quot;, &quot;shape&quot;: &quot;box&quot;}]);\n",
              "                  edges = new vis.DataSet([{&quot;arrows&quot;: &quot;to&quot;, &quot;color&quot;: null, &quot;from&quot;: 0, &quot;to&quot;: 10000000000}, {&quot;arrows&quot;: &quot;to&quot;, &quot;color&quot;: null, &quot;from&quot;: 10000000000, &quot;label&quot;: &quot;1.0&quot;, &quot;to&quot;: 1}, {&quot;arrows&quot;: &quot;to&quot;, &quot;color&quot;: null, &quot;from&quot;: 0, &quot;to&quot;: 10000000001}, {&quot;arrows&quot;: &quot;to&quot;, &quot;color&quot;: null, &quot;from&quot;: 10000000001, &quot;label&quot;: &quot;1.0&quot;, &quot;to&quot;: 2}, {&quot;arrows&quot;: &quot;to&quot;, &quot;color&quot;: null, &quot;from&quot;: 1, &quot;label&quot;: &quot;0.9&quot;, &quot;to&quot;: 3}, {&quot;arrows&quot;: &quot;to&quot;, &quot;color&quot;: null, &quot;from&quot;: 1, &quot;label&quot;: &quot;0.1&quot;, &quot;to&quot;: 4}, {&quot;arrows&quot;: &quot;to&quot;, &quot;color&quot;: null, &quot;from&quot;: 2, &quot;label&quot;: &quot;0.4&quot;, &quot;to&quot;: 3}, {&quot;arrows&quot;: &quot;to&quot;, &quot;color&quot;: null, &quot;from&quot;: 2, &quot;label&quot;: &quot;0.6&quot;, &quot;to&quot;: 4}, {&quot;arrows&quot;: &quot;to&quot;, &quot;color&quot;: null, &quot;from&quot;: 3, &quot;label&quot;: &quot;1.0&quot;, &quot;to&quot;: 5}, {&quot;arrows&quot;: &quot;to&quot;, &quot;color&quot;: null, &quot;from&quot;: 4, &quot;label&quot;: &quot;1.0&quot;, &quot;to&quot;: 5}, {&quot;arrows&quot;: &quot;to&quot;, &quot;color&quot;: null, &quot;from&quot;: 5, &quot;label&quot;: &quot;1.0&quot;, &quot;to&quot;: 5}]);\n",
              "\n",
              "                  nodeColors = {};\n",
              "                  allNodes = nodes.get({ returnType: &quot;Object&quot; });\n",
              "                  for (nodeId in allNodes) {\n",
              "                    nodeColors[nodeId] = allNodes[nodeId].color;\n",
              "                  }\n",
              "                  allEdges = edges.get({ returnType: &quot;Object&quot; });\n",
              "                  // adding nodes and edges to the graph\n",
              "                  data = {nodes: nodes, edges: edges};\n",
              "\n",
              "                  var options = {&quot;nodes&quot;: {&quot;color&quot;: {&quot;background&quot;: &quot;#99c1f1&quot;, &quot;border&quot;: &quot;#000000&quot;, &quot;highlight&quot;: {&quot;background&quot;: &quot;white&quot;, &quot;border&quot;: &quot;black&quot;}, &quot;font&quot;: {&quot;color&quot;: &quot;black&quot;, &quot;size&quot;: 14}}}, &quot;init&quot;: {&quot;borderWidth&quot;: 3, &quot;color&quot;: null, &quot;shape&quot;: &quot;circle&quot;, &quot;repulsion&quot;: 1}, &quot;states&quot;: {&quot;borderWidth&quot;: 1, &quot;color&quot;: &quot;#f8e45c&quot;, &quot;shape&quot;: &quot;star&quot;, &quot;repulsion&quot;: 1}, &quot;actions&quot;: {&quot;borderWidth&quot;: 1, &quot;color&quot;: null, &quot;shape&quot;: &quot;box&quot;, &quot;repulsion&quot;: 1}, &quot;numbers&quot;: {&quot;fractions&quot;: false, &quot;digits&quot;: 5, &quot;max_denominator&quot;: 20}, &quot;edges&quot;: {&quot;font&quot;: {&quot;color&quot;: &quot;black&quot;, &quot;size&quot;: 14}}, &quot;layout&quot;: {&quot;randomSeed&quot;: 5}, &quot;rounding&quot;: {&quot;fractions&quot;: &quot;False&quot;, &quot;digits&quot;: 2}};\n",
              "\n",
              "                  \n",
              "\n",
              "\n",
              "                  \n",
              "\n",
              "                  network = new vis.Network(container, data, options);\n",
              "\n",
              "                  \n",
              "\n",
              "                  \n",
              "\n",
              "                  \n",
              "\n",
              "\n",
              "                  \n",
              "\n",
              "                  return network;\n",
              "\n",
              "              }\n",
              "              drawGraph();\n",
              "        &lt;/script&gt;\n",
              "    &lt;/body&gt;\n",
              "&lt;/html&gt;\"\n",
              "            border:none !important;\n",
              "            allowfullscreen webkitallowfullscreen mozallowfullscreen\n",
              "        ></iframe>"
            ],
            "text/plain": [
              "<IPython.core.display.HTML object>"
            ]
          },
          "metadata": {},
          "output_type": "display_data"
        },
        {
          "data": {
            "text/plain": [
              "<stormvogel.visualization.Visualization at 0x11fba6750>"
            ]
          },
          "execution_count": 8,
          "metadata": {},
          "output_type": "execute_result"
        }
      ],
      "source": [
        "show(mdp, layout=Layout(\"stars.json\"))"
      ]
    }
  ],
  "metadata": {
    "kernelspec": {
      "display_name": "Python 3 (ipykernel)",
      "language": "python",
      "name": "python3"
    },
    "language_info": {
      "codemirror_mode": {
        "name": "ipython",
        "version": 3
      },
      "file_extension": ".py",
      "mimetype": "text/x-python",
      "name": "python",
      "nbconvert_exporter": "python",
      "pygments_lexer": "ipython3",
      "version": "3.12.4"
    }
  },
  "nbformat": 4,
  "nbformat_minor": 5
}
