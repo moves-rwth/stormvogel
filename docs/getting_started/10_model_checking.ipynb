{
  "cells": [
    {
      "cell_type": "code",
      "execution_count": 1,
      "id": "f677ad96-491b-410b-b161-1801e8ee526a",
      "metadata": {},
      "outputs": [],
      "source": [
        "import stormvogel.model\n",
        "from stormvogel import show, model_checking, property_builder"
      ]
    },
    {
      "cell_type": "code",
      "execution_count": 2,
      "id": "56e3af45-3e12-43d6-a16a-786da89ef504",
      "metadata": {
        "scrolled": true
      },
      "outputs": [
        {
          "data": {
            "application/vnd.jupyter.widget-view+json": {
              "model_id": "c1f1e7ae10d04acdb324d449093ddf11",
              "version_major": 2,
              "version_minor": 0
            },
            "text/plain": [
              "Output()"
            ]
          },
          "metadata": {},
          "output_type": "display_data"
        },
        {
          "data": {
            "text/html": [
              "<script>\n",
              "function return_id_result(url, id, data) {\n",
              "        fetch(url, {\n",
              "            method: 'POST',\n",
              "            body: JSON.stringify({\n",
              "                'id': id,\n",
              "                'data': data\n",
              "            })\n",
              "        })\n",
              "    }\n",
              "</script>"
            ],
            "text/plain": [
              "<IPython.core.display.HTML object>"
            ]
          },
          "metadata": {},
          "output_type": "display_data"
        },
        {
          "data": {
            "application/javascript": [
              "return_id_result('http://127.0.0.1:8889', 'leEnrFDfwhhZzcTjzBuH', 'test message')"
            ],
            "text/plain": [
              "<IPython.core.display.Javascript object>"
            ]
          },
          "metadata": {},
          "output_type": "display_data"
        },
        {
          "data": {
            "application/vnd.jupyter.widget-view+json": {
              "model_id": "bf61e936abae407eb6159386454b81b3",
              "version_major": 2,
              "version_minor": 0
            },
            "text/plain": [
              "Output()"
            ]
          },
          "metadata": {},
          "output_type": "display_data"
        },
        {
          "data": {
            "application/vnd.jupyter.widget-view+json": {
              "model_id": "02cdd91406204c1f850b893d22088d79",
              "version_major": 2,
              "version_minor": 0
            },
            "text/plain": [
              "HBox(children=(Output(), Output()))"
            ]
          },
          "metadata": {},
          "output_type": "display_data"
        },
        {
          "data": {
            "text/plain": [
              "<stormvogel.visualization.Visualization at 0x7fbcdb38ac00>"
            ]
          },
          "execution_count": 2,
          "metadata": {},
          "output_type": "execute_result"
        }
      ],
      "source": [
        "mdp = stormvogel.model.new_mdp(\"Monty Hall\")\n",
        "\n",
        "init = mdp.get_initial_state()\n",
        "\n",
        "# first choose car position\n",
        "init.set_transitions(\n",
        "    [(1 / 3, mdp.new_state(\"carchosen\", {\"car_pos\": i})) for i in range(3)]\n",
        ")\n",
        "\n",
        "# we choose a door in each case\n",
        "for s in mdp.get_states_with_label(\"carchosen\"):\n",
        "    s.set_transitions(\n",
        "        [\n",
        "            (\n",
        "                mdp.action(f\"open{i}\"),\n",
        "                mdp.new_state(\"open\", s.features | {\"chosen_pos\": i}),\n",
        "            )\n",
        "            for i in range(3)\n",
        "        ]\n",
        "    )\n",
        "\n",
        "# the other goat is revealed\n",
        "for s in mdp.get_states_with_label(\"open\"):\n",
        "    car_pos = s.features[\"car_pos\"]\n",
        "    chosen_pos = s.features[\"chosen_pos\"]\n",
        "    other_pos = {0, 1, 2} - {car_pos, chosen_pos}\n",
        "    s.set_transitions(\n",
        "        [\n",
        "            (\n",
        "                1 / len(other_pos),\n",
        "                mdp.new_state(\"goatrevealed\", s.features | {\"reveal_pos\": i}),\n",
        "            )\n",
        "            for i in other_pos\n",
        "        ]\n",
        "    )\n",
        "\n",
        "# we must choose whether we want to switch\n",
        "for s in mdp.get_states_with_label(\"goatrevealed\"):\n",
        "    car_pos = s.features[\"car_pos\"]\n",
        "    chosen_pos = s.features[\"chosen_pos\"]\n",
        "    reveal_pos = s.features[\"reveal_pos\"]\n",
        "    other_pos = list({0, 1, 2} - {reveal_pos, chosen_pos})[0]\n",
        "    s.set_transitions(\n",
        "        [\n",
        "            (\n",
        "                mdp.action(\"stay\"),\n",
        "                mdp.new_state(\n",
        "                    [\"done\"] + ([\"target\"] if chosen_pos == car_pos else []),\n",
        "                    s.features | {\"chosen_pos\": chosen_pos},\n",
        "                ),\n",
        "            ),\n",
        "            (\n",
        "                mdp.action(\"switch\"),\n",
        "                mdp.new_state(\n",
        "                    [\"done\"] + ([\"target\"] if other_pos == car_pos else []),\n",
        "                    s.features | {\"chosen_pos\": other_pos},\n",
        "                ),\n",
        "            ),\n",
        "        ]\n",
        "    )\n",
        "\n",
        "# we add self loops to all states with no outgoing transitions\n",
        "mdp.add_self_loops()\n",
        "\n",
        "show.show(mdp, show_editor=True)"
      ]
    },
    {
      "cell_type": "markdown",
      "id": "a954571f-a723-4145-8cb6-2a94fa986718",
      "metadata": {},
      "source": [
        "We can do model checking on this model by only using stormvogel functions directly. Behind the scenes this calls the stormpy model checker."
      ]
    },
    {
      "cell_type": "code",
      "execution_count": 3,
      "id": "4fe1edee-15ab-45ad-8605-f1c646186718",
      "metadata": {},
      "outputs": [
        {
          "data": {
            "application/vnd.jupyter.widget-view+json": {
              "model_id": "ce95cb6dffe24769a5d9b60995a37ce9",
              "version_major": 2,
              "version_minor": 0
            },
            "text/plain": [
              "HBox(children=(Output(),))"
            ]
          },
          "metadata": {},
          "output_type": "display_data"
        }
      ],
      "source": [
        "property = stormvogel.property_builder.build_property_string(mdp)\n",
        "#result = stormvogel.model_checking.model_checking(mdp)"
      ]
    },
    {
      "cell_type": "code",
      "execution_count": null,
      "id": "25cd927d-d4ef-4d93-b1d8-d6efb30d1dce",
      "metadata": {},
      "outputs": [],
      "source": []
    },
    {
      "cell_type": "code",
      "execution_count": null,
      "id": "724a8a79-f8af-4faa-9182-22211ad11e12",
      "metadata": {},
      "outputs": [],
      "source": []
    }
  ],
  "metadata": {
    "kernelspec": {
      "display_name": "Python 3 (ipykernel)",
      "language": "python",
      "name": "python3"
    },
    "language_info": {
      "codemirror_mode": {
        "name": "ipython",
        "version": 3
      },
      "file_extension": ".py",
      "mimetype": "text/x-python",
      "name": "python",
      "nbconvert_exporter": "python",
      "pygments_lexer": "ipython3",
      "version": "3.12.7"
    }
  },
  "nbformat": 4,
  "nbformat_minor": 5
}
