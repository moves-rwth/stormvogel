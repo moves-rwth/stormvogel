{
  "cells": [
    {
      "cell_type": "markdown",
      "id": "388d2860-22b4-4979-a43e-21e8664fbb70",
      "metadata": {},
      "source": [
        "# Parallel composition\n",
        "Using the PGC API "
      ]
    }
  ],
  "metadata": {
    "kernelspec": {
      "display_name": "Python 3 (ipykernel)",
      "language": "python",
      "name": "python3"
    },
    "language_info": {
      "codemirror_mode": {
        "name": "ipython",
        "version": 3
      },
      "file_extension": ".py",
      "mimetype": "text/x-python",
      "name": "python",
      "nbconvert_exporter": "python",
      "pygments_lexer": "ipython3",
      "version": "3.12.3"
    }
  },
  "nbformat": 4,
  "nbformat_minor": 5
}
