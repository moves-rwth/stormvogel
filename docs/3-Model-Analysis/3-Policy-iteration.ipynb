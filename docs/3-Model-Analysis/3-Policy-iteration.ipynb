{
  "cells": [
    {
      "cell_type": "markdown",
      "id": "e11b09f4-f9e3-48db-af38-59f9d8bec88b",
      "metadata": {},
      "source": [
        "# Policy iteration\n",
        "In policy iteration, you start with an arbitrary policy.\n",
        "Then, the the policy is improved at every iteration by first creating a DTMC for the previous policy, and then applying whichever choice would be best in that DTMC for the updated policy."
      ]
    },
    {
      "cell_type": "code",
      "execution_count": 1,
      "id": "85002218-89fe-4c6b-9b5a-cd1b9c65dfff",
      "metadata": {},
      "outputs": [],
      "source": [
        "from stormvogel import *\n",
        "from stormvogel.visualization import JSVisualization\n",
        "from time import sleep\n",
        "\n",
        "def arg_max(funcs, args):\n",
        "    \"\"\"Takes a list of callables and arguments and return the argument that yields the highest value.\"\"\"\n",
        "    executed = [f(x) for f,x in zip(funcs,args)]\n",
        "    index = executed.index(max(executed))\n",
        "    return args[index]\n",
        "\n",
        "def policy_iteration(\n",
        "        model: Model,\n",
        "        prop: str,\n",
        "        visualize: bool = True,\n",
        "        layout: Layout = stormvogel.layout.DEFAULT(), \n",
        "        delay:int=2,\n",
        "        clear:bool=False) -> Result:\n",
        "    \"\"\"Performs policy iteration on the given mdp.\n",
        "    Args:\n",
        "        model (Model): MDP.\n",
        "        prop (str): PRISM property string to maximize. Rembember that this is a property on the induced DTMC, not the MDP.\n",
        "        visualize (bool): Whether the intermediate and final results should be visualized. Defaults to True.\n",
        "        layout (Layout): Layout to use to show the intermediate results.\n",
        "        delay (int): Seconds to wait between each iteration.\n",
        "        clear (bool): Whether to clear the visualization of each previous iteration.\n",
        "        \"\"\"\n",
        "    old = None\n",
        "    new = random_scheduler(model)\n",
        "\n",
        "    while not old == new:\n",
        "        old = new\n",
        "\n",
        "        dtmc = old.generate_induced_dtmc()\n",
        "        dtmc_result = model_checking(dtmc, prop=prop)\n",
        "\n",
        "        if visualize:\n",
        "            vis = JSVisualization(model, layout=layout, scheduler=old, result=dtmc_result)\n",
        "            vis.show()\n",
        "            sleep(delay)\n",
        "            if clear:\n",
        "                vis.clear()\n",
        "\n",
        "        choices = {i: \n",
        "            arg_max(\n",
        "                [lambda a: sum([(p * dtmc_result.get_result_of_state(s2.id)) for p, s2 in s1.get_outgoing_transitions(a)])\n",
        "                    for _ in s1.available_actions()], \n",
        "                s1.available_actions())\n",
        "        for i,s1 in model}\n",
        "        new = Scheduler(model, choices)\n",
        "    if visualize:\n",
        "        print(\"Value iteration done:\")\n",
        "        show(model, layout=layout, scheduler=new, result=dtmc_result)\n",
        "    return dtmc_result"
      ]
    },
    {
      "cell_type": "code",
      "execution_count": null,
      "id": "9c164688-b7a0-43bd-8a93-25aa2b93d49d",
      "metadata": {},
      "outputs": [
        {
          "data": {
            "application/vnd.jupyter.widget-view+json": {
              "model_id": "fce2676f31ed453090871d2de8182bac",
              "version_major": 2,
              "version_minor": 0
            },
            "text/plain": [
              "Output()"
            ]
          },
          "metadata": {},
          "output_type": "display_data"
        },
        {
          "data": {
            "text/html": [
              "<script>\n",
              "function return_id_result(url, id, data) {\n",
              "        fetch(url, {\n",
              "            method: 'POST',\n",
              "            body: JSON.stringify({\n",
              "                'id': id,\n",
              "                'data': data\n",
              "            })\n",
              "        })\n",
              "    }\n",
              "</script>"
            ],
            "text/plain": [
              "<IPython.core.display.HTML object>"
            ]
          },
          "metadata": {},
          "output_type": "display_data"
        },
        {
          "data": {
            "application/javascript": [
              "\n",
              "function return_id_result(url, id, data) {\n",
              "        fetch(url, {\n",
              "            method: 'POST',\n",
              "            body: JSON.stringify({\n",
              "                'id': id,\n",
              "                'data': data\n",
              "            })\n",
              "        })\n",
              "    }\n"
            ],
            "text/plain": [
              "<IPython.core.display.Javascript object>"
            ]
          },
          "metadata": {},
          "output_type": "display_data"
        },
        {
          "data": {
            "application/javascript": [
              "return_id_result('http://127.0.0.1:8890', 'YhqhnytdDLKFaDXTUpsD', 'test message')"
            ],
            "text/plain": [
              "<IPython.core.display.Javascript object>"
            ]
          },
          "metadata": {},
          "output_type": "display_data"
        },
        {
          "data": {
            "application/vnd.jupyter.widget-view+json": {
              "model_id": "b78fb41193d041ea80e86bb75f40377d",
              "version_major": 2,
              "version_minor": 0
            },
            "text/plain": [
              "Output()"
            ]
          },
          "metadata": {},
          "output_type": "display_data"
        },
        {
          "data": {
            "application/vnd.jupyter.widget-view+json": {
              "model_id": "f8a51fb0ce714b08a3e1796ddc128bf3",
              "version_major": 2,
              "version_minor": 0
            },
            "text/plain": [
              "Output()"
            ]
          },
          "metadata": {},
          "output_type": "display_data"
        },
        {
          "data": {
            "application/vnd.jupyter.widget-view+json": {
              "model_id": "90157806dc1e46d2b3ba6ea083e13370",
              "version_major": 2,
              "version_minor": 0
            },
            "text/plain": [
              "Output()"
            ]
          },
          "metadata": {},
          "output_type": "display_data"
        }
      ],
      "source": [
        "lion = examples.create_lion_mdp()\n",
        "prop = 'P=?[F \"full\"]'\n",
        "res = policy_iteration(lion, prop, layout=Layout(\"layouts/lion_policy.json\"))"
      ]
    },
    {
      "cell_type": "markdown",
      "id": "f786fbad-2fc9-42e1-9659-17ee72a0c477",
      "metadata": {},
      "source": [
        "Policy iteration is also available under `stormvogel.extensions.visual_algos`."
      ]
    }
  ],
  "metadata": {
    "kernelspec": {
      "display_name": "Python 3 (ipykernel)",
      "language": "python",
      "name": "python3"
    },
    "language_info": {
      "codemirror_mode": {
        "name": "ipython",
        "version": 3
      },
      "file_extension": ".py",
      "mimetype": "text/x-python",
      "name": "python",
      "nbconvert_exporter": "python",
      "pygments_lexer": "ipython3",
      "version": "3.12.7"
    }
  },
  "nbformat": 4,
  "nbformat_minor": 5
}
