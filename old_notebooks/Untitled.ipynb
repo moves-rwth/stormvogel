{
  "cells": [
    {
      "cell_type": "code",
      "execution_count": 1,
      "id": "a6c4d97a-2090-411c-9bbc-1c4377ca3d64",
      "metadata": {},
      "outputs": [],
      "source": [
        "from pvsvg import Network\n",
        "import networkx as nx\n",
        "\n",
        "# generate some random graph\n",
        "g = nx.fast_gnp_random_graph(15, 0.2)\n",
        "\n",
        "# set node level attributes\n",
        "for n in g.nodes(data=True):\n",
        "    id = n[0]\n",
        "    if id % 2 == 0:\n",
        "        n[1][\"color\"] = \"red\"\n",
        "    else:\n",
        "        n[1][\"color\"] = \"blue\"\n",
        "\n",
        "    if id % 3 == 0:\n",
        "        n[1][\"shape\"] = \"square\"\n",
        "    else:\n",
        "        n[1][\"shape\"] = \"dot\"\n",
        "\n",
        "    n[1][\"label\"] = f\"Node {id}\"\n",
        "    n[1][\"title\"] = f\"Node {id} has color {n[1]['color']} and shape {n[1]['shape']}\"\n",
        "    n[1][\"size\"] = (id + 1)\n",
        "\n",
        "# set edge level attributes\n",
        "for e in g.edges(data=True):\n",
        "    e[2][\"color\"] = {\n",
        "        \"color\": \"black\",\n",
        "        \"inherit\": False,\n",
        "    }\n",
        "\n",
        "# Instantiate the network\n",
        "n = Network(g, width=1200)\n",
        "\n",
        "# Draw the network as an html\n",
        "n.draw(\"test.html\")"
      ]
    },
    {
      "cell_type": "code",
      "execution_count": null,
      "id": "fb17aa49-780e-4ead-9e30-daa27b7b66cb",
      "metadata": {},
      "outputs": [],
      "source": []
    }
  ],
  "metadata": {
    "kernelspec": {
      "display_name": "Python 3 (ipykernel)",
      "language": "python",
      "name": "python3"
    },
    "language_info": {
      "codemirror_mode": {
        "name": "ipython",
        "version": 3
      },
      "file_extension": ".py",
      "mimetype": "text/x-python",
      "name": "python",
      "nbconvert_exporter": "python",
      "pygments_lexer": "ipython3",
      "version": "3.12.3"
    }
  },
  "nbformat": 4,
  "nbformat_minor": 5
}
