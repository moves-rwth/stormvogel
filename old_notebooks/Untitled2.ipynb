{
  "cells": [
    {
      "cell_type": "code",
      "execution_count": 1,
      "id": "707aa367-c987-4d41-be28-cbe698e7e455",
      "metadata": {},
      "outputs": [],
      "source": [
        "import networkx as nx\n",
        "\n",
        "import stormvogel.examples as examples\n",
        "from stormvogel.graph import ModelGraph\n",
        "from stormvogel.visualization import JSVisualization, MplVisualization\n",
        "from stormvogel.layout import DEFAULT\n",
        "from stormvogel.show import show\n",
        "mdp = examples.create_lion_mdp()"
      ]
    },
    {
      "cell_type": "code",
      "execution_count": 4,
      "id": "5b23c16d-4790-4bca-bf6d-98a1e84be1df",
      "metadata": {},
      "outputs": [
        {
          "data": {
            "application/vnd.jupyter.widget-view+json": {
              "model_id": "8b8e1d8c0ce74b539fd4eb62604ed782",
              "version_major": 2,
              "version_minor": 0
            },
            "text/plain": [
              "Output()"
            ]
          },
          "metadata": {},
          "output_type": "display_data"
        },
        {
          "data": {
            "application/vnd.jupyter.widget-view+json": {
              "model_id": "7b08a9adddb9425f95ab79bfa05b00e5",
              "version_major": 2,
              "version_minor": 0
            },
            "text/plain": [
              "HBox(children=(Output(), Output()))"
            ]
          },
          "metadata": {},
          "output_type": "display_data"
        },
        {
          "data": {
            "application/javascript": [
              "nw_LRwsPwxDLk.network.setOptions({\n",
              "  \"__fake_macros\": {\n",
              "    \"__group_macro\": {\n",
              "      \"borderWidth\": 1,\n",
              "      \"color\": {\n",
              "        \"background\": \"white\",\n",
              "        \"border\": \"black\",\n",
              "        \"highlight\": {\n",
              "          \"background\": \"white\",\n",
              "          \"border\": \"red\"\n",
              "        }\n",
              "      },\n",
              "      \"shape\": \"ellipse\",\n",
              "      \"mass\": 1,\n",
              "      \"font\": {\n",
              "        \"color\": \"black\",\n",
              "        \"size\": 14\n",
              "      }\n",
              "    }\n",
              "  },\n",
              "  \"edit_groups\": {\n",
              "    \"groups\": [\n",
              "      \"states\",\n",
              "      \"actions\"\n",
              "    ]\n",
              "  },\n",
              "  \"groups\": {\n",
              "    \"actions\": {\n",
              "      \"borderWidth\": 1,\n",
              "      \"color\": {\n",
              "        \"background\": \"lightblue\",\n",
              "        \"border\": \"black\",\n",
              "        \"highlight\": {\n",
              "          \"background\": \"white\",\n",
              "          \"border\": \"red\"\n",
              "        }\n",
              "      },\n",
              "      \"shape\": \"box\",\n",
              "      \"mass\": 1,\n",
              "      \"font\": {\n",
              "        \"color\": \"black\",\n",
              "        \"size\": 14\n",
              "      }\n",
              "    },\n",
              "    \"scheduled_actions\": {\n",
              "      \"shape\": \"box\",\n",
              "      \"color\": {\n",
              "        \"background\": \"pink\",\n",
              "        \"border\": \"red\"\n",
              "      }\n",
              "    },\n",
              "    \"states\": {\n",
              "      \"borderWidth\": 1,\n",
              "      \"color\": {\n",
              "        \"background\": \"white\",\n",
              "        \"border\": \"black\",\n",
              "        \"highlight\": {\n",
              "          \"background\": \"white\",\n",
              "          \"border\": \"red\"\n",
              "        }\n",
              "      },\n",
              "      \"shape\": \"ellipse\",\n",
              "      \"mass\": 1,\n",
              "      \"font\": {\n",
              "        \"color\": \"black\",\n",
              "        \"size\": 14\n",
              "      }\n",
              "    }\n",
              "  },\n",
              "  \"reload_button\": false,\n",
              "  \"edges\": {\n",
              "    \"arrows\": \"to\",\n",
              "    \"font\": {\n",
              "      \"color\": \"black\",\n",
              "      \"size\": 14,\n",
              "      \"strokeColor\": \"white\",\n",
              "      \"strokeWidth\": 2\n",
              "    },\n",
              "    \"color\": {\n",
              "      \"color\": \"black\"\n",
              "    },\n",
              "    \"width\": 1\n",
              "  },\n",
              "  \"numbers\": {\n",
              "    \"fractions\": true,\n",
              "    \"digits\": 5,\n",
              "    \"denominator_limit\": 1000\n",
              "  },\n",
              "  \"results\": {\n",
              "    \"show_results\": true,\n",
              "    \"result_symbol\": \"\\u2606\",\n",
              "    \"result_colors\": false,\n",
              "    \"min_result_color\": \"#ffffff\",\n",
              "    \"max_result_color\": \"#ff0000\"\n",
              "  },\n",
              "  \"state_properties\": {\n",
              "    \"show_ids\": false,\n",
              "    \"show_rewards\": true,\n",
              "    \"reward_symbol\": \"\\u20ac\",\n",
              "    \"show_zero_rewards\": true,\n",
              "    \"show_observations\": true,\n",
              "    \"observation_symbol\": \"\\u0298\"\n",
              "  },\n",
              "  \"layout\": {\n",
              "    \"randomSeed\": 5\n",
              "  },\n",
              "  \"misc\": {\n",
              "    \"enable_physics\": true,\n",
              "    \"width\": 800,\n",
              "    \"height\": 600,\n",
              "    \"explore\": false\n",
              "  },\n",
              "  \"saving\": {\n",
              "    \"relative_path\": true,\n",
              "    \"filename\": \"layouts/NAME.json\",\n",
              "    \"save_button\": false,\n",
              "    \"load_button\": false\n",
              "  },\n",
              "  \"positions\": {},\n",
              "  \"physics\": true,\n",
              "  \"autoResize\": true\n",
              "});"
            ],
            "text/plain": [
              "<IPython.core.display.Javascript object>"
            ]
          },
          "metadata": {},
          "output_type": "display_data"
        },
        {
          "data": {
            "text/plain": [
              "<stormvogel.visualization.JSVisualization at 0x76e6387c4290>"
            ]
          },
          "execution_count": 4,
          "metadata": {},
          "output_type": "execute_result"
        }
      ],
      "source": [
        "# import stormvogel\n",
        "# import ipywidgets as widgets\n",
        "# import IPython.display as ipd\n",
        "# vis = stormvogel.visualization.JSVisualization(model=mdp)\n",
        "# e = stormvogel.layout_editor.LayoutEditor(vis.layout, vis, do_display=False)\n",
        "# e.show()\n",
        "# box = widgets.HBox(children=[vis.output, e.output])\n",
        "# ipd.display(box)\n",
        "# vis.update()\n",
        "from stormvogel.show import show\n",
        "show(mdp, show_editor=True)"
      ]
    },
    {
      "cell_type": "code",
      "execution_count": null,
      "id": "ada3d400-9274-48ce-81be-c7ce3d26f895",
      "metadata": {},
      "outputs": [],
      "source": []
    }
  ],
  "metadata": {
    "kernelspec": {
      "display_name": "Python 3 (ipykernel)",
      "language": "python",
      "name": "python3"
    },
    "language_info": {
      "codemirror_mode": {
        "name": "ipython",
        "version": 3
      },
      "file_extension": ".py",
      "mimetype": "text/x-python",
      "name": "python",
      "nbconvert_exporter": "python",
      "pygments_lexer": "ipython3",
      "version": "3.12.3"
    }
  },
  "nbformat": 4,
  "nbformat_minor": 5
}
