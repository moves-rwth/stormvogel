{
  "cells": [
    {
      "cell_type": "markdown",
      "metadata": {},
      "source": [
        "# Example MDP"
      ]
    },
    {
      "cell_type": "code",
      "execution_count": 1,
      "metadata": {},
      "outputs": [],
      "source": [
        "from stormvogel import visualization, mapping, result, show\n",
        "import stormpy"
      ]
    },
    {
      "cell_type": "code",
      "execution_count": 2,
      "metadata": {},
      "outputs": [
        {
          "data": {
            "text/plain": [
              "<stormpy.storage.storage.PrismProgram at 0x755e3d582db0>"
            ]
          },
          "execution_count": 2,
          "metadata": {},
          "output_type": "execute_result"
        }
      ],
      "source": [
        "%%prism leader\n",
        "// asynchronous leader election\n",
        "// 4 processes\n",
        "// gxn/dxp 29/01/01\n",
        "\n",
        "mdp\n",
        "\n",
        "const int N = 3; // number of processes\n",
        "\n",
        "//----------------------------------------------------------------------------------------------------------------------------\n",
        "module process1\n",
        "\t\n",
        "\t// COUNTER\n",
        "\tc1 : [0..3-1];\n",
        "\t\n",
        "\t// STATES\n",
        "\ts1 : [0..4];\n",
        "\t// 0  make choice\n",
        "\t// 1 have not received neighbours choice\n",
        "\t// 2 active\n",
        "\t// 3 inactive\n",
        "\t// 4 leader\n",
        "\t\n",
        "\t// PREFERENCE\n",
        "\tp1 : [0..1];\n",
        "\t\n",
        "\t// VARIABLES FOR SENDING AND RECEIVING\n",
        "\treceive1 : [0..2];\n",
        "\t// not received anything\n",
        "\t// received choice\n",
        "\t// received counter\n",
        "\tsent1 : [0..2];\n",
        "\t// not send anything\n",
        "\t// sent choice\n",
        "\t// sent counter\n",
        "\t\n",
        "\t// pick value\n",
        "\t[pick] (s1=0) -> 0.5 : (s1'=1) & (p1'=0) + 0.5 : (s1'=1) & (p1'=1);\n",
        "\n",
        "\t// send preference\n",
        "\t[p12] (s1=1) & (sent1=0) -> (sent1'=1);\n",
        "\t// receive preference\n",
        "\t// stay active\n",
        "\t[p31] (s1=1) & (receive1=0) & !( (p1=0) & (p3=1) ) -> (s1'=2) & (receive1'=1);\n",
        "\t// become inactive\n",
        "\t[p31] (s1=1) & (receive1=0) & (p1=0) & (p3=1) -> (s1'=3) & (receive1'=1);\n",
        "\t\n",
        "\t// send preference (can now reset preference)\n",
        "\t[p12] (s1=2) & (sent1=0) -> (sent1'=1) & (p1'=0);\n",
        "\t// send counter (already sent preference)\n",
        "\t// not received counter yet\n",
        "\t[c12] (s1=2) & (sent1=1) & (receive1=1) -> (sent1'=2);\n",
        "\t// received counter (pick again)\n",
        "\t[c12] (s1=2) & (sent1=1) & (receive1=2) -> (s1'=0) & (p1'=0) & (c1'=0) & (sent1'=0) & (receive1'=0);\n",
        "\t\n",
        "\t// receive counter and not sent yet (note in this case do not pass it on as will send own counter)\n",
        "\t[c31] (s1=2) & (receive1=1) & (sent1<2) -> (receive1'=2);\n",
        "\t// receive counter and sent counter\n",
        "\t// only active process (decide)\n",
        "\t[c31] (s1=2) & (receive1=1) & (sent1=2) & (c3=N-1) -> (s1'=4) & (p1'=0) & (c1'=0) & (sent1'=0) & (receive1'=0);\n",
        "\t// other active process (pick again)\n",
        "\t[c31] (s1=2) & (receive1=1) & (sent1=2) & (c3<N-1) -> (s1'=0) & (p1'=0) & (c1'=0) & (sent1'=0) & (receive1'=0);\n",
        "\t\n",
        "\t// send preference (must have received preference) and can now reset\n",
        "\t[p12] (s1=3) & (receive1>0) & (sent1=0) -> (sent1'=1) & (p1'=0);\n",
        "\t// send counter (must have received counter first) and can now reset\n",
        "\t[c12] (s1=3) & (receive1=2) & (sent1=1) ->  (s1'=3) & (p1'=0) & (c1'=0) & (sent1'=0) & (receive1'=0);\n",
        "\t\n",
        "\t// receive preference\n",
        "\t[p31] (s1=3) & (receive1=0) -> (p1'=p3) & (receive1'=1);\n",
        "\t// receive counter\n",
        "\t[c31] (s1=3) & (receive1=1) & (c3<N-1) -> (c1'=c3+1) & (receive1'=2);\n",
        "\t\t\n",
        "\t// done\n",
        "\t[done] (s1=4) -> (s1'=s1);\n",
        "\t// add loop for processes who are inactive\n",
        "\t[done] (s1=3) -> (s1'=s1);\n",
        "\n",
        "endmodule\n",
        "\n",
        "//----------------------------------------------------------------------------------------------------------------------------\n",
        "\n",
        "// construct further stations through renaming\n",
        "module process2=process1[s1=s2,p1=p2,c1=c2,sent1=sent2,receive1=receive2,p12=p23,p31=p12,c12=c23,c31=c12,p3=p1,c3=c1] endmodule\n",
        "module process3=process1[s1=s3,p1=p3,c1=c3,sent1=sent3,receive1=receive3,p12=p31,p31=p23,c12=c31,c31=c23,p3=p2,c3=c2] endmodule\n",
        "\n",
        "//----------------------------------------------------------------------------------------------------------------------------\n",
        "rewards \"rounds\"\n",
        "        [c12] true : 1;\n",
        "endrewards\n",
        "\n",
        "//----------------------------------------------------------------------------------------------------------------------------\n",
        "formula leaders = (s1=4?1:0)+(s2=4?1:0)+(s3=4?1:0);\n",
        "label \"elected\" = s1=4|s2=4|s3=4;\n"
      ]
    },
    {
      "cell_type": "code",
      "execution_count": 3,
      "metadata": {},
      "outputs": [],
      "source": [
        "leader_model = stormpy.build_model(leader)\n",
        "\n"
      ]
    },
    {
      "cell_type": "code",
      "execution_count": 4,
      "metadata": {},
      "outputs": [
        {
          "name": "stdout",
          "output_type": "stream",
          "text": [
            "-------------------------------------------------------------- \n",
            "Model type: \tMDP (sparse)\n",
            "States: \t190\n",
            "Transitions: \t323\n",
            "Choices: \t316\n",
            "Reward Models:  rounds\n",
            "State Labels: \t3 labels\n",
            "   * deadlock -> 3 item(s)\n",
            "   * init -> 1 item(s)\n",
            "   * elected -> 0 item(s)\n",
            "Choice Labels: \tnone\n",
            "-------------------------------------------------------------- \n",
            "\n",
            "['__class__', '__delattr__', '__dir__', '__doc__', '__eq__', '__format__', '__ge__', '__getattribute__', '__getstate__', '__gt__', '__hash__', '__init__', '__init_subclass__', '__le__', '__lt__', '__module__', '__ne__', '__new__', '__reduce__', '__reduce_ex__', '__repr__', '__setattr__', '__sizeof__', '__str__', '__subclasshook__', '_as_sparse_ctmc', '_as_sparse_dtmc', '_as_sparse_exact_dtmc', '_as_sparse_exact_mdp', '_as_sparse_imdp', '_as_sparse_ma', '_as_sparse_mdp', '_as_sparse_pctmc', '_as_sparse_pdtmc', '_as_sparse_pma', '_as_sparse_pmdp', '_as_sparse_pomdp', '_as_sparse_ppomdp', '_as_sparse_smg', '_as_symbolic_ctmc', '_as_symbolic_dtmc', '_as_symbolic_ma', '_as_symbolic_mdp', '_as_symbolic_pctmc', '_as_symbolic_pdtmc', '_as_symbolic_pma', '_as_symbolic_pmdp', 'add_reward_model', 'apply_scheduler', 'backward_transition_matrix', 'choice_labeling', 'choice_origins', 'get_choice_index', 'get_nr_available_actions', 'get_reward_model', 'has_choice_labeling', 'has_choice_origins', 'has_parameters', 'has_reward_model', 'has_state_valuations', 'initial_states', 'initial_states_as_bitvector', 'is_discrete_time_model', 'is_exact', 'is_nondeterministic_model', 'is_partially_observable', 'is_sink_state', 'is_sparse_model', 'is_symbolic_model', 'labeling', 'labels_state', 'model_type', 'nondeterministic_choice_indices', 'nr_choices', 'nr_states', 'nr_transitions', 'reduce_to_state_based_rewards', 'reward_models', 'set_initial_states', 'state_valuations', 'states', 'supports_parameters', 'supports_uncertainty', 'to_dot', 'transition_matrix']\n"
          ]
        }
      ],
      "source": [
        "print(leader_model)\n",
        "\n",
        "print(dir(leader_model))\n"
      ]
    },
    {
      "cell_type": "code",
      "execution_count": 5,
      "metadata": {},
      "outputs": [],
      "source": [
        "prop = stormpy.parse_properties(\"Rmax=? [F \\\"elected\\\"]\", leader)"
      ]
    },
    {
      "cell_type": "code",
      "execution_count": 6,
      "metadata": {},
      "outputs": [],
      "source": [
        "stormpy_result = stormpy.model_checking(leader_model, prop[0], extract_scheduler=True)"
      ]
    },
    {
      "cell_type": "code",
      "execution_count": 7,
      "metadata": {},
      "outputs": [
        {
          "name": "stdout",
          "output_type": "stream",
          "text": [
            "[inf, inf, inf, inf, inf, inf, inf, inf, inf, inf, inf, inf, inf, inf, inf, inf, inf, inf, inf, inf, inf, inf, inf, inf, inf, inf, inf, inf, inf, inf, inf, inf, inf, inf, inf, inf, inf, inf, inf, inf, inf, inf, inf, inf, inf, inf, inf, inf, inf, inf, inf, inf, inf, inf, inf, inf, inf, inf, inf, inf, inf, inf, inf, inf, inf, inf, inf, inf, inf, inf, inf, inf, inf, inf, inf, inf, inf, inf, inf, inf, inf, inf, inf, inf, inf, inf, inf, inf, inf, inf, inf, inf, inf, inf, inf, inf, inf, inf, inf, inf, inf, inf, inf, inf, inf, inf, inf, inf, inf, inf, inf, inf, inf, inf, inf, inf, inf, inf, inf, inf, inf, inf, inf, inf, inf, inf, inf, inf, inf, inf, inf, inf, inf, inf, inf, inf, inf, inf, inf, inf, inf, inf, inf, inf, inf, inf, inf, inf, inf, inf, inf, inf, inf, inf, inf, inf, inf, inf, inf, inf, inf, inf, inf, inf, inf, inf, inf, inf, inf, inf, inf, inf, inf, inf, inf, inf, inf, inf, inf, inf, inf, inf, inf, inf, inf, inf, inf, inf, inf, inf]\n"
          ]
        }
      ],
      "source": [
        "print(stormpy_result.get_values())"
      ]
    },
    {
      "cell_type": "code",
      "execution_count": 8,
      "metadata": {},
      "outputs": [
        {
          "name": "stdout",
          "output_type": "stream",
          "text": [
            "-------------------------------------------------------------- \n",
            "Model type: \tDTMC (sparse)\n",
            "States: \t49\n",
            "Transitions: \t56\n",
            "Reward Models:  rounds\n",
            "State Labels: \t3 labels\n",
            "   * elected -> 0 item(s)\n",
            "   * init -> 1 item(s)\n",
            "   * deadlock -> 3 item(s)\n",
            "Choice Labels: \tnone\n",
            "-------------------------------------------------------------- \n",
            "\n"
          ]
        }
      ],
      "source": [
        "scheduler = stormpy_result.scheduler\n",
        "\n",
        "print(leader_model.apply_scheduler(scheduler))"
      ]
    },
    {
      "cell_type": "code",
      "execution_count": 9,
      "metadata": {},
      "outputs": [
        {
          "name": "stdout",
          "output_type": "stream",
          "text": [
            "0 -> 0, 1 -> 0, 2 -> 0, 3 -> 0, 4 -> 0, 5 -> 0, 6 -> 0, 7 -> 0, 8 -> 0, 9 -> 0, 10 -> 0, 11 -> 0, 12 -> 0, 13 -> 0, 14 -> 0, 15 -> 0, 16 -> 0, 17 -> 0, 18 -> 0, 19 -> 0, 20 -> 0, 21 -> 0, 22 -> 0, 23 -> 0, 24 -> 0, 25 -> 0, 26 -> 0, 27 -> 0, 28 -> 0, 29 -> 0, 30 -> 0, 31 -> 0, 32 -> 0, 33 -> 0, 34 -> 0, 35 -> 0, 36 -> 0, 37 -> 0, 38 -> 0, 39 -> 0, 40 -> 0, 41 -> 0, 42 -> 0, 43 -> 0, 44 -> 0, 45 -> 0, 46 -> 0, 47 -> 0, 48 -> 0, 49 -> 0, 50 -> 0, 51 -> 0, 52 -> 0, 53 -> 0, 54 -> 0, 55 -> 0, 56 -> 0, 57 -> 0, 58 -> 0, 59 -> 0, 60 -> 0, 61 -> 0, 62 -> 0, 63 -> 0, 64 -> 0, 65 -> 0, 66 -> 0, 67 -> 0, 68 -> 0, 69 -> 0, 70 -> 0, 71 -> 0, 72 -> 0, 73 -> 0, 74 -> 0, 75 -> 0, 76 -> 0, 77 -> 0, 78 -> 0, 79 -> 0, 80 -> 0, 81 -> 0, 82 -> 0, 83 -> 0, 84 -> 0, 85 -> 0, 86 -> 0, 87 -> 0, 88 -> 0, 89 -> 0, 90 -> 0, 91 -> 0, 92 -> 0, 93 -> 0, 94 -> 0, 95 -> 0, 96 -> 0, 97 -> 0, 98 -> 0, 99 -> 0, 100 -> 0, 101 -> 0, 102 -> 0, 103 -> 0, 104 -> 0, 105 -> 0, 106 -> 0, 107 -> 0, 108 -> 0, 109 -> 0, 110 -> 0, 111 -> 0, 112 -> 0, 113 -> 0, 114 -> 0, 115 -> 0, 116 -> 0, 117 -> 0, 118 -> 0, 119 -> 0, 120 -> 0, 121 -> 0, 122 -> 0, 123 -> 0, 124 -> 0, 125 -> 0, 126 -> 0, 127 -> 0, 128 -> 0, 129 -> 0, 130 -> 0, 131 -> 0, 132 -> 0, 133 -> 0, 134 -> 0, 135 -> 0, 136 -> 0, 137 -> 0, 138 -> 0, 139 -> 0, 140 -> 0, 141 -> 0, 142 -> 0, 143 -> 0, 144 -> 0, 145 -> 0, 146 -> 0, 147 -> 0, 148 -> 0, 149 -> 0, 150 -> 0, 151 -> 0, 152 -> 0, 153 -> 0, 154 -> 0, 155 -> 0, 156 -> 0, 157 -> 0, 158 -> 0, 159 -> 0, 160 -> 0, 161 -> 0, 162 -> 0, 163 -> 0, 164 -> 0, 165 -> 0, 166 -> 0, 167 -> 0, 168 -> 0, 169 -> 0, 170 -> 0, 171 -> 0, 172 -> 0, 173 -> 0, 174 -> 0, 175 -> 0, 176 -> 0, 177 -> 0, 178 -> 0, 179 -> 0, 180 -> 0, 181 -> 0, 182 -> 0, 183 -> 0, 184 -> 0, 185 -> 0, 186 -> 0, 187 -> 0, 188 -> 0, 189 -> 0\n"
          ]
        }
      ],
      "source": [
        "scheduler_str = []\n",
        "for state in leader_model.states:\n",
        "     choice = scheduler.get_choice(state)\n",
        "     action = choice.get_deterministic_choice()\n",
        "     scheduler_str.append(f\"{state} -> {action}\")\n",
        "print(\", \".join(scheduler_str))"
      ]
    },
    {
      "cell_type": "code",
      "execution_count": 10,
      "metadata": {
        "scrolled": true
      },
      "outputs": [],
      "source": [
        "stormvogel_model = mapping.stormpy_to_stormvogel(leader_model)\n",
        "\n",
        "stormvogel_result = result.convert_model_checking_result(stormvogel_model, stormpy_result)"
      ]
    },
    {
      "cell_type": "code",
      "execution_count": 11,
      "metadata": {
        "scrolled": true
      },
      "outputs": [
        {
          "data": {
            "application/vnd.jupyter.widget-view+json": {
              "model_id": "4b40432ba8f24844958d142c5f1b6b95",
              "version_major": 2,
              "version_minor": 0
            },
            "text/plain": [
              "Output()"
            ]
          },
          "metadata": {},
          "output_type": "display_data"
        },
        {
          "data": {
            "text/html": [
              "<script>\n",
              "function return_id_result(url, id, data) {\n",
              "        fetch(url, {\n",
              "            method: 'POST',\n",
              "            body: JSON.stringify({\n",
              "                'id': id,\n",
              "                'data': data\n",
              "            })\n",
              "        })\n",
              "    }\n",
              "</script>"
            ],
            "text/plain": [
              "<IPython.core.display.HTML object>"
            ]
          },
          "metadata": {},
          "output_type": "display_data"
        },
        {
          "data": {
            "application/javascript": [
              "return_id_result('http://127.0.0.1:8890', 'ptTBdmrVYcPUYqjYrTpJ', 'test message')"
            ],
            "text/plain": [
              "<IPython.core.display.Javascript object>"
            ]
          },
          "metadata": {},
          "output_type": "display_data"
        },
        {
          "data": {
            "application/vnd.jupyter.widget-view+json": {
              "model_id": "898a475533504ec5ab6353cba2112aab",
              "version_major": 2,
              "version_minor": 0
            },
            "text/plain": [
              "Output()"
            ]
          },
          "metadata": {},
          "output_type": "display_data"
        },
        {
          "data": {
            "application/vnd.jupyter.widget-view+json": {
              "model_id": "b5555e4ea7a5427f8609353cb6f49806",
              "version_major": 2,
              "version_minor": 0
            },
            "text/plain": [
              "Output()"
            ]
          },
          "metadata": {},
          "output_type": "display_data"
        },
        {
          "data": {
            "application/vnd.jupyter.widget-view+json": {
              "model_id": "ae7c2128a470490884f117feff3c609c",
              "version_major": 2,
              "version_minor": 0
            },
            "text/plain": [
              "HBox(children=(Output(), Output()))"
            ]
          },
          "metadata": {},
          "output_type": "display_data"
        }
      ],
      "source": [
        "import stormvogel.layout\n",
        "\n",
        "vis1 = show.show(stormvogel_model, stormvogel_result, layout=stormvogel.layout.EXPLORE(), show_editor=True)"
      ]
    },
    {
      "cell_type": "code",
      "execution_count": 12,
      "metadata": {},
      "outputs": [],
      "source": [
        "induced_dtmc = stormvogel_result.generate_induced_dtmc()"
      ]
    },
    {
      "cell_type": "code",
      "execution_count": 13,
      "metadata": {},
      "outputs": [],
      "source": [
        "# vis2 = show.show(induced_dtmc, layout=stormvogel.layout.EXPLORE(), show_editor=False, save_and_embed=True)"
      ]
    },
    {
      "cell_type": "code",
      "execution_count": null,
      "metadata": {},
      "outputs": [],
      "source": []
    },
    {
      "cell_type": "code",
      "execution_count": null,
      "metadata": {},
      "outputs": [],
      "source": []
    }
  ],
  "metadata": {
    "kernelspec": {
      "display_name": "Python 3 (ipykernel)",
      "language": "python",
      "name": "python3"
    },
    "language_info": {
      "codemirror_mode": {
        "name": "ipython",
        "version": 3
      },
      "file_extension": ".py",
      "mimetype": "text/x-python",
      "name": "python",
      "nbconvert_exporter": "python",
      "pygments_lexer": "ipython3",
      "version": "3.12.3"
    }
  },
  "nbformat": 4,
  "nbformat_minor": 4
}
