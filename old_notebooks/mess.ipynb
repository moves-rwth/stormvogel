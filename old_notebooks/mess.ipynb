{
  "cells": [
    {
      "cell_type": "code",
      "execution_count": 1,
      "id": "6f8daf67-a270-4542-a543-77cd7ab46451",
      "metadata": {},
      "outputs": [
        {
          "data": {
            "application/vnd.jupyter.widget-view+json": {
              "model_id": "a6c19413bb3c4306aff25bc7f7cc7f5f",
              "version_major": 2,
              "version_minor": 0
            },
            "text/plain": [
              "Output()"
            ]
          },
          "metadata": {},
          "output_type": "display_data"
        },
        {
          "data": {
            "text/html": [
              "<script>\n",
              "function return_id_result(url, id, data) {\n",
              "        fetch(url, {\n",
              "            method: 'POST',\n",
              "            body: JSON.stringify({\n",
              "                'id': id,\n",
              "                'data': data\n",
              "            })\n",
              "        })\n",
              "    }\n",
              "</script>"
            ],
            "text/plain": [
              "<IPython.core.display.HTML object>"
            ]
          },
          "metadata": {},
          "output_type": "display_data"
        },
        {
          "data": {
            "application/javascript": [
              "\n",
              "function return_id_result(url, id, data) {\n",
              "        fetch(url, {\n",
              "            method: 'POST',\n",
              "            body: JSON.stringify({\n",
              "                'id': id,\n",
              "                'data': data\n",
              "            })\n",
              "        })\n",
              "    }\n"
            ],
            "text/plain": [
              "<IPython.core.display.Javascript object>"
            ]
          },
          "metadata": {},
          "output_type": "display_data"
        },
        {
          "data": {
            "application/javascript": [
              "return_id_result('http://127.0.0.1:8891', 'nrRKimyZGnXVxKHZosRK', 'test message')"
            ],
            "text/plain": [
              "<IPython.core.display.Javascript object>"
            ]
          },
          "metadata": {},
          "output_type": "display_data"
        },
        {
          "data": {
            "application/vnd.jupyter.widget-view+json": {
              "model_id": "0fdd172b87184d20809c159180866bc0",
              "version_major": 2,
              "version_minor": 0
            },
            "text/plain": [
              "Output()"
            ]
          },
          "metadata": {},
          "output_type": "display_data"
        },
        {
          "data": {
            "application/vnd.jupyter.widget-view+json": {
              "model_id": "43c3251f58a4440cb6954896a712c637",
              "version_major": 2,
              "version_minor": 0
            },
            "text/plain": [
              "Output()"
            ]
          },
          "metadata": {},
          "output_type": "display_data"
        },
        {
          "data": {
            "application/vnd.jupyter.widget-view+json": {
              "model_id": "1da25cbff1ce4696bcfc463b7b1bd3cf",
              "version_major": 2,
              "version_minor": 0
            },
            "text/plain": [
              "HBox(children=(Output(), Output()))"
            ]
          },
          "metadata": {},
          "output_type": "display_data"
        }
      ],
      "source": [
        "from stormvogel import *\n",
        "\n",
        "model = new_dtmc()\n",
        "init = model.get_initial_state()\n",
        "two = model.new_state(\"two\")\n",
        "init.set_choice([(1/3, init), (2/3, two)])\n",
        "two.set_choice([(1/66, init), (65/66, two)])\n",
        "vis = show(model, show_editor=True)"
      ]
    },
    {
      "cell_type": "code",
      "execution_count": 18,
      "id": "46cd28dc-e266-4b28-b4a7-0608591a7efd",
      "metadata": {},
      "outputs": [
        {
          "name": "stdout",
          "output_type": "stream",
          "text": [
            "#000000\n"
          ]
        }
      ],
      "source": [
        "def blend_colors(c1: str, c2: str, factor: float) -> str:\n",
        "    \"\"\"Blend two colors in HEX format. #RRGGBB.\n",
        "    Args:\n",
        "        color1 (str): Color 1 in HEX format #RRGGBB\n",
        "        color2 (str): Color 2 in HEX format #RRGGBB\n",
        "        factor (float): The fraction of the resulting color that should come from color1.\"\"\"\n",
        "    r1 = int(\"0x\" + c1[1:3], 0)\n",
        "    g1 = int(\"0x\" + c1[3:5], 0)\n",
        "    b1 = int(\"0x\" + c1[5:7], 0)\n",
        "    r2 = int(\"0x\" + c2[1:3], 0)\n",
        "    g2 = int(\"0x\" + c2[3:5], 0)\n",
        "    b2 = int(\"0x\" + c2[5:7], 0)\n",
        "    r_res = int(factor * r1 + (1-factor) * r2)\n",
        "    g_res = int(factor * g1 + (1-factor) * g2)\n",
        "    b_res = int(factor * b1 + (1-factor) * b2)\n",
        "    return \"#\" + ''.join('%02x'%i for i in [r_res, g_res, b_res])\n",
        "\n",
        "print(blend_colors(\"#000000\", \"#000001\", 1))"
      ]
    },
    {
      "cell_type": "code",
      "execution_count": 5,
      "id": "38961133-1bd6-43c3-baa7-45bc3b362685",
      "metadata": {},
      "outputs": [
        {
          "data": {
            "text/plain": [
              "{'__fake_macros': {'__group_macro': {'borderWidth': 1,\n",
              "   'color': {'background': 'white',\n",
              "    'border': 'black',\n",
              "    'highlight': {'background': 'white', 'border': 'red'}},\n",
              "   'shape': 'ellipse',\n",
              "   'mass': 1,\n",
              "   'font': {'color': 'black', 'size': 14}}},\n",
              " 'edit_groups': {'groups': ['states', 'actions']},\n",
              " 'groups': {'actions': {'borderWidth': 1,\n",
              "   'color': {'background': 'lightblue',\n",
              "    'border': 'black',\n",
              "    'highlight': {'background': 'white', 'border': 'red'}},\n",
              "   'shape': 'box',\n",
              "   'mass': 1,\n",
              "   'font': {'color': 'black', 'size': 14}},\n",
              "  'scheduled_actions': {'shape': 'box',\n",
              "   'color': {'background': 'pink', 'border': 'red'}},\n",
              "  'states': {'borderWidth': 1,\n",
              "   'color': {'background': '#ecb6b6',\n",
              "    'border': 'black',\n",
              "    'highlight': {'background': 'white', 'border': 'red'}},\n",
              "   'shape': 'ellipse',\n",
              "   'mass': 1,\n",
              "   'font': {'color': 'black', 'size': 14}}},\n",
              " 'reload_button': False,\n",
              " 'edges': {'arrows': 'to',\n",
              "  'font': {'color': 'black',\n",
              "   'size': 14,\n",
              "   'strokeColor': 'white',\n",
              "   'strokeWidth': 2},\n",
              "  'color': {'color': 'black'},\n",
              "  'width': 1},\n",
              " 'numbers': {'fractions': True, 'digits': 5, 'denominator_limit': 1000},\n",
              " 'state_properties': {'show_results': True,\n",
              "  'result_symbol': '\u2606',\n",
              "  'show_rewards': True,\n",
              "  'reward_symbol': '\u20ac',\n",
              "  'show_zero_rewards': True,\n",
              "  'show_observations': True,\n",
              "  'observation_symbol': '\u0298'},\n",
              " 'layout': {'randomSeed': 5},\n",
              " 'misc': {'enable_physics': True,\n",
              "  'width': 800,\n",
              "  'height': 600,\n",
              "  'explore': False},\n",
              " 'saving': {'relative_path': True,\n",
              "  'filename': 'layouts/NAME.json',\n",
              "  'save_button': False,\n",
              "  'load_button': False},\n",
              " 'positions': {},\n",
              " 'physics': True,\n",
              " 'autoResize': True}"
            ]
          },
          "execution_count": 5,
          "metadata": {},
          "output_type": "execute_result"
        }
      ],
      "source": [
        "vis.layout.layout"
      ]
    },
    {
      "cell_type": "code",
      "execution_count": null,
      "id": "97876dcc-4f89-4005-a8dd-487584ea4260",
      "metadata": {},
      "outputs": [],
      "source": []
    }
  ],
  "metadata": {
    "kernelspec": {
      "display_name": "Python 3 (ipykernel)",
      "language": "python",
      "name": "python3"
    },
    "language_info": {
      "codemirror_mode": {
        "name": "ipython",
        "version": 3
      },
      "file_extension": ".py",
      "mimetype": "text/x-python",
      "name": "python",
      "nbconvert_exporter": "python",
      "pygments_lexer": "ipython3",
      "version": "3.12.3"
    }
  },
  "nbformat": 4,
  "nbformat_minor": 5
}
