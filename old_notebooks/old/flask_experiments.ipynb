{
  "cells": [
    {
      "cell_type": "code",
      "execution_count": null,
      "id": "f035d86d-0272-4b22-9e6c-202529992dbd",
      "metadata": {},
      "outputs": [],
      "source": [
        "from flask import Flask, request, jsonify\n",
        "import threading\n",
        "import time\n",
        "\n",
        "app = Flask(__name__)\n",
        "\n",
        "# A simple event handler function\n",
        "def trigger_event(event_name):\n",
        "    print(f\"Event triggered: {event_name}\")\n",
        "    # Here you can add any action you want to trigger when the event is called\n",
        "    time.sleep(2)  # Simulate some processing time for the event\n",
        "    print(f\"Event {event_name} completed.\")\n",
        "\n",
        "@app.route('/trigger_event', methods=['POST'])\n",
        "def handle_event():\n",
        "    # Get data from the incoming request (e.g., JSON body)\n",
        "    data = request.json\n",
        "    event_name = data.get(\"event_name\")\n",
        "\n",
        "    if event_name:\n",
        "        # Trigger event asynchronously (in a separate thread) to avoid blocking the main server\n",
        "        event_thread = threading.Thread(target=trigger_event, args=(event_name,))\n",
        "        event_thread.start()\n",
        "        \n",
        "        return jsonify({\"message\": f\"Event {event_name} is being processed.\"}), 200\n",
        "    else:\n",
        "        return jsonify({\"message\": \"No event name provided.\"}), 400\n",
        "\n",
        "if __name__ == '__main__':\n",
        "    # Use a specific host and port in case it's necessary to avoid port conflicts.\n",
        "    # You can change the port number if needed (e.g., 5001, 5002, etc.)\n",
        "    app.run(debug=False, host='0.0.0.0', port=5000)\n"
      ]
    },
    {
      "cell_type": "code",
      "execution_count": null,
      "id": "1a255afb-809b-45ff-8df6-ab9e865aa8f0",
      "metadata": {},
      "outputs": [],
      "source": [
        "print('hi')"
      ]
    },
    {
      "cell_type": "code",
      "execution_count": null,
      "id": "e0b20a30-b50f-4ead-b400-addd7085c14d",
      "metadata": {},
      "outputs": [],
      "source": []
    }
  ],
  "metadata": {
    "kernelspec": {
      "display_name": "Python 3 (ipykernel)",
      "language": "python",
      "name": "python3"
    },
    "language_info": {
      "codemirror_mode": {
        "name": "ipython",
        "version": 3
      },
      "file_extension": ".py",
      "mimetype": "text/x-python",
      "name": "python",
      "nbconvert_exporter": "python",
      "pygments_lexer": "ipython3",
      "version": "3.12.3"
    }
  },
  "nbformat": 4,
  "nbformat_minor": 5
}
