{
  "cells": [
    {
      "cell_type": "code",
      "execution_count": 3,
      "id": "580fce8d-53ed-4cce-939a-9c62ecaaebeb",
      "metadata": {},
      "outputs": [
        {
          "data": {
            "application/vnd.jupyter.widget-view+json": {
              "model_id": "53dd6af2304f44b0a50853b306558d44",
              "version_major": 2,
              "version_minor": 0
            },
            "text/plain": [
              "Output()"
            ]
          },
          "metadata": {},
          "output_type": "display_data"
        },
        {
          "data": {
            "application/vnd.jupyter.widget-view+json": {
              "model_id": "4e7a854730174ff1a93957a0fcd76f2b",
              "version_major": 2,
              "version_minor": 0
            },
            "text/plain": [
              "Output()"
            ]
          },
          "metadata": {},
          "output_type": "display_data"
        },
        {
          "data": {
            "application/vnd.jupyter.widget-view+json": {
              "model_id": "1a54791180294c118eadada8dabcfe60",
              "version_major": 2,
              "version_minor": 0
            },
            "text/plain": [
              "Output()"
            ]
          },
          "metadata": {},
          "output_type": "display_data"
        },
        {
          "data": {
            "application/vnd.jupyter.widget-view+json": {
              "model_id": "69085554f281475aa8da3e29a178fa91",
              "version_major": 2,
              "version_minor": 0
            },
            "text/plain": [
              "HBox(children=(Output(), Output()))"
            ]
          },
          "metadata": {},
          "output_type": "display_data"
        }
      ],
      "source": [
        "import stormvogel.model\n",
        "import stormvogel.visualization\n",
        "import stormvogel.show\n",
        "from stormvogel.layout import Layout, DEFAULT\n",
        "\n",
        "# Create a new model with the name \"Die\"\n",
        "dtmc = stormvogel.model.new_dtmc(\"Die\")\n",
        "\n",
        "init = dtmc.get_initial_state()\n",
        "\n",
        "# From the initial state, add the transition to 6 new states with probability 1/6th.\n",
        "init.set_transitions(\n",
        "    [(1 / 6, dtmc.new_state(f\"rolled{i}\", {\"rolled\": i})) for i in range(6)]\n",
        ")\n",
        "\n",
        "# Show a visualization of the model.\n",
        "vis = stormvogel.show.show(dtmc, show_editor=True, layout=DEFAULT())"
      ]
    },
    {
      "cell_type": "code",
      "execution_count": null,
      "id": "f9968dc0-b45f-454e-9587-49ce7a94ccc1",
      "metadata": {},
      "outputs": [],
      "source": [
        "import IPython.display as ipd\n",
        "ipd.Javascript(f\"\"\"\n",
        "var frame = document.getElementById('{vis.nt.name}');\n",
        "frame.height = 100;\n",
        "frame.contentWindow.network.redraw();\n",
        "\"\"\")"
      ]
    },
    {
      "cell_type": "code",
      "execution_count": null,
      "id": "ba718020-c525-4ec9-a9b5-56c87958a87a",
      "metadata": {},
      "outputs": [],
      "source": [
        "import IPython.display as ipd\n",
        "ipd.Javascript(f\"\"\"\n",
        "var iframe = document.getElementById('{vis.nt.name}');\n",
        "let iframeDoc = iframe.contentDocument || iframe.contentWindow.document;\n",
        "// Select the div inside the iframe\n",
        "let div = iframeDoc.querySelector(\"#mynetwork\");\n",
        "div.style.height = \"200px\";\n",
        "alert(div);\n",
        "\"\"\")"
      ]
    },
    {
      "cell_type": "code",
      "execution_count": null,
      "id": "e681ca6d-7a8e-40f2-b879-9101bdf3508a",
      "metadata": {},
      "outputs": [],
      "source": []
    }
  ],
  "metadata": {
    "kernelspec": {
      "display_name": "Python 3 (ipykernel)",
      "language": "python",
      "name": "python3"
    },
    "language_info": {
      "codemirror_mode": {
        "name": "ipython",
        "version": 3
      },
      "file_extension": ".py",
      "mimetype": "text/x-python",
      "name": "python",
      "nbconvert_exporter": "python",
      "pygments_lexer": "ipython3",
      "version": "3.12.3"
    }
  },
  "nbformat": 4,
  "nbformat_minor": 5
}
