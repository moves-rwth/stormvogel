{
  "cells": [
    {
      "cell_type": "code",
      "execution_count": 1,
      "id": "a6a674b3",
      "metadata": {
        "collapsed": false,
        "jupyter": {
          "outputs_hidden": false
        }
      },
      "outputs": [],
      "source": [
        "import stormvogel.model\n",
        "import stormvogel.visualization\n",
        "import stormvogel.show\n",
        "from stormvogel.layout import Layout, DEFAULT\n",
        "import stormvogel.communication_server"
      ]
    },
    {
      "cell_type": "code",
      "execution_count": 2,
      "id": "0ec3541e-3907-4cf8-bc0d-29ca09d919b6",
      "metadata": {},
      "outputs": [
        {
          "data": {
            "application/vnd.jupyter.widget-view+json": {
              "model_id": "58ec3941416b4fb1b9bdcd249e813f77",
              "version_major": 2,
              "version_minor": 0
            },
            "text/plain": [
              "Output()"
            ]
          },
          "metadata": {},
          "output_type": "display_data"
        },
        {
          "data": {
            "text/html": [
              "<script>\n",
              "function return_id_result(url, id, data) {\n",
              "        fetch(url, {\n",
              "            method: 'POST',\n",
              "            body: JSON.stringify({\n",
              "                'id': id,\n",
              "                'data': data\n",
              "            })\n",
              "        })\n",
              "    }\n",
              "</script>"
            ],
            "text/plain": [
              "<IPython.core.display.HTML object>"
            ]
          },
          "metadata": {},
          "output_type": "display_data"
        },
        {
          "data": {
            "application/javascript": [
              "return_id_result('http://127.0.0.1:8891', 'eNnYvZhQGvabBDOoUpFm', 'test message')"
            ],
            "text/plain": [
              "<IPython.core.display.Javascript object>"
            ]
          },
          "metadata": {},
          "output_type": "display_data"
        },
        {
          "data": {
            "application/vnd.jupyter.widget-view+json": {
              "model_id": "670834e902cf4b87bdca1c71115db4e4",
              "version_major": 2,
              "version_minor": 0
            },
            "text/plain": [
              "Output()"
            ]
          },
          "metadata": {},
          "output_type": "display_data"
        },
        {
          "data": {
            "application/vnd.jupyter.widget-view+json": {
              "model_id": "b910afaad7554520991308e0cb41ef8b",
              "version_major": 2,
              "version_minor": 0
            },
            "text/plain": [
              "Output()"
            ]
          },
          "metadata": {},
          "output_type": "display_data"
        },
        {
          "data": {
            "application/vnd.jupyter.widget-view+json": {
              "model_id": "78311e0b49ee4a83841e926b4c52961d",
              "version_major": 2,
              "version_minor": 0
            },
            "text/plain": [
              "HBox(children=(Output(), Output()))"
            ]
          },
          "metadata": {},
          "output_type": "display_data"
        }
      ],
      "source": [
        "# Create a new model with the name \"Die\"\n",
        "dtmc = stormvogel.model.new_dtmc(\"Die\")\n",
        "\n",
        "init = dtmc.get_initial_state()\n",
        "\n",
        "# From the initial state, add the transition to 6 new states with probability 1/6th.\n",
        "init.set_transitions(\n",
        "    [(1 / 6, dtmc.new_state(f\"rolled{i}\", {\"rolled\": i})) for i in range(6)]\n",
        ")\n",
        "\n",
        "# Show a visualization of the model.\n",
        "vis = stormvogel.show.show(dtmc, show_editor=True, layout=DEFAULT())"
      ]
    },
    {
      "cell_type": "code",
      "execution_count": 5,
      "id": "9fcece77-504a-421d-8301-c8e11b8d8b3f",
      "metadata": {},
      "outputs": [
        {
          "name": "stdout",
          "output_type": "stream",
          "text": [
            "document.getElementById('modelKnDaUAcXqs').contentWindow.setNodeColor(0, \"red\");\n"
          ]
        }
      ],
      "source": [
        "vis.nt.set_node_color(0, \"red\")"
      ]
    },
    {
      "cell_type": "code",
      "execution_count": 4,
      "id": "584bae7d-20ea-48a9-af22-ad7b8af01a87",
      "metadata": {},
      "outputs": [],
      "source": [
        "# import IPython.display as ipd\n",
        "# print(vis.nt.content_window)\n",
        "# ipd.Javascript(\"document.getElementById('modelWTilDAeZvJ').contentWindow.setNodeColor(0, 'red');\")"
      ]
    },
    {
      "cell_type": "code",
      "execution_count": null,
      "id": "06c075b4-7a6f-450f-ad3c-0ab12b714f4c",
      "metadata": {},
      "outputs": [],
      "source": []
    },
    {
      "cell_type": "code",
      "execution_count": null,
      "id": "5448d247-ba82-40bb-9367-64cf60733e05",
      "metadata": {},
      "outputs": [],
      "source": []
    }
  ],
  "metadata": {
    "kernelspec": {
      "display_name": "Python 3 (ipykernel)",
      "language": "python",
      "name": "python3"
    },
    "language_info": {
      "codemirror_mode": {
        "name": "ipython",
        "version": 3
      },
      "file_extension": ".py",
      "mimetype": "text/x-python",
      "name": "python",
      "nbconvert_exporter": "python",
      "pygments_lexer": "ipython3",
      "version": "3.12.3"
    }
  },
  "nbformat": 4,
  "nbformat_minor": 5
}
