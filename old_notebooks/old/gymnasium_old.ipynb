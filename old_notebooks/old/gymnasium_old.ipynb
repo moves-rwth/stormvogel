{
  "cells": [
    {
      "cell_type": "code",
      "execution_count": 1,
      "id": "19eaccf6-7f25-42b0-a5f0-3430c3b7eff9",
      "metadata": {},
      "outputs": [
        {
          "ename": "MissingKeysToAction",
          "evalue": "FrozenLake-v1 does not have explicit key to action mapping, please specify one manually",
          "output_type": "error",
          "traceback": [
            "\u001b[0;31m---------------------------------------------------------------------------\u001b[0m",
            "\u001b[0;31mMissingKeysToAction\u001b[0m                       Traceback (most recent call last)",
            "Cell \u001b[0;32mIn[1], line 14\u001b[0m\n\u001b[1;32m     10\u001b[0m     observation, reward, terminated, truncated, info \u001b[38;5;241m=\u001b[39m env\u001b[38;5;241m.\u001b[39mstep(action)\n\u001b[1;32m     12\u001b[0m     episode_over \u001b[38;5;241m=\u001b[39m terminated \u001b[38;5;129;01mor\u001b[39;00m truncated\n\u001b[0;32m---> 14\u001b[0m \u001b[43mplay\u001b[49m\u001b[43m(\u001b[49m\u001b[43menv\u001b[49m\u001b[43m)\u001b[49m\n\u001b[1;32m     16\u001b[0m \u001b[38;5;66;03m#env.close()\u001b[39;00m\n",
            "File \u001b[0;32m~/git/stormvogel/env/lib/python3.12/site-packages/gymnasium/utils/play.py:250\u001b[0m, in \u001b[0;36mplay\u001b[0;34m(env, transpose, fps, zoom, callback, keys_to_action, seed, noop, wait_on_player)\u001b[0m\n\u001b[1;32m    248\u001b[0m     \u001b[38;5;28;01melse\u001b[39;00m:\n\u001b[1;32m    249\u001b[0m         \u001b[38;5;28;01massert\u001b[39;00m env\u001b[38;5;241m.\u001b[39mspec \u001b[38;5;129;01mis\u001b[39;00m \u001b[38;5;129;01mnot\u001b[39;00m \u001b[38;5;28;01mNone\u001b[39;00m\n\u001b[0;32m--> 250\u001b[0m         \u001b[38;5;28;01mraise\u001b[39;00m MissingKeysToAction(\n\u001b[1;32m    251\u001b[0m             \u001b[38;5;124mf\u001b[39m\u001b[38;5;124m\"\u001b[39m\u001b[38;5;132;01m{\u001b[39;00menv\u001b[38;5;241m.\u001b[39mspec\u001b[38;5;241m.\u001b[39mid\u001b[38;5;132;01m}\u001b[39;00m\u001b[38;5;124m does not have explicit key to action mapping, \u001b[39m\u001b[38;5;124m\"\u001b[39m\n\u001b[1;32m    252\u001b[0m             \u001b[38;5;124m\"\u001b[39m\u001b[38;5;124mplease specify one manually\u001b[39m\u001b[38;5;124m\"\u001b[39m\n\u001b[1;32m    253\u001b[0m         )\n\u001b[1;32m    255\u001b[0m \u001b[38;5;28;01massert\u001b[39;00m keys_to_action \u001b[38;5;129;01mis\u001b[39;00m \u001b[38;5;129;01mnot\u001b[39;00m \u001b[38;5;28;01mNone\u001b[39;00m\n\u001b[1;32m    257\u001b[0m \u001b[38;5;66;03m# validate the `keys_to_action` set provided\u001b[39;00m\n",
            "\u001b[0;31mMissingKeysToAction\u001b[0m: FrozenLake-v1 does not have explicit key to action mapping, please specify one manually"
          ]
        }
      ],
      "source": [
        "import gymnasium as gym\n",
        "from gymnasium.utils.play import play\n",
        "import IPython.display as ipd\n",
        "env = gym.make('FrozenLake-v1', desc=None, map_name=\"4x4\", is_slippery=True)\n",
        "observation, info = env.reset()\n",
        "\n",
        "episode_over = False\n",
        "while not episode_over:\n",
        "    action = env.action_space.sample()  # agent policy that uses the observation and info\n",
        "    observation, reward, terminated, truncated, info = env.step(action)\n",
        "\n",
        "    episode_over = terminated or truncated\n",
        "\n",
        "play(env)\n",
        "\n",
        "#env.close()"
      ]
    },
    {
      "cell_type": "code",
      "execution_count": 12,
      "id": "0097b610-a643-4641-bbc8-1a3cbb67ff16",
      "metadata": {},
      "outputs": [
        {
          "data": {
            "image/png": "[encoded data removed]",
            "text/plain": [
              "<Figure size 640x480 with 1 Axes>"
            ]
          },
          "metadata": {},
          "output_type": "display_data"
        },
        {
          "data": {
            "image/png": "[encoded data removed]",
            "text/plain": [
              "<Figure size 640x480 with 1 Axes>"
            ]
          },
          "metadata": {},
          "output_type": "display_data"
        }
      ],
      "source": [
        "import gymnasium as gym\n",
        "import matplotlib.pyplot as plt\n",
        "from IPython.display import display, clear_output\n",
        "\n",
        "env = gym.make(\"CartPole-v1\", render_mode=\"rgb_array\")\n",
        "observation, info = env.reset()\n",
        "\n",
        "for _ in range(20):\n",
        "    img = env.render()\n",
        "    plt.imshow(img)\n",
        "    clear_output(wait=True)\n",
        "    display(plt.gcf())\n",
        "\n",
        "env.close()\n"
      ]
    },
    {
      "cell_type": "code",
      "execution_count": 4,
      "id": "1862fc46-d781-48cb-a023-1106694d1d15",
      "metadata": {},
      "outputs": [],
      "source": [
        "import gymnasium as gym\n",
        "from gymnasium.utils.play import play\n",
        "\n",
        "# Define custom key-to-action mapping\n",
        "KEYS_TO_ACTION = {\n",
        "    \"w\": 3,  # Up\n",
        "    \"s\": 1,  # Down\n",
        "    \"a\": 0,  # Left\n",
        "    \"d\": 2   # Right\n",
        "}\n",
        "\n",
        "# Create the FrozenLake environment\n",
        "env = gym.make(\"FrozenLake-v1\", render_mode=\"rgb_array\", is_slippery=False)  # Set `is_slippery=True` for stochastic behavior\n",
        "\n",
        "# Run interactive play with custom key mapping\n",
        "play(env, keys_to_action=KEYS_TO_ACTION)\n"
      ]
    },
    {
      "cell_type": "code",
      "execution_count": 18,
      "id": "9276255b-0c32-4264-9f0c-0c63a3e4ecf8",
      "metadata": {},
      "outputs": [
        {
          "data": {
            "text/plain": [
              "gymnasium.envs.toy_text.frozen_lake.FrozenLakeEnv"
            ]
          },
          "execution_count": 18,
          "metadata": {},
          "output_type": "execute_result"
        }
      ],
      "source": [
        "import gymnasium as gym\n",
        "\n",
        "# Create FrozenLake environment\n",
        "env = gym.make(\"FrozenLake-v1\", render_mode=\"ansi\", is_slippery=False)\n",
        "env.action_space\n",
        "env.spec\n",
        "\n",
        "# for i in env.action_space:\n",
        "#     print(i)\n",
        "\n",
        "# # Reset environment\n",
        "# observation, info = env.reset()\n",
        "\n",
        "# done = False\n",
        "# while not done:\n",
        "#     # Render and print the environment state\n",
        "#     print(env.render())  # Prints the ASCII representation\n",
        "    \n",
        "#     # Take user input\n",
        "#     move = input(\"Enter move (w=up, s=down, a=left, d=right): \").strip().lower()\n",
        "    \n",
        "#     # Map input to action\n",
        "#     moves = {\"w\": 3, \"s\": 1, \"a\": 0, \"d\": 2}\n",
        "#     if move in moves:\n",
        "#         action = moves[move]\n",
        "#         observation, reward, done, truncated, info = env.step(action)\n",
        "        \n",
        "#         if done:\n",
        "#             print(\"Game Over! Reward:\", reward)\n",
        "#             break\n",
        "#     else:\n",
        "#         print(\"Invalid input! Use w, a, s, d.\")\n",
        "\n",
        "# env.close()\n",
        "import gymnasium\n",
        "gymnasium.envs.toy_text.frozen_lake.FrozenLakeEnv\n"
      ]
    },
    {
      "cell_type": "code",
      "execution_count": null,
      "id": "6d354d17-c7c5-428e-91d0-c43d6f8b172e",
      "metadata": {},
      "outputs": [],
      "source": []
    }
  ],
  "metadata": {
    "kernelspec": {
      "display_name": "Python 3 (ipykernel)",
      "language": "python",
      "name": "python3"
    },
    "language_info": {
      "codemirror_mode": {
        "name": "ipython",
        "version": 3
      },
      "file_extension": ".py",
      "mimetype": "text/x-python",
      "name": "python",
      "nbconvert_exporter": "python",
      "pygments_lexer": "ipython3",
      "version": "3.12.3"
    }
  },
  "nbformat": 4,
  "nbformat_minor": 5
}
