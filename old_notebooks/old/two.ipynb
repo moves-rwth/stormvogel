{
  "cells": [
    {
      "cell_type": "code",
      "execution_count": 2,
      "id": "98c6c9dc-691d-4c59-83be-7a67cb17242c",
      "metadata": {},
      "outputs": [
        {
          "data": {
            "application/vnd.jupyter.widget-view+json": {
              "model_id": "d2f9d76a62614236a98e91f4f8d87f44",
              "version_major": 2,
              "version_minor": 0
            },
            "text/plain": [
              "Output()"
            ]
          },
          "metadata": {},
          "output_type": "display_data"
        },
        {
          "data": {
            "application/vnd.jupyter.widget-view+json": {
              "model_id": "a8bf353b7ddb4b97a5a9f8e98d2778d1",
              "version_major": 2,
              "version_minor": 0
            },
            "text/plain": [
              "HBox(children=(Output(), Output()))"
            ]
          },
          "metadata": {},
          "output_type": "display_data"
        }
      ],
      "source": [
        "import stormvogel.show\n",
        "import stormvogel.model\n",
        "\n",
        "dtmc1 = stormvogel.model.new_dtmc(\"One\")\n",
        "init1 = dtmc1.get_initial_state()\n",
        "\n",
        "# From the initial state, add the transition to 6 new states with probability 1/6th.\n",
        "init1.set_transitions(\n",
        "    [(1 / 1, dtmc1.new_state(f\"rolled{i}\", {\"rolled\": i})) for i in range(1)]\n",
        ")\n",
        "\n",
        "vis1 = stormvogel.show.show(dtmc1, show_editor=True)"
      ]
    },
    {
      "cell_type": "code",
      "execution_count": 3,
      "id": "14c032b4-cda1-45c8-b67d-d62455c03131",
      "metadata": {},
      "outputs": [
        {
          "data": {
            "application/vnd.jupyter.widget-view+json": {
              "model_id": "a0318d9abc9e44858cecda6811797efc",
              "version_major": 2,
              "version_minor": 0
            },
            "text/plain": [
              "Output()"
            ]
          },
          "metadata": {},
          "output_type": "display_data"
        },
        {
          "data": {
            "application/vnd.jupyter.widget-view+json": {
              "model_id": "871f5279cb77466ba401ea0336530afb",
              "version_major": 2,
              "version_minor": 0
            },
            "text/plain": [
              "HBox(children=(Output(), Output()))"
            ]
          },
          "metadata": {},
          "output_type": "display_data"
        }
      ],
      "source": [
        "import stormvogel.show\n",
        "import stormvogel.model\n",
        "\n",
        "dtmc2 = stormvogel.model.new_dtmc(\"Two\")\n",
        "init2 = dtmc2.get_initial_state()\n",
        "\n",
        "# From the initial state, add the transition to 6 new states with probability 1/6th.\n",
        "init2.set_transitions(\n",
        "    [(1 / 6, dtmc2.new_state(f\"rolled{i}\", {\"rolled\": i})) for i in range(6)]\n",
        ")\n",
        "\n",
        "vis2 = stormvogel.show.show(dtmc2, show_editor=True)"
      ]
    },
    {
      "cell_type": "code",
      "execution_count": null,
      "id": "90f24cb9-b1de-4063-825a-0d4dcb08d23f",
      "metadata": {},
      "outputs": [],
      "source": []
    }
  ],
  "metadata": {
    "kernelspec": {
      "display_name": "Python (stormvogel)",
      "language": "python",
      "name": "stormvogel-env"
    },
    "language_info": {
      "codemirror_mode": {
        "name": "ipython",
        "version": 3
      },
      "file_extension": ".py",
      "mimetype": "text/x-python",
      "name": "python",
      "nbconvert_exporter": "python",
      "pygments_lexer": "ipython3",
      "version": "3.11.2"
    }
  },
  "nbformat": 4,
  "nbformat_minor": 5
}
