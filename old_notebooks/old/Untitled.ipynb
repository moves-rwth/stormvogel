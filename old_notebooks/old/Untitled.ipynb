{
  "cells": [
    {
      "cell_type": "code",
      "execution_count": 1,
      "id": "a2c7a69f-30a6-459d-b9a9-a2cff5b02e24",
      "metadata": {},
      "outputs": [
        {
          "data": {
            "application/vnd.jupyter.widget-view+json": {
              "model_id": "0ce1580c229b4ed8887e9775f9a92a53",
              "version_major": 2,
              "version_minor": 0
            },
            "text/plain": [
              "Output()"
            ]
          },
          "metadata": {},
          "output_type": "display_data"
        }
      ],
      "source": [
        "import ipywidgets as widgets\n",
        "import IPython.display as ipd\n",
        "\n",
        "o = widgets.Output()\n",
        "with o:\n",
        "    print(\"hi\")\n",
        "ipd.display(o)\n",
        "ipd.JavaScript"
      ]
    },
    {
      "cell_type": "code",
      "execution_count": null,
      "id": "f33ebe6b-1681-4529-9fd6-8b871f15c683",
      "metadata": {},
      "outputs": [],
      "source": []
    }
  ],
  "metadata": {
    "kernelspec": {
      "display_name": "Python 3 (ipykernel)",
      "language": "python",
      "name": "python3"
    },
    "language_info": {
      "codemirror_mode": {
        "name": "ipython",
        "version": 3
      },
      "file_extension": ".py",
      "mimetype": "text/x-python",
      "name": "python",
      "nbconvert_exporter": "python",
      "pygments_lexer": "ipython3",
      "version": "3.12.3"
    }
  },
  "nbformat": 4,
  "nbformat_minor": 5
}
