{
 "cells": [
  {
   "cell_type": "code",
   "execution_count": 1,
   "id": "90c06b97-18e8-4ad1-a60e-1e1fbfb4b3f6",
   "metadata": {},
   "outputs": [],
   "source": [
    "from stormvogel import *\n",
    "from stormvogel.extensions import *"
   ]
  },
  {
   "cell_type": "code",
   "execution_count": 2,
   "id": "8a3fb3a0-9d46-4bbe-8d52-5c1fae10b54a",
   "metadata": {},
   "outputs": [],
   "source": [
    "import gymnasium as gym\n",
    "from collections import defaultdict\n",
    "from stormvogel import pgc\n",
    "\n",
    "def sample_gym(env: gym.Env, no_samples: int=10, sample_length:int = 1000, state_limit:int = 5_000, gymnasium_scheduler=None):\n",
    "    \"\"\"Sample the gym environment and convert it to a Stormvogel MDP. \n",
    "    Probablities are frequentist estimates. Their accuracy depends on how often each state is visited.\n",
    "    When visiting a state multiple times, we always try to increase accuracy uniformly.\n",
    "    States with the same observations cannot be distinguished, hence they become the same state in the resulting MDP, \n",
    "    even though they might be different in the gymnasium environment.\n",
    "\n",
    "    Args:\n",
    "        env (gym.Env): Gymnasium env.\n",
    "        no_samples (int): Total number of samples (starting at an initial state).\n",
    "            To resolve multiple initial states, a new, single initial state is always added.\n",
    "        sample_length (int): The maximum length of a single sample.\n",
    "        state_limit (int): Maximum number of states to explore. \n",
    "            If this is reached, the sampling will simply stop (which leads to it returning a partial MDP)\n",
    "    \"\"\"\n",
    "    initial_states = set()\n",
    "    visited_states = set()\n",
    "    transition_counts = defaultdict(lambda: defaultdict(lambda: 0))\n",
    "    transition_samples = defaultdict(lambda: 0)\n",
    "    reward_sums = defaultdict(lambda: 0)\n",
    "    labels = defaultdict(lambda: [])\n",
    "\n",
    "    for s_no in range(no_samples):\n",
    "        prev_state = None\n",
    "        obs, _ = env.reset()\n",
    "        state = (obs, False)\n",
    "        initial_states.add(state)\n",
    "        for _ in range(sample_length):\n",
    "            action = (\n",
    "                env.action_space.sample()\n",
    "                if gymnasium_scheduler is None\n",
    "                else gymnasium_scheduler(state)\n",
    "            )\n",
    "            prev_state = state\n",
    "            obs, reward, terminated, truncated, info = env.step(action)\n",
    "            state = (obs, terminated)\n",
    "            visited_states.add(state)\n",
    "            transition_counts[(prev_state, action)][state] += 1\n",
    "            transition_samples[(prev_state, action)] += 1\n",
    "            reward_sums[(prev_state, action)] += reward\n",
    "            if terminated:\n",
    "                break\n",
    "    # print(initial_states)\n",
    "    # print(visited_states)\n",
    "    # print(transition_counts)\n",
    "    # print(reward_sums)\n",
    "\n",
    "    ALL_ACTIONS = [pgc.Action([str(x)]) for x in range(env.action_space.n)]\n",
    "    INV_MAP = {a.labels[0]: no for no, a in enumerate(ALL_ACTIONS)}\n",
    "\n",
    "    if len(initial_states) == 1:\n",
    "        (init,) = initial_states\n",
    "    else:\n",
    "        init = None\n",
    "    \n",
    "\n",
    "    def available_actions(s):\n",
    "        if s is None or s[1]:\n",
    "            return [pgc.PgcEmpytAction]\n",
    "        return ALL_ACTIONS\n",
    "        \n",
    "    def delta(s, a):\n",
    "        if s is None:\n",
    "            return [(1 / len(initial_states), s_) for s_ in initial_states]\n",
    "        elif s[1]:\n",
    "            return []\n",
    "        return [(count / transition_samples[(s, INV_MAP[a.labels[0]])], s_) for s_, count in transition_counts[(s,INV_MAP[a.labels[0]])].items()]\n",
    "\n",
    "    def rewards(s, a):\n",
    "        return {\"R\":0}\n",
    "\n",
    "    def labels(s):\n",
    "        return [s]\n",
    "        # if s is None:\n",
    "        #     return []\n",
    "        # done = [\"done\"] if s[1] else []\n",
    "        # return [str(x) for x in s[0]] + done\n",
    "        \n",
    "\n",
    "    return pgc.build_pgc(\n",
    "        delta=delta,\n",
    "        initial_state_pgc=init,\n",
    "        available_actions=available_actions,\n",
    "        labels=labels,\n",
    "        rewards=rewards,\n",
    "        modeltype=stormvogel.model.ModelType.MDP,\n",
    "    )\n",
    "            \n",
    "    \n",
    "    "
   ]
  },
  {
   "cell_type": "code",
   "execution_count": 3,
   "id": "4dd2edea-5b67-49a3-baef-3891d165a193",
   "metadata": {},
   "outputs": [
    {
     "name": "stdout",
     "output_type": "stream",
     "text": [
      "Action with labels frozenset()\n",
      "State 0 with labels ['init'] and valuations {}\n",
      "[Action(labels=frozenset())]\n",
      "Action with labels frozenset({'0'})\n",
      "State 1 with labels [] and valuations {}\n",
      "[Action(labels=frozenset({'1'}))]\n"
     ]
    },
    {
     "ename": "RuntimeError",
     "evalue": "This action is not available in this state",
     "output_type": "error",
     "traceback": [
      "\u001b[0;31m---------------------------------------------------------------------------\u001b[0m",
      "\u001b[0;31mRuntimeError\u001b[0m                              Traceback (most recent call last)",
      "Cell \u001b[0;32mIn[3], line 2\u001b[0m\n\u001b[1;32m      1\u001b[0m env \u001b[38;5;241m=\u001b[39m gym\u001b[38;5;241m.\u001b[39mmake(\u001b[38;5;124m\"\u001b[39m\u001b[38;5;124mBlackjack-v1\u001b[39m\u001b[38;5;124m\"\u001b[39m, render_mode\u001b[38;5;241m=\u001b[39m\u001b[38;5;124m\"\u001b[39m\u001b[38;5;124mrgb_array\u001b[39m\u001b[38;5;124m\"\u001b[39m)\n\u001b[0;32m----> 2\u001b[0m model \u001b[38;5;241m=\u001b[39m \u001b[43msample_gym\u001b[49m\u001b[43m(\u001b[49m\u001b[43menv\u001b[49m\u001b[43m,\u001b[49m\u001b[43m \u001b[49m\u001b[43mno_samples\u001b[49m\u001b[38;5;241;43m=\u001b[39;49m\u001b[38;5;241;43m10\u001b[39;49m\u001b[43m)\u001b[49m\n\u001b[1;32m      3\u001b[0m \u001b[38;5;28mprint\u001b[39m(model)\n\u001b[1;32m      4\u001b[0m \u001b[38;5;66;03m#show(model)\u001b[39;00m\n",
      "Cell \u001b[0;32mIn[2], line 84\u001b[0m, in \u001b[0;36msample_gym\u001b[0;34m(env, no_samples, sample_length, state_limit, gymnasium_scheduler)\u001b[0m\n\u001b[1;32m     77\u001b[0m     \u001b[38;5;28;01mreturn\u001b[39;00m [s]\n\u001b[1;32m     78\u001b[0m     \u001b[38;5;66;03m# if s is None:\u001b[39;00m\n\u001b[1;32m     79\u001b[0m     \u001b[38;5;66;03m#     return []\u001b[39;00m\n\u001b[1;32m     80\u001b[0m     \u001b[38;5;66;03m# done = [\"done\"] if s[1] else []\u001b[39;00m\n\u001b[1;32m     81\u001b[0m     \u001b[38;5;66;03m# return [str(x) for x in s[0]] + done\u001b[39;00m\n\u001b[0;32m---> 84\u001b[0m \u001b[38;5;28;01mreturn\u001b[39;00m \u001b[43mpgc\u001b[49m\u001b[38;5;241;43m.\u001b[39;49m\u001b[43mbuild_pgc\u001b[49m\u001b[43m(\u001b[49m\n\u001b[1;32m     85\u001b[0m \u001b[43m    \u001b[49m\u001b[43mdelta\u001b[49m\u001b[38;5;241;43m=\u001b[39;49m\u001b[43mdelta\u001b[49m\u001b[43m,\u001b[49m\n\u001b[1;32m     86\u001b[0m \u001b[43m    \u001b[49m\u001b[43minitial_state_pgc\u001b[49m\u001b[38;5;241;43m=\u001b[39;49m\u001b[43minit\u001b[49m\u001b[43m,\u001b[49m\n\u001b[1;32m     87\u001b[0m \u001b[43m    \u001b[49m\u001b[43mavailable_actions\u001b[49m\u001b[38;5;241;43m=\u001b[39;49m\u001b[43mavailable_actions\u001b[49m\u001b[43m,\u001b[49m\n\u001b[1;32m     88\u001b[0m \u001b[43m    \u001b[49m\u001b[43mlabels\u001b[49m\u001b[38;5;241;43m=\u001b[39;49m\u001b[43mlabels\u001b[49m\u001b[43m,\u001b[49m\n\u001b[1;32m     89\u001b[0m \u001b[43m    \u001b[49m\u001b[43mrewards\u001b[49m\u001b[38;5;241;43m=\u001b[39;49m\u001b[43mrewards\u001b[49m\u001b[43m,\u001b[49m\n\u001b[1;32m     90\u001b[0m \u001b[43m    \u001b[49m\u001b[43mmodeltype\u001b[49m\u001b[38;5;241;43m=\u001b[39;49m\u001b[43mstormvogel\u001b[49m\u001b[38;5;241;43m.\u001b[39;49m\u001b[43mmodel\u001b[49m\u001b[38;5;241;43m.\u001b[39;49m\u001b[43mModelType\u001b[49m\u001b[38;5;241;43m.\u001b[39;49m\u001b[43mMDP\u001b[49m\u001b[43m,\u001b[49m\n\u001b[1;32m     91\u001b[0m \u001b[43m\u001b[49m\u001b[43m)\u001b[49m\n",
      "File \u001b[0;32m~/repositories/stormvogel/stormvogel/pgc.py:324\u001b[0m, in \u001b[0;36mbuild_pgc\u001b[0;34m(delta, initial_state_pgc, rewards, labels, available_actions, observations, rates, valuations, modeltype, max_size)\u001b[0m\n\u001b[1;32m    322\u001b[0m                 \u001b[38;5;28mprint\u001b[39m(s)\n\u001b[1;32m    323\u001b[0m                 \u001b[38;5;28mprint\u001b[39m(s\u001b[38;5;241m.\u001b[39mavailable_actions())\n\u001b[0;32m--> 324\u001b[0m                 \u001b[43mmodel\u001b[49m\u001b[38;5;241;43m.\u001b[39;49m\u001b[43mrewards\u001b[49m\u001b[43m[\u001b[49m\u001b[43mindex\u001b[49m\u001b[43m]\u001b[49m\u001b[38;5;241;43m.\u001b[39;49m\u001b[43mset_state_action_reward\u001b[49m\u001b[43m(\u001b[49m\n\u001b[1;32m    325\u001b[0m \u001b[43m                    \u001b[49m\u001b[43ms\u001b[49m\u001b[43m,\u001b[49m\n\u001b[1;32m    326\u001b[0m \u001b[43m                    \u001b[49m\u001b[43ma\u001b[49m\u001b[43m,\u001b[49m\n\u001b[1;32m    327\u001b[0m \u001b[43m                    \u001b[49m\u001b[43mreward\u001b[49m\u001b[43m[\u001b[49m\u001b[38;5;241;43m1\u001b[39;49m\u001b[43m]\u001b[49m\u001b[43m,\u001b[49m\n\u001b[1;32m    328\u001b[0m \u001b[43m                \u001b[49m\u001b[43m)\u001b[49m\n\u001b[1;32m    329\u001b[0m \u001b[38;5;28;01melse\u001b[39;00m:\n\u001b[1;32m    330\u001b[0m     \u001b[38;5;66;03m# we first create the right number of reward models\u001b[39;00m\n\u001b[1;32m    331\u001b[0m     rewards \u001b[38;5;241m=\u001b[39m cast(Callable[[Any], \u001b[38;5;28mdict\u001b[39m[\u001b[38;5;28mstr\u001b[39m, \u001b[38;5;28mfloat\u001b[39m]], rewards)\n",
      "File \u001b[0;32m~/repositories/stormvogel/stormvogel/model.py:434\u001b[0m, in \u001b[0;36mRewardModel.set_state_action_reward\u001b[0;34m(self, state, action, value, auto_update_rewards)\u001b[0m\n\u001b[1;32m    432\u001b[0m         \u001b[38;5;28mself\u001b[39m\u001b[38;5;241m.\u001b[39mrewards[state\u001b[38;5;241m.\u001b[39mid, action] \u001b[38;5;241m=\u001b[39m value\n\u001b[1;32m    433\u001b[0m     \u001b[38;5;28;01melse\u001b[39;00m:\n\u001b[0;32m--> 434\u001b[0m         \u001b[38;5;28;01mraise\u001b[39;00m \u001b[38;5;167;01mRuntimeError\u001b[39;00m(\u001b[38;5;124m\"\u001b[39m\u001b[38;5;124mThis action is not available in this state\u001b[39m\u001b[38;5;124m\"\u001b[39m)\n\u001b[1;32m    435\u001b[0m \u001b[38;5;28;01melse\u001b[39;00m:\n\u001b[1;32m    436\u001b[0m     \u001b[38;5;28;01mraise\u001b[39;00m \u001b[38;5;167;01mRuntimeError\u001b[39;00m(\n\u001b[1;32m    437\u001b[0m         \u001b[38;5;124m\"\u001b[39m\u001b[38;5;124mThe model this rewardmodel belongs to does not support actions\u001b[39m\u001b[38;5;124m\"\u001b[39m\n\u001b[1;32m    438\u001b[0m     )\n",
      "\u001b[0;31mRuntimeError\u001b[0m: This action is not available in this state"
     ]
    }
   ],
   "source": [
    "env = gym.make(\"Blackjack-v1\", render_mode=\"rgb_array\")\n",
    "model = sample_gym(env, no_samples=10)\n",
    "print(model)\n",
    "#show(model)"
   ]
  },
  {
   "cell_type": "code",
   "execution_count": null,
   "id": "5f95e136-3e39-4d90-8f3c-8191a90cc255",
   "metadata": {},
   "outputs": [],
   "source": []
  },
  {
   "cell_type": "code",
   "execution_count": null,
   "id": "b4c3f7ea-7b75-442f-a09e-92a1b2763023",
   "metadata": {},
   "outputs": [],
   "source": []
  }
 ],
 "metadata": {
  "kernelspec": {
   "display_name": "Python 3 (ipykernel)",
   "language": "python",
   "name": "python3"
  },
  "language_info": {
   "codemirror_mode": {
    "name": "ipython",
    "version": 3
   },
   "file_extension": ".py",
   "mimetype": "text/x-python",
   "name": "python",
   "nbconvert_exporter": "python",
   "pygments_lexer": "ipython3",
   "version": "3.12.7"
  }
 },
 "nbformat": 4,
 "nbformat_minor": 5
}
